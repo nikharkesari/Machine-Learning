{
 "cells": [
  {
   "cell_type": "code",
   "execution_count": 1,
   "metadata": {},
   "outputs": [],
   "source": [
    "import numpy as np\n",
    "import pandas as pd"
   ]
  },
  {
   "cell_type": "code",
   "execution_count": 2,
   "metadata": {},
   "outputs": [
    {
     "output_type": "execute_result",
     "data": {
      "text/plain": [
       "          Order ID                                Product Name  Discount  \\\n",
       "0  AZ-2011-1029887  Novimex Color Coded Labels, 5000 Label Set       0.0   \n",
       "1   AZ-2011-107716              Deflect-O Door Stop, Erganomic       0.0   \n",
       "2  AZ-2011-1087704               Belkin Flash Drive, Bluetooth       0.0   \n",
       "3  AZ-2011-1372644                  Panasonic Printer, Durable       0.0   \n",
       "4  AZ-2011-1362199                   Sanford Pens, Fluorescent       0.5   \n",
       "\n",
       "   Sales  Profit  Quantity         Category Sub-Category  \n",
       "0     26       7         2  Office Supplies       Labels  \n",
       "1     85      15         2        Furniture  Furnishings  \n",
       "2    294     109         7       Technology  Accessories  \n",
       "3    800     168         3       Technology     Machines  \n",
       "4     25     -11         4  Office Supplies          Art  "
      ],
      "text/html": "<div>\n<style scoped>\n    .dataframe tbody tr th:only-of-type {\n        vertical-align: middle;\n    }\n\n    .dataframe tbody tr th {\n        vertical-align: top;\n    }\n\n    .dataframe thead th {\n        text-align: right;\n    }\n</style>\n<table border=\"1\" class=\"dataframe\">\n  <thead>\n    <tr style=\"text-align: right;\">\n      <th></th>\n      <th>Order ID</th>\n      <th>Product Name</th>\n      <th>Discount</th>\n      <th>Sales</th>\n      <th>Profit</th>\n      <th>Quantity</th>\n      <th>Category</th>\n      <th>Sub-Category</th>\n    </tr>\n  </thead>\n  <tbody>\n    <tr>\n      <th>0</th>\n      <td>AZ-2011-1029887</td>\n      <td>Novimex Color Coded Labels, 5000 Label Set</td>\n      <td>0.0</td>\n      <td>26</td>\n      <td>7</td>\n      <td>2</td>\n      <td>Office Supplies</td>\n      <td>Labels</td>\n    </tr>\n    <tr>\n      <th>1</th>\n      <td>AZ-2011-107716</td>\n      <td>Deflect-O Door Stop, Erganomic</td>\n      <td>0.0</td>\n      <td>85</td>\n      <td>15</td>\n      <td>2</td>\n      <td>Furniture</td>\n      <td>Furnishings</td>\n    </tr>\n    <tr>\n      <th>2</th>\n      <td>AZ-2011-1087704</td>\n      <td>Belkin Flash Drive, Bluetooth</td>\n      <td>0.0</td>\n      <td>294</td>\n      <td>109</td>\n      <td>7</td>\n      <td>Technology</td>\n      <td>Accessories</td>\n    </tr>\n    <tr>\n      <th>3</th>\n      <td>AZ-2011-1372644</td>\n      <td>Panasonic Printer, Durable</td>\n      <td>0.0</td>\n      <td>800</td>\n      <td>168</td>\n      <td>3</td>\n      <td>Technology</td>\n      <td>Machines</td>\n    </tr>\n    <tr>\n      <th>4</th>\n      <td>AZ-2011-1362199</td>\n      <td>Sanford Pens, Fluorescent</td>\n      <td>0.5</td>\n      <td>25</td>\n      <td>-11</td>\n      <td>4</td>\n      <td>Office Supplies</td>\n      <td>Art</td>\n    </tr>\n  </tbody>\n</table>\n</div>"
     },
     "metadata": {},
     "execution_count": 2
    }
   ],
   "source": [
    "df=pd.read_csv('MegaMart_sales.csv')\n",
    "df.head()"
   ]
  },
  {
   "cell_type": "code",
   "execution_count": 3,
   "metadata": {},
   "outputs": [
    {
     "output_type": "execute_result",
     "data": {
      "text/plain": [
       "          Order ID                         Product Name  Discount  Sales  \\\n",
       "0  AZ-2011-1902971  Wilson Jones Binding Machine, Clear       0.0    339   \n",
       "1  AZ-2011-1916360        Dania 3-Shelf Cabinet, Mobile       0.0    288   \n",
       "2  AZ-2011-1916555          Eldon Folders, Single Width       0.4     61   \n",
       "3  AZ-2011-1930058          Sanford Markers, Easy-Erase       0.0     71   \n",
       "4  AZ-2011-1967754         Logitech Numeric Keypad, USB       0.0     93   \n",
       "\n",
       "   Profit  Quantity         Category Sub-Category  \n",
       "0     102         7  Office Supplies      Binders  \n",
       "1      20         2        Furniture    Bookcases  \n",
       "2       7         6  Office Supplies      Storage  \n",
       "3       1         3  Office Supplies          Art  \n",
       "4      40         2       Technology  Accessories  "
      ],
      "text/html": "<div>\n<style scoped>\n    .dataframe tbody tr th:only-of-type {\n        vertical-align: middle;\n    }\n\n    .dataframe tbody tr th {\n        vertical-align: top;\n    }\n\n    .dataframe thead th {\n        text-align: right;\n    }\n</style>\n<table border=\"1\" class=\"dataframe\">\n  <thead>\n    <tr style=\"text-align: right;\">\n      <th></th>\n      <th>Order ID</th>\n      <th>Product Name</th>\n      <th>Discount</th>\n      <th>Sales</th>\n      <th>Profit</th>\n      <th>Quantity</th>\n      <th>Category</th>\n      <th>Sub-Category</th>\n    </tr>\n  </thead>\n  <tbody>\n    <tr>\n      <th>0</th>\n      <td>AZ-2011-1902971</td>\n      <td>Wilson Jones Binding Machine, Clear</td>\n      <td>0.0</td>\n      <td>339</td>\n      <td>102</td>\n      <td>7</td>\n      <td>Office Supplies</td>\n      <td>Binders</td>\n    </tr>\n    <tr>\n      <th>1</th>\n      <td>AZ-2011-1916360</td>\n      <td>Dania 3-Shelf Cabinet, Mobile</td>\n      <td>0.0</td>\n      <td>288</td>\n      <td>20</td>\n      <td>2</td>\n      <td>Furniture</td>\n      <td>Bookcases</td>\n    </tr>\n    <tr>\n      <th>2</th>\n      <td>AZ-2011-1916555</td>\n      <td>Eldon Folders, Single Width</td>\n      <td>0.4</td>\n      <td>61</td>\n      <td>7</td>\n      <td>6</td>\n      <td>Office Supplies</td>\n      <td>Storage</td>\n    </tr>\n    <tr>\n      <th>3</th>\n      <td>AZ-2011-1930058</td>\n      <td>Sanford Markers, Easy-Erase</td>\n      <td>0.0</td>\n      <td>71</td>\n      <td>1</td>\n      <td>3</td>\n      <td>Office Supplies</td>\n      <td>Art</td>\n    </tr>\n    <tr>\n      <th>4</th>\n      <td>AZ-2011-1967754</td>\n      <td>Logitech Numeric Keypad, USB</td>\n      <td>0.0</td>\n      <td>93</td>\n      <td>40</td>\n      <td>2</td>\n      <td>Technology</td>\n      <td>Accessories</td>\n    </tr>\n  </tbody>\n</table>\n</div>"
     },
     "metadata": {},
     "execution_count": 3
    }
   ],
   "source": [
    "df_new=pd.read_csv('MegaMart_newsales.csv')\n",
    "df_new.head()"
   ]
  },
  {
   "cell_type": "markdown",
   "metadata": {},
   "source": [
    "#### Combining two data frames\n",
    "Question 1: Some of the orders are stored in another csv file named `megamart_new sales`. Read the csv file, store it in a data frame and add it to the `megamart_sales` data frame. Find the total sales value of the category 'Office Supplies'  after combining the dataframes\n",
    "\n",
    "    a)7970\n",
    "    b)6964\n",
    "    c)7494\n",
    "    d)6076"
   ]
  },
  {
   "cell_type": "code",
   "execution_count": 4,
   "metadata": {},
   "outputs": [
    {
     "output_type": "execute_result",
     "data": {
      "text/plain": [
       "Category\n",
       "Furniture          2460\n",
       "Office Supplies    7970\n",
       "Technology         8588\n",
       "Name: Sales, dtype: int64"
      ]
     },
     "metadata": {},
     "execution_count": 4
    }
   ],
   "source": [
    "#your code here\n",
    "df=pd.concat([df,df_new],axis=0,ignore_index=True) \n",
    "df.groupby(by='Category').Sales.sum()"
   ]
  },
  {
   "cell_type": "markdown",
   "metadata": {},
   "source": [
    "#### Dropping duplicates\n",
    "Question 2: There are some duplicate rows in the data frame. Drop these rows and calculate the total sales value of the category Office Supplies.\n",
    "\n",
    "    a)7156\n",
    "    b)6496\n",
    "    c)6964\n",
    "    d)6023"
   ]
  },
  {
   "cell_type": "code",
   "execution_count": 5,
   "metadata": {},
   "outputs": [
    {
     "output_type": "execute_result",
     "data": {
      "text/plain": [
       "Category\n",
       "Furniture          2460\n",
       "Office Supplies    6964\n",
       "Technology         7494\n",
       "Name: Sales, dtype: int64"
      ]
     },
     "metadata": {},
     "execution_count": 5
    }
   ],
   "source": [
    "#your code here\n",
    "df.drop_duplicates(inplace=True)\n",
    "df.groupby(by='Category').Sales.sum()"
   ]
  },
  {
   "cell_type": "markdown",
   "metadata": {},
   "source": [
    "#### Best category-sub category \n",
    "Question 3: Find the most profitable category and sub category combination based on the net profit.\n",
    "\n",
    "\n",
    "    a)Furniture-Bookcases\n",
    "    b)Office supplies-Appliances\n",
    "    c)Office supplies-Storage\n",
    "    d)Technology-Phones"
   ]
  },
  {
   "cell_type": "code",
   "execution_count": 6,
   "metadata": {},
   "outputs": [
    {
     "output_type": "execute_result",
     "data": {
      "text/plain": [
       "Category         Sub-Category\n",
       "Furniture        Bookcases        308\n",
       "                 Chairs           -49\n",
       "                 Furnishings       74\n",
       "Office Supplies  Appliances       229\n",
       "                 Art              275\n",
       "                 Binders          156\n",
       "                 Envelopes         35\n",
       "                 Fasteners         10\n",
       "                 Labels            30\n",
       "                 Paper             15\n",
       "                 Storage          192\n",
       "                 Supplies         103\n",
       "Technology       Accessories      215\n",
       "                 Copiers            0\n",
       "                 Machines         168\n",
       "                 Phones          1618\n",
       "Name: Profit, dtype: int64"
      ]
     },
     "metadata": {},
     "execution_count": 6
    }
   ],
   "source": [
    "#your code here\n",
    "df.groupby(by=['Category','Sub-Category'])['Profit'].sum()\n"
   ]
  },
  {
   "cell_type": "markdown",
   "metadata": {},
   "source": [
    "#### Invalid order IDs\n",
    "Question 4: How many invalid order IDs are there in the data frame. An order id is of the form AZ-2011-Y where Y represents a whole number. A Order ID is said to be valid only if Y consists of 7 digits. Find the number of valid order order IDs in the data frame.\n",
    "    \n",
    "    a)6\n",
    "    b)7\n",
    "    c)8\n",
    "    d)9\n"
   ]
  },
  {
   "cell_type": "code",
   "execution_count": 7,
   "metadata": {},
   "outputs": [
    {
     "output_type": "execute_result",
     "data": {
      "text/plain": [
       "7    54\n",
       "6     7\n",
       "Name: no_of_digits, dtype: int64"
      ]
     },
     "metadata": {},
     "execution_count": 7
    }
   ],
   "source": [
    "#your code here\n",
    "df['Order no']=df['Order ID'].str.split('-')\n",
    "df['Order no']=df['Order no'].apply(lambda x: x[2])\n",
    "df['no_of_digits']=df['Order no'].apply(lambda x: len(x))\n",
    "df['no_of_digits'].value_counts()"
   ]
  },
  {
   "cell_type": "markdown",
   "metadata": {},
   "source": [
    "#### Occurence of furniture in top 25 sales\n",
    "Question 5: Find the top 25 orders based on sales value and find the number of orders which belong to furniture category.\n",
    "\n",
    "    a)2\n",
    "    b)3\n",
    "    c)4\n",
    "    d)5 "
   ]
  },
  {
   "cell_type": "code",
   "execution_count": 8,
   "metadata": {},
   "outputs": [
    {
     "output_type": "execute_result",
     "data": {
      "text/plain": [
       "5"
      ]
     },
     "metadata": {},
     "execution_count": 8
    }
   ],
   "source": [
    "#your code here\n",
    "top25=df.sort_values(by='Sales',ascending=False)[:25]\n",
    "len(top25[top25['Category']=='Furniture'])"
   ]
  },
  {
   "cell_type": "markdown",
   "metadata": {},
   "source": [
    "#### And operation\n",
    "Question 6: Among the orders with sales>250 and profit>50, find the product name of the fourth highest order based on sales value.\n",
    "\n",
    "    a)Motorola Headset, with Caller ID\n",
    "    b)Panasonic Printer, Durable\t\n",
    "    c)Hoover Microwave, Red\t\n",
    "    d)Fellowes Lockers, Industrial\t"
   ]
  },
  {
   "cell_type": "code",
   "execution_count": 9,
   "metadata": {},
   "outputs": [
    {
     "output_type": "execute_result",
     "data": {
      "text/plain": [
       "Order ID                         AZ-2011-1322840\n",
       "Product Name    Motorola Headset, with Caller ID\n",
       "Discount                                     0.0\n",
       "Sales                                        957\n",
       "Profit                                       316\n",
       "Quantity                                      12\n",
       "Category                              Technology\n",
       "Sub-Category                              Phones\n",
       "Order no                                 1322840\n",
       "no_of_digits                                   7\n",
       "Name: 20, dtype: object"
      ]
     },
     "metadata": {},
     "execution_count": 9
    }
   ],
   "source": [
    "#your code here\n",
    "top25[(top25.Sales>250)&(top25.Profit>50)].iloc[3]\n"
   ]
  },
  {
   "cell_type": "markdown",
   "metadata": {},
   "source": [
    "#### Column manipulation\n",
    "Question 7: Remove the orders with negative profit by dropping the corresponding rows with negative `Profit`. Find the product that makes the lowest profit per Quantity in the Technology category.\n",
    "\n",
    "    a) Nokia Audio Dock, with Caller ID\n",
    "    b) Logitech Keyboard, Programmable\n",
    "    c) Motorola Headset, with Caller ID\n",
    "    d) Belkin Flash Drive, Bluetooth"
   ]
  },
  {
   "cell_type": "code",
   "execution_count": 10,
   "metadata": {},
   "outputs": [
    {
     "output_type": "execute_result",
     "data": {
      "text/plain": [
       "           Order ID                      Product Name  Discount  Sales  \\\n",
       "39  AZ-2011-1536006   Logitech Keyboard, Programmable       0.0    666   \n",
       "2   AZ-2011-1087704     Belkin Flash Drive, Bluetooth       0.0    294   \n",
       "63  AZ-2011-1967754      Logitech Numeric Keypad, USB       0.0     93   \n",
       "8   AZ-2011-1174243  Nokia Audio Dock, with Caller ID       0.0   1334   \n",
       "20  AZ-2011-1322840  Motorola Headset, with Caller ID       0.0    957   \n",
       "3   AZ-2011-1372644        Panasonic Printer, Durable       0.0    800   \n",
       "52  AZ-2011-1722024            Cisco Audio Dock, VoIP       0.0    364   \n",
       "33  AZ-2011-1445262       Apple Smart Phone, Cordless       0.0    636   \n",
       "30  AZ-2011-1410648      Nokia Smart Phone, Full Size       0.0   1908   \n",
       "\n",
       "    Profit  Quantity    Category Sub-Category Order no  no_of_digits  \\\n",
       "39      66         9  Technology  Accessories  1536006             7   \n",
       "2      109         7  Technology  Accessories  1087704             7   \n",
       "63      40         2  Technology  Accessories  1967754             7   \n",
       "8      200         8  Technology       Phones  1174243             7   \n",
       "20     316        12  Technology       Phones  1322840             7   \n",
       "3      168         3  Technology     Machines  1372644             7   \n",
       "52     142         2  Technology       Phones  1722024             7   \n",
       "33     140         1  Technology       Phones  1445262             7   \n",
       "30     820         3  Technology       Phones  1410648             7   \n",
       "\n",
       "    Profit per Quantity  \n",
       "39             7.333333  \n",
       "2             15.571429  \n",
       "63            20.000000  \n",
       "8             25.000000  \n",
       "20            26.333333  \n",
       "3             56.000000  \n",
       "52            71.000000  \n",
       "33           140.000000  \n",
       "30           273.333333  "
      ],
      "text/html": "<div>\n<style scoped>\n    .dataframe tbody tr th:only-of-type {\n        vertical-align: middle;\n    }\n\n    .dataframe tbody tr th {\n        vertical-align: top;\n    }\n\n    .dataframe thead th {\n        text-align: right;\n    }\n</style>\n<table border=\"1\" class=\"dataframe\">\n  <thead>\n    <tr style=\"text-align: right;\">\n      <th></th>\n      <th>Order ID</th>\n      <th>Product Name</th>\n      <th>Discount</th>\n      <th>Sales</th>\n      <th>Profit</th>\n      <th>Quantity</th>\n      <th>Category</th>\n      <th>Sub-Category</th>\n      <th>Order no</th>\n      <th>no_of_digits</th>\n      <th>Profit per Quantity</th>\n    </tr>\n  </thead>\n  <tbody>\n    <tr>\n      <th>39</th>\n      <td>AZ-2011-1536006</td>\n      <td>Logitech Keyboard, Programmable</td>\n      <td>0.0</td>\n      <td>666</td>\n      <td>66</td>\n      <td>9</td>\n      <td>Technology</td>\n      <td>Accessories</td>\n      <td>1536006</td>\n      <td>7</td>\n      <td>7.333333</td>\n    </tr>\n    <tr>\n      <th>2</th>\n      <td>AZ-2011-1087704</td>\n      <td>Belkin Flash Drive, Bluetooth</td>\n      <td>0.0</td>\n      <td>294</td>\n      <td>109</td>\n      <td>7</td>\n      <td>Technology</td>\n      <td>Accessories</td>\n      <td>1087704</td>\n      <td>7</td>\n      <td>15.571429</td>\n    </tr>\n    <tr>\n      <th>63</th>\n      <td>AZ-2011-1967754</td>\n      <td>Logitech Numeric Keypad, USB</td>\n      <td>0.0</td>\n      <td>93</td>\n      <td>40</td>\n      <td>2</td>\n      <td>Technology</td>\n      <td>Accessories</td>\n      <td>1967754</td>\n      <td>7</td>\n      <td>20.000000</td>\n    </tr>\n    <tr>\n      <th>8</th>\n      <td>AZ-2011-1174243</td>\n      <td>Nokia Audio Dock, with Caller ID</td>\n      <td>0.0</td>\n      <td>1334</td>\n      <td>200</td>\n      <td>8</td>\n      <td>Technology</td>\n      <td>Phones</td>\n      <td>1174243</td>\n      <td>7</td>\n      <td>25.000000</td>\n    </tr>\n    <tr>\n      <th>20</th>\n      <td>AZ-2011-1322840</td>\n      <td>Motorola Headset, with Caller ID</td>\n      <td>0.0</td>\n      <td>957</td>\n      <td>316</td>\n      <td>12</td>\n      <td>Technology</td>\n      <td>Phones</td>\n      <td>1322840</td>\n      <td>7</td>\n      <td>26.333333</td>\n    </tr>\n    <tr>\n      <th>3</th>\n      <td>AZ-2011-1372644</td>\n      <td>Panasonic Printer, Durable</td>\n      <td>0.0</td>\n      <td>800</td>\n      <td>168</td>\n      <td>3</td>\n      <td>Technology</td>\n      <td>Machines</td>\n      <td>1372644</td>\n      <td>7</td>\n      <td>56.000000</td>\n    </tr>\n    <tr>\n      <th>52</th>\n      <td>AZ-2011-1722024</td>\n      <td>Cisco Audio Dock, VoIP</td>\n      <td>0.0</td>\n      <td>364</td>\n      <td>142</td>\n      <td>2</td>\n      <td>Technology</td>\n      <td>Phones</td>\n      <td>1722024</td>\n      <td>7</td>\n      <td>71.000000</td>\n    </tr>\n    <tr>\n      <th>33</th>\n      <td>AZ-2011-1445262</td>\n      <td>Apple Smart Phone, Cordless</td>\n      <td>0.0</td>\n      <td>636</td>\n      <td>140</td>\n      <td>1</td>\n      <td>Technology</td>\n      <td>Phones</td>\n      <td>1445262</td>\n      <td>7</td>\n      <td>140.000000</td>\n    </tr>\n    <tr>\n      <th>30</th>\n      <td>AZ-2011-1410648</td>\n      <td>Nokia Smart Phone, Full Size</td>\n      <td>0.0</td>\n      <td>1908</td>\n      <td>820</td>\n      <td>3</td>\n      <td>Technology</td>\n      <td>Phones</td>\n      <td>1410648</td>\n      <td>7</td>\n      <td>273.333333</td>\n    </tr>\n  </tbody>\n</table>\n</div>"
     },
     "metadata": {},
     "execution_count": 10
    }
   ],
   "source": [
    "#your code here\n",
    "df['Profit per Quantity']=df['Profit']/df['Quantity']\n",
    "df[(df.Profit>0)&(df.Category=='Technology')].sort_values(by='Profit per Quantity')\n"
   ]
  },
  {
   "cell_type": "code",
   "execution_count": null,
   "metadata": {},
   "outputs": [],
   "source": []
  }
 ],
 "metadata": {
  "kernelspec": {
   "name": "python3",
   "display_name": "Python 3.9.1 64-bit"
  },
  "language_info": {
   "codemirror_mode": {
    "name": "ipython",
    "version": 3
   },
   "file_extension": ".py",
   "mimetype": "text/x-python",
   "name": "python",
   "nbconvert_exporter": "python",
   "pygments_lexer": "ipython3",
   "version": "3.9.1"
  },
  "interpreter": {
   "hash": "7675d0e63ec7415c5dbace68f8d7c4b2779c413b4c07fbad1925e2ff0d5375c0"
  }
 },
 "nbformat": 4,
 "nbformat_minor": 2
}