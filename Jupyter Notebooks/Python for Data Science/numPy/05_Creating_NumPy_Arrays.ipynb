{
 "cells": [
  {
   "cell_type": "markdown",
   "metadata": {},
   "source": [
    "# Creating NumPy Arrays \n",
    "\n",
    "There are multiple ways to create numpy arrays, the most commmon ones being:\n",
    "* Convert lists or tuples to arrays using ```np.array()```\n",
    "* Initialise arrays of fixed size (when the size is known) "
   ]
  },
  {
   "cell_type": "markdown",
   "metadata": {},
   "source": [
    "The following ways are commonly used:\n",
    "* ```np.ones()```: Create array of 1s\n",
    "* ```np.zeros()```: Create array of 0s\n",
    "* ```np.arange()```: Create array with increments of a fixed step size\n",
    "* ```np.linspace()```: Create array of fixed length"
   ]
  },
  {
   "cell_type": "code",
   "execution_count": 1,
   "metadata": {},
   "outputs": [],
   "source": [
    "# importing the NumPy library\n",
    "\n",
    "import numpy as np"
   ]
  },
  {
   "cell_type": "code",
   "execution_count": 34,
   "metadata": {},
   "outputs": [],
   "source": [
    "# creating an array with 4 elements and increments of a fixed step size\n",
    "# default step size is one\n",
    "np_1 = np.arange(1,6)\n",
    "\n",
    "\n",
    "# creating an array of zeroes with 5 elements\n",
    "np_2 = np.zeros(5)"
   ]
  },
  {
   "cell_type": "code",
   "execution_count": 14,
   "metadata": {},
   "outputs": [
    {
     "output_type": "stream",
     "name": "stdout",
     "text": [
      "[1 2 3 4 5]\n"
     ]
    }
   ],
   "source": [
    "# checking the created array: np_1\n",
    "print(np_1)"
   ]
  },
  {
   "cell_type": "code",
   "execution_count": 35,
   "metadata": {},
   "outputs": [
    {
     "output_type": "stream",
     "name": "stdout",
     "text": [
      "[0. 0. 0. 0. 0.]\n"
     ]
    }
   ],
   "source": [
    "# checking the created array:np_2\n",
    "print(np_2)"
   ]
  },
  {
   "cell_type": "code",
   "execution_count": 17,
   "metadata": {},
   "outputs": [
    {
     "output_type": "execute_result",
     "data": {
      "text/plain": [
       "dtype('float64')"
      ]
     },
     "metadata": {},
     "execution_count": 17
    }
   ],
   "source": [
    "# data type of np_2\n",
    "np_2.dtype"
   ]
  },
  {
   "cell_type": "code",
   "execution_count": 38,
   "metadata": {},
   "outputs": [
    {
     "output_type": "execute_result",
     "data": {
      "text/plain": [
       "array([0, 0, 0, 0, 0])"
      ]
     },
     "metadata": {},
     "execution_count": 38
    }
   ],
   "source": [
    "# specifying the data type of the array in the provided attribute\n",
    "\n",
    "np.zeros(5,dtype=\"int\")"
   ]
  },
  {
   "cell_type": "code",
   "execution_count": 39,
   "metadata": {},
   "outputs": [
    {
     "output_type": "stream",
     "name": "stdout",
     "text": [
      "[1. 2. 3. 4. 5.]\n"
     ]
    }
   ],
   "source": [
    "# adding the two arrays: np_1 and np_2\n",
    "print(np_1 + np_2)"
   ]
  },
  {
   "cell_type": "code",
   "execution_count": 27,
   "metadata": {},
   "outputs": [
    {
     "output_type": "execute_result",
     "data": {
      "text/plain": [
       "5"
      ]
     },
     "metadata": {},
     "execution_count": 27
    }
   ],
   "source": [
    "# check the dimension of the arrays\n",
    "# array np_1\n",
    "np_1.size"
   ]
  },
  {
   "cell_type": "code",
   "execution_count": 28,
   "metadata": {},
   "outputs": [
    {
     "output_type": "execute_result",
     "data": {
      "text/plain": [
       "6"
      ]
     },
     "metadata": {},
     "execution_count": 28
    }
   ],
   "source": [
    "# check the dimension of the arrays\n",
    "# array np_2\n",
    "np_2.size\n"
   ]
  },
  {
   "cell_type": "code",
   "execution_count": 30,
   "metadata": {},
   "outputs": [
    {
     "output_type": "stream",
     "name": "stdout",
     "text": [
      "[1 1 1 1 1]\n"
     ]
    }
   ],
   "source": [
    "# creating a third array with all the 5 elements as ones\n",
    "\n",
    "np_3 = np.ones(5,dtype='int')\n",
    "\n",
    "# checking the created array:np_3\n",
    "print(np_3)"
   ]
  },
  {
   "cell_type": "code",
   "execution_count": 32,
   "metadata": {},
   "outputs": [
    {
     "output_type": "execute_result",
     "data": {
      "text/plain": [
       "5"
      ]
     },
     "metadata": {},
     "execution_count": 32
    }
   ],
   "source": [
    "# check the dimension of the arrays\n",
    "# array np_2\n",
    "np_3.size\n"
   ]
  },
  {
   "cell_type": "code",
   "execution_count": 33,
   "metadata": {},
   "outputs": [
    {
     "output_type": "error",
     "ename": "ValueError",
     "evalue": "operands could not be broadcast together with shapes (6,) (5,) ",
     "traceback": [
      "\u001b[1;31m---------------------------------------------------------------------------\u001b[0m",
      "\u001b[1;31mValueError\u001b[0m                                Traceback (most recent call last)",
      "\u001b[1;32m<ipython-input-33-5991587bfcc2>\u001b[0m in \u001b[0;36m<module>\u001b[1;34m\u001b[0m\n\u001b[0;32m      1\u001b[0m \u001b[1;31m# subtracting the array np_3 from array np_2\u001b[0m\u001b[1;33m\u001b[0m\u001b[1;33m\u001b[0m\u001b[1;33m\u001b[0m\u001b[0m\n\u001b[0;32m      2\u001b[0m \u001b[1;33m\u001b[0m\u001b[0m\n\u001b[1;32m----> 3\u001b[1;33m \u001b[0mprint\u001b[0m\u001b[1;33m(\u001b[0m\u001b[0mnp_2\u001b[0m \u001b[1;33m-\u001b[0m \u001b[0mnp_3\u001b[0m\u001b[1;33m)\u001b[0m\u001b[1;33m\u001b[0m\u001b[1;33m\u001b[0m\u001b[0m\n\u001b[0m",
      "\u001b[1;31mValueError\u001b[0m: operands could not be broadcast together with shapes (6,) (5,) "
     ]
    }
   ],
   "source": [
    "# subtracting the array np_3 from array np_2\n",
    "\n",
    "print(np_2 - np_3)"
   ]
  },
  {
   "cell_type": "code",
   "execution_count": 41,
   "metadata": {},
   "outputs": [
    {
     "output_type": "stream",
     "name": "stdout",
     "text": [
      "[ 1.    3.25  5.5   7.75 10.  ]\n"
     ]
    }
   ],
   "source": [
    "# creating an array of fixed length\n",
    "np_4 = np.linspace(1,10,5)\n",
    "\n",
    "# checking the created array:np_4\n",
    "print(np_4)"
   ]
  },
  {
   "cell_type": "code",
   "execution_count": 42,
   "metadata": {},
   "outputs": [
    {
     "output_type": "execute_result",
     "data": {
      "text/plain": [
       "array([1, 2, 3, 4, 5])"
      ]
     },
     "metadata": {},
     "execution_count": 42
    }
   ],
   "source": [
    "# checking the created array:np_1\n",
    "np_1"
   ]
  },
  {
   "cell_type": "code",
   "execution_count": 43,
   "metadata": {},
   "outputs": [
    {
     "output_type": "execute_result",
     "data": {
      "text/plain": [
       "array([ 1,  4,  9, 16, 25], dtype=int32)"
      ]
     },
     "metadata": {},
     "execution_count": 43
    }
   ],
   "source": [
    "# squaring the terms of np_1\n",
    "np.power(np_1,2)"
   ]
  },
  {
   "cell_type": "code",
   "execution_count": 44,
   "metadata": {},
   "outputs": [
    {
     "output_type": "execute_result",
     "data": {
      "text/plain": [
       "array([1, 0, 1, 2, 3])"
      ]
     },
     "metadata": {},
     "execution_count": 44
    }
   ],
   "source": [
    "# getting the absolute value of the elements\n",
    "np.absolute([-1,0,1,2,3])\n"
   ]
  },
  {
   "cell_type": "code",
   "execution_count": null,
   "metadata": {},
   "outputs": [],
   "source": [
    "# np.sin()\n",
    "# np.cos()"
   ]
  },
  {
   "cell_type": "code",
   "execution_count": null,
   "metadata": {},
   "outputs": [],
   "source": [
    "# np.log()"
   ]
  },
  {
   "cell_type": "markdown",
   "metadata": {},
   "source": [
    "### Empty arrays"
   ]
  },
  {
   "cell_type": "code",
   "execution_count": 53,
   "metadata": {},
   "outputs": [
    {
     "output_type": "execute_result",
     "data": {
      "text/plain": [
       "array([ 5, 10, 15, 20, 25])"
      ]
     },
     "metadata": {},
     "execution_count": 53
    }
   ],
   "source": [
    "# Creating empty arrays\n",
    "\n",
    "x = np.arange(1, 6)\n",
    "y = np.empty(5,dtype='int')\n",
    "\n",
    "# filling the empty array\n",
    "np.multiply(x,5,out=y)\n"
   ]
  },
  {
   "cell_type": "code",
   "execution_count": 54,
   "metadata": {},
   "outputs": [
    {
     "output_type": "execute_result",
     "data": {
      "text/plain": [
       "array([ 5, 10, 15, 20, 25])"
      ]
     },
     "metadata": {},
     "execution_count": 54
    }
   ],
   "source": [
    "# printing the output obtained above\n",
    "y"
   ]
  },
  {
   "cell_type": "markdown",
   "metadata": {},
   "source": [
    "### Aggregation of array elements"
   ]
  },
  {
   "cell_type": "code",
   "execution_count": 55,
   "metadata": {},
   "outputs": [
    {
     "output_type": "execute_result",
     "data": {
      "text/plain": [
       "75"
      ]
     },
     "metadata": {},
     "execution_count": 55
    }
   ],
   "source": [
    "# Reducing the elements to a single value based on addition\n",
    "np.add.reduce(y)"
   ]
  },
  {
   "cell_type": "code",
   "execution_count": 56,
   "metadata": {},
   "outputs": [
    {
     "output_type": "execute_result",
     "data": {
      "text/plain": [
       "array([ 5, 15, 30, 50, 75], dtype=int32)"
      ]
     },
     "metadata": {},
     "execution_count": 56
    }
   ],
   "source": [
    "# Cummulative addition of elements at each element\n",
    "np.add.accumulate(y)"
   ]
  },
  {
   "cell_type": "code",
   "execution_count": null,
   "metadata": {},
   "outputs": [],
   "source": [
    "np.linalg"
   ]
  },
  {
   "cell_type": "code",
   "execution_count": 57,
   "metadata": {
    "tags": [
     "outputPrepend"
    ]
   },
   "outputs": [
    {
     "output_type": "stream",
     "name": "stdout",
     "text": [
      "f a\n                             Hermitian matrix.\n        \n        Notes\n        -----\n        The pseudo-inverse of a matrix A, denoted :math:`A^+`, is\n        defined as: \"the matrix that 'solves' [the least-squares problem]\n        :math:`Ax = b`,\" i.e., if :math:`\\bar{x}` is said solution, then\n        :math:`A^+` is that matrix such that :math:`\\bar{x} = A^+b`.\n        \n        It can be shown that if :math:`Q_1 \\Sigma Q_2^T = A` is the singular\n        value decomposition of A, then\n        :math:`A^+ = Q_2 \\Sigma^+ Q_1^T`, where :math:`Q_{1,2}` are\n        orthogonal matrices, :math:`\\Sigma` is a diagonal matrix consisting\n        of A's so-called singular values, (followed, typically, by\n        zeros), and then :math:`\\Sigma^+` is simply the diagonal matrix\n        consisting of the reciprocals of A's singular values\n        (again, followed by zeros). [1]_\n        \n        References\n        ----------\n        .. [1] G. Strang, *Linear Algebra and Its Applications*, 2nd Ed., Orlando,\n               FL, Academic Press, Inc., 1980, pp. 139-142.\n        \n        Examples\n        --------\n        The following example checks that ``a * a+ * a == a`` and\n        ``a+ * a * a+ == a+``:\n        \n        >>> a = np.random.randn(9, 6)\n        >>> B = np.linalg.pinv(a)\n        >>> np.allclose(a, np.dot(a, np.dot(B, a)))\n        True\n        >>> np.allclose(B, np.dot(B, np.dot(a, B)))\n        True\n    \n    qr(a, mode='reduced')\n        Compute the qr factorization of a matrix.\n        \n        Factor the matrix `a` as *qr*, where `q` is orthonormal and `r` is\n        upper-triangular.\n        \n        Parameters\n        ----------\n        a : array_like, shape (M, N)\n            Matrix to be factored.\n        mode : {'reduced', 'complete', 'r', 'raw'}, optional\n            If K = min(M, N), then\n        \n            * 'reduced'  : returns q, r with dimensions (M, K), (K, N) (default)\n            * 'complete' : returns q, r with dimensions (M, M), (M, N)\n            * 'r'        : returns r only with dimensions (K, N)\n            * 'raw'      : returns h, tau with dimensions (N, M), (K,)\n        \n            The options 'reduced', 'complete, and 'raw' are new in numpy 1.8,\n            see the notes for more information. The default is 'reduced', and to\n            maintain backward compatibility with earlier versions of numpy both\n            it and the old default 'full' can be omitted. Note that array h\n            returned in 'raw' mode is transposed for calling Fortran. The\n            'economic' mode is deprecated.  The modes 'full' and 'economic' may\n            be passed using only the first letter for backwards compatibility,\n            but all others must be spelled out. See the Notes for more\n            explanation.\n        \n        \n        Returns\n        -------\n        q : ndarray of float or complex, optional\n            A matrix with orthonormal columns. When mode = 'complete' the\n            result is an orthogonal/unitary matrix depending on whether or not\n            a is real/complex. The determinant may be either +/- 1 in that\n            case.\n        r : ndarray of float or complex, optional\n            The upper-triangular matrix.\n        (h, tau) : ndarrays of np.double or np.cdouble, optional\n            The array h contains the Householder reflectors that generate q\n            along with r. The tau array contains scaling factors for the\n            reflectors. In the deprecated  'economic' mode only h is returned.\n        \n        Raises\n        ------\n        LinAlgError\n            If factoring fails.\n        \n        See Also\n        --------\n        scipy.linalg.qr : Similar function in SciPy.\n        scipy.linalg.rq : Compute RQ decomposition of a matrix.\n        \n        Notes\n        -----\n        This is an interface to the LAPACK routines ``dgeqrf``, ``zgeqrf``,\n        ``dorgqr``, and ``zungqr``.\n        \n        For more information on the qr factorization, see for example:\n        https://en.wikipedia.org/wiki/QR_factorization\n        \n        Subclasses of `ndarray` are preserved except for the 'raw' mode. So if\n        `a` is of type `matrix`, all the return values will be matrices too.\n        \n        New 'reduced', 'complete', and 'raw' options for mode were added in\n        NumPy 1.8.0 and the old option 'full' was made an alias of 'reduced'.  In\n        addition the options 'full' and 'economic' were deprecated.  Because\n        'full' was the previous default and 'reduced' is the new default,\n        backward compatibility can be maintained by letting `mode` default.\n        The 'raw' option was added so that LAPACK routines that can multiply\n        arrays by q using the Householder reflectors can be used. Note that in\n        this case the returned arrays are of type np.double or np.cdouble and\n        the h array is transposed to be FORTRAN compatible.  No routines using\n        the 'raw' return are currently exposed by numpy, but some are available\n        in lapack_lite and just await the necessary work.\n        \n        Examples\n        --------\n        >>> a = np.random.randn(9, 6)\n        >>> q, r = np.linalg.qr(a)\n        >>> np.allclose(a, np.dot(q, r))  # a does equal qr\n        True\n        >>> r2 = np.linalg.qr(a, mode='r')\n        >>> np.allclose(r, r2)  # mode='r' returns the same r as mode='full'\n        True\n        \n        Example illustrating a common use of `qr`: solving of least squares\n        problems\n        \n        What are the least-squares-best `m` and `y0` in ``y = y0 + mx`` for\n        the following data: {(0,1), (1,0), (1,2), (2,1)}. (Graph the points\n        and you'll see that it should be y0 = 0, m = 1.)  The answer is provided\n        by solving the over-determined matrix equation ``Ax = b``, where::\n        \n          A = array([[0, 1], [1, 1], [1, 1], [2, 1]])\n          x = array([[y0], [m]])\n          b = array([[1], [0], [2], [1]])\n        \n        If A = qr such that q is orthonormal (which is always possible via\n        Gram-Schmidt), then ``x = inv(r) * (q.T) * b``.  (In numpy practice,\n        however, we simply use `lstsq`.)\n        \n        >>> A = np.array([[0, 1], [1, 1], [1, 1], [2, 1]])\n        >>> A\n        array([[0, 1],\n               [1, 1],\n               [1, 1],\n               [2, 1]])\n        >>> b = np.array([1, 0, 2, 1])\n        >>> q, r = np.linalg.qr(A)\n        >>> p = np.dot(q.T, b)\n        >>> np.dot(np.linalg.inv(r), p)\n        array([  1.1e-16,   1.0e+00])\n    \n    slogdet(a)\n        Compute the sign and (natural) logarithm of the determinant of an array.\n        \n        If an array has a very small or very large determinant, then a call to\n        `det` may overflow or underflow. This routine is more robust against such\n        issues, because it computes the logarithm of the determinant rather than\n        the determinant itself.\n        \n        Parameters\n        ----------\n        a : (..., M, M) array_like\n            Input array, has to be a square 2-D array.\n        \n        Returns\n        -------\n        sign : (...) array_like\n            A number representing the sign of the determinant. For a real matrix,\n            this is 1, 0, or -1. For a complex matrix, this is a complex number\n            with absolute value 1 (i.e., it is on the unit circle), or else 0.\n        logdet : (...) array_like\n            The natural log of the absolute value of the determinant.\n        \n        If the determinant is zero, then `sign` will be 0 and `logdet` will be\n        -Inf. In all cases, the determinant is equal to ``sign * np.exp(logdet)``.\n        \n        See Also\n        --------\n        det\n        \n        Notes\n        -----\n        \n        .. versionadded:: 1.8.0\n        \n        Broadcasting rules apply, see the `numpy.linalg` documentation for\n        details.\n        \n        .. versionadded:: 1.6.0\n        \n        The determinant is computed via LU factorization using the LAPACK\n        routine ``z/dgetrf``.\n        \n        \n        Examples\n        --------\n        The determinant of a 2-D array ``[[a, b], [c, d]]`` is ``ad - bc``:\n        \n        >>> a = np.array([[1, 2], [3, 4]])\n        >>> (sign, logdet) = np.linalg.slogdet(a)\n        >>> (sign, logdet)\n        (-1, 0.69314718055994529) # may vary\n        >>> sign * np.exp(logdet)\n        -2.0\n        \n        Computing log-determinants for a stack of matrices:\n        \n        >>> a = np.array([ [[1, 2], [3, 4]], [[1, 2], [2, 1]], [[1, 3], [3, 1]] ])\n        >>> a.shape\n        (3, 2, 2)\n        >>> sign, logdet = np.linalg.slogdet(a)\n        >>> (sign, logdet)\n        (array([-1., -1., -1.]), array([ 0.69314718,  1.09861229,  2.07944154]))\n        >>> sign * np.exp(logdet)\n        array([-2., -3., -8.])\n        \n        This routine succeeds where ordinary `det` does not:\n        \n        >>> np.linalg.det(np.eye(500) * 0.1)\n        0.0\n        >>> np.linalg.slogdet(np.eye(500) * 0.1)\n        (1, -1151.2925464970228)\n    \n    solve(a, b)\n        Solve a linear matrix equation, or system of linear scalar equations.\n        \n        Computes the \"exact\" solution, `x`, of the well-determined, i.e., full\n        rank, linear matrix equation `ax = b`.\n        \n        Parameters\n        ----------\n        a : (..., M, M) array_like\n            Coefficient matrix.\n        b : {(..., M,), (..., M, K)}, array_like\n            Ordinate or \"dependent variable\" values.\n        \n        Returns\n        -------\n        x : {(..., M,), (..., M, K)} ndarray\n            Solution to the system a x = b.  Returned shape is identical to `b`.\n        \n        Raises\n        ------\n        LinAlgError\n            If `a` is singular or not square.\n        \n        See Also\n        --------\n        scipy.linalg.solve : Similar function in SciPy.\n        \n        Notes\n        -----\n        \n        .. versionadded:: 1.8.0\n        \n        Broadcasting rules apply, see the `numpy.linalg` documentation for\n        details.\n        \n        The solutions are computed using LAPACK routine ``_gesv``.\n        \n        `a` must be square and of full-rank, i.e., all rows (or, equivalently,\n        columns) must be linearly independent; if either is not true, use\n        `lstsq` for the least-squares best \"solution\" of the\n        system/equation.\n        \n        References\n        ----------\n        .. [1] G. Strang, *Linear Algebra and Its Applications*, 2nd Ed., Orlando,\n               FL, Academic Press, Inc., 1980, pg. 22.\n        \n        Examples\n        --------\n        Solve the system of equations ``x0 + 2 * x1 = 1`` and ``3 * x0 + 5 * x1 = 2``:\n        \n        >>> a = np.array([[1, 2], [3, 5]])\n        >>> b = np.array([1, 2])\n        >>> x = np.linalg.solve(a, b)\n        >>> x\n        array([-1.,  1.])\n        \n        Check that the solution is correct:\n        \n        >>> np.allclose(np.dot(a, x), b)\n        True\n    \n    svd(a, full_matrices=True, compute_uv=True, hermitian=False)\n        Singular Value Decomposition.\n        \n        When `a` is a 2D array, it is factorized as ``u @ np.diag(s) @ vh\n        = (u * s) @ vh``, where `u` and `vh` are 2D unitary arrays and `s` is a 1D\n        array of `a`'s singular values. When `a` is higher-dimensional, SVD is\n        applied in stacked mode as explained below.\n        \n        Parameters\n        ----------\n        a : (..., M, N) array_like\n            A real or complex array with ``a.ndim >= 2``.\n        full_matrices : bool, optional\n            If True (default), `u` and `vh` have the shapes ``(..., M, M)`` and\n            ``(..., N, N)``, respectively.  Otherwise, the shapes are\n            ``(..., M, K)`` and ``(..., K, N)``, respectively, where\n            ``K = min(M, N)``.\n        compute_uv : bool, optional\n            Whether or not to compute `u` and `vh` in addition to `s`.  True\n            by default.\n        hermitian : bool, optional\n            If True, `a` is assumed to be Hermitian (symmetric if real-valued),\n            enabling a more efficient method for finding singular values.\n            Defaults to False.\n        \n            .. versionadded:: 1.17.0\n        \n        Returns\n        -------\n        u : { (..., M, M), (..., M, K) } array\n            Unitary array(s). The first ``a.ndim - 2`` dimensions have the same\n            size as those of the input `a`. The size of the last two dimensions\n            depends on the value of `full_matrices`. Only returned when\n            `compute_uv` is True.\n        s : (..., K) array\n            Vector(s) with the singular values, within each vector sorted in\n            descending order. The first ``a.ndim - 2`` dimensions have the same\n            size as those of the input `a`.\n        vh : { (..., N, N), (..., K, N) } array\n            Unitary array(s). The first ``a.ndim - 2`` dimensions have the same\n            size as those of the input `a`. The size of the last two dimensions\n            depends on the value of `full_matrices`. Only returned when\n            `compute_uv` is True.\n        \n        Raises\n        ------\n        LinAlgError\n            If SVD computation does not converge.\n        \n        See Also\n        --------\n        scipy.linalg.svd : Similar function in SciPy.\n        scipy.linalg.svdvals : Compute singular values of a matrix.\n        \n        Notes\n        -----\n        \n        .. versionchanged:: 1.8.0\n           Broadcasting rules apply, see the `numpy.linalg` documentation for\n           details.\n        \n        The decomposition is performed using LAPACK routine ``_gesdd``.\n        \n        SVD is usually described for the factorization of a 2D matrix :math:`A`.\n        The higher-dimensional case will be discussed below. In the 2D case, SVD is\n        written as :math:`A = U S V^H`, where :math:`A = a`, :math:`U= u`,\n        :math:`S= \\mathtt{np.diag}(s)` and :math:`V^H = vh`. The 1D array `s`\n        contains the singular values of `a` and `u` and `vh` are unitary. The rows\n        of `vh` are the eigenvectors of :math:`A^H A` and the columns of `u` are\n        the eigenvectors of :math:`A A^H`. In both cases the corresponding\n        (possibly non-zero) eigenvalues are given by ``s**2``.\n        \n        If `a` has more than two dimensions, then broadcasting rules apply, as\n        explained in :ref:`routines.linalg-broadcasting`. This means that SVD is\n        working in \"stacked\" mode: it iterates over all indices of the first\n        ``a.ndim - 2`` dimensions and for each combination SVD is applied to the\n        last two indices. The matrix `a` can be reconstructed from the\n        decomposition with either ``(u * s[..., None, :]) @ vh`` or\n        ``u @ (s[..., None] * vh)``. (The ``@`` operator can be replaced by the\n        function ``np.matmul`` for python versions below 3.5.)\n        \n        If `a` is a ``matrix`` object (as opposed to an ``ndarray``), then so are\n        all the return values.\n        \n        Examples\n        --------\n        >>> a = np.random.randn(9, 6) + 1j*np.random.randn(9, 6)\n        >>> b = np.random.randn(2, 7, 8, 3) + 1j*np.random.randn(2, 7, 8, 3)\n        \n        Reconstruction based on full SVD, 2D case:\n        \n        >>> u, s, vh = np.linalg.svd(a, full_matrices=True)\n        >>> u.shape, s.shape, vh.shape\n        ((9, 9), (6,), (6, 6))\n        >>> np.allclose(a, np.dot(u[:, :6] * s, vh))\n        True\n        >>> smat = np.zeros((9, 6), dtype=complex)\n        >>> smat[:6, :6] = np.diag(s)\n        >>> np.allclose(a, np.dot(u, np.dot(smat, vh)))\n        True\n        \n        Reconstruction based on reduced SVD, 2D case:\n        \n        >>> u, s, vh = np.linalg.svd(a, full_matrices=False)\n        >>> u.shape, s.shape, vh.shape\n        ((9, 6), (6,), (6, 6))\n        >>> np.allclose(a, np.dot(u * s, vh))\n        True\n        >>> smat = np.diag(s)\n        >>> np.allclose(a, np.dot(u, np.dot(smat, vh)))\n        True\n        \n        Reconstruction based on full SVD, 4D case:\n        \n        >>> u, s, vh = np.linalg.svd(b, full_matrices=True)\n        >>> u.shape, s.shape, vh.shape\n        ((2, 7, 8, 8), (2, 7, 3), (2, 7, 3, 3))\n        >>> np.allclose(b, np.matmul(u[..., :3] * s[..., None, :], vh))\n        True\n        >>> np.allclose(b, np.matmul(u[..., :3], s[..., None] * vh))\n        True\n        \n        Reconstruction based on reduced SVD, 4D case:\n        \n        >>> u, s, vh = np.linalg.svd(b, full_matrices=False)\n        >>> u.shape, s.shape, vh.shape\n        ((2, 7, 8, 3), (2, 7, 3), (2, 7, 3, 3))\n        >>> np.allclose(b, np.matmul(u * s[..., None, :], vh))\n        True\n        >>> np.allclose(b, np.matmul(u, s[..., None] * vh))\n        True\n    \n    tensorinv(a, ind=2)\n        Compute the 'inverse' of an N-dimensional array.\n        \n        The result is an inverse for `a` relative to the tensordot operation\n        ``tensordot(a, b, ind)``, i. e., up to floating-point accuracy,\n        ``tensordot(tensorinv(a), a, ind)`` is the \"identity\" tensor for the\n        tensordot operation.\n        \n        Parameters\n        ----------\n        a : array_like\n            Tensor to 'invert'. Its shape must be 'square', i. e.,\n            ``prod(a.shape[:ind]) == prod(a.shape[ind:])``.\n        ind : int, optional\n            Number of first indices that are involved in the inverse sum.\n            Must be a positive integer, default is 2.\n        \n        Returns\n        -------\n        b : ndarray\n            `a`'s tensordot inverse, shape ``a.shape[ind:] + a.shape[:ind]``.\n        \n        Raises\n        ------\n        LinAlgError\n            If `a` is singular or not 'square' (in the above sense).\n        \n        See Also\n        --------\n        numpy.tensordot, tensorsolve\n        \n        Examples\n        --------\n        >>> a = np.eye(4*6)\n        >>> a.shape = (4, 6, 8, 3)\n        >>> ainv = np.linalg.tensorinv(a, ind=2)\n        >>> ainv.shape\n        (8, 3, 4, 6)\n        >>> b = np.random.randn(4, 6)\n        >>> np.allclose(np.tensordot(ainv, b), np.linalg.tensorsolve(a, b))\n        True\n        \n        >>> a = np.eye(4*6)\n        >>> a.shape = (24, 8, 3)\n        >>> ainv = np.linalg.tensorinv(a, ind=1)\n        >>> ainv.shape\n        (8, 3, 24)\n        >>> b = np.random.randn(24)\n        >>> np.allclose(np.tensordot(ainv, b, 1), np.linalg.tensorsolve(a, b))\n        True\n    \n    tensorsolve(a, b, axes=None)\n        Solve the tensor equation ``a x = b`` for x.\n        \n        It is assumed that all indices of `x` are summed over in the product,\n        together with the rightmost indices of `a`, as is done in, for example,\n        ``tensordot(a, x, axes=b.ndim)``.\n        \n        Parameters\n        ----------\n        a : array_like\n            Coefficient tensor, of shape ``b.shape + Q``. `Q`, a tuple, equals\n            the shape of that sub-tensor of `a` consisting of the appropriate\n            number of its rightmost indices, and must be such that\n            ``prod(Q) == prod(b.shape)`` (in which sense `a` is said to be\n            'square').\n        b : array_like\n            Right-hand tensor, which can be of any shape.\n        axes : tuple of ints, optional\n            Axes in `a` to reorder to the right, before inversion.\n            If None (default), no reordering is done.\n        \n        Returns\n        -------\n        x : ndarray, shape Q\n        \n        Raises\n        ------\n        LinAlgError\n            If `a` is singular or not 'square' (in the above sense).\n        \n        See Also\n        --------\n        numpy.tensordot, tensorinv, numpy.einsum\n        \n        Examples\n        --------\n        >>> a = np.eye(2*3*4)\n        >>> a.shape = (2*3, 4, 2, 3, 4)\n        >>> b = np.random.randn(2*3, 4)\n        >>> x = np.linalg.tensorsolve(a, b)\n        >>> x.shape\n        (2, 3, 4)\n        >>> np.allclose(np.tensordot(a, x, axes=3), b)\n        True\n\nDATA\n    test = <numpy._pytesttester.PytestTester object>\n\nFILE\n    c:\\users\\kingn\\appdata\\local\\programs\\python\\python39\\lib\\site-packages\\numpy\\linalg\\__init__.py\n\n\n"
     ]
    }
   ],
   "source": [
    "help(np.linalg)"
   ]
  },
  {
   "cell_type": "markdown",
   "metadata": {},
   "source": [
    "## Additional functions to initialize arrays in NumPy\n",
    "\n",
    "Apart from the methods mentioned above, there are a few more NumPy functions that you can use to create special NumPy arrays:\n",
    "\n",
    "-  `np.full()`: Create a constant array of any number ‘n’\n",
    "-  `np.tile()`: Create a new array by repeating an existing array for a particular number of times\n",
    "-  `np.eye()`: Create an identity matrix of any dimension\n",
    "* ```np.random.random()```: Create array of random numbers between 0 and 1\n",
    "-  `np.random.randint()`: Create a random array of integers within a particular range"
   ]
  },
  {
   "cell_type": "code",
   "execution_count": 58,
   "metadata": {},
   "outputs": [
    {
     "output_type": "execute_result",
     "data": {
      "text/plain": [
       "array([[7, 7, 7],\n",
       "       [7, 7, 7],\n",
       "       [7, 7, 7],\n",
       "       [7, 7, 7]])"
      ]
     },
     "metadata": {},
     "execution_count": 58
    }
   ],
   "source": [
    "# Creating a 4 x 3 array of 7s using np.full()\n",
    "# The default data type here is int only\n",
    "np.full((4,3), 7)"
   ]
  },
  {
   "cell_type": "code",
   "execution_count": 59,
   "metadata": {},
   "outputs": [
    {
     "output_type": "execute_result",
     "data": {
      "text/plain": [
       "array([0, 1, 2, 0, 1, 2, 0, 1, 2])"
      ]
     },
     "metadata": {},
     "execution_count": 59
    }
   ],
   "source": [
    "# Given an array, np.tile() creates a new array by repeating the given array for any number of times that you want\n",
    "# The default data type her is int only\n",
    "arr = ([0, 1, 2])\n",
    "np.tile(arr, 3)"
   ]
  },
  {
   "cell_type": "code",
   "execution_count": 60,
   "metadata": {},
   "outputs": [
    {
     "output_type": "execute_result",
     "data": {
      "text/plain": [
       "array([[0, 1, 2, 0, 1, 2],\n",
       "       [0, 1, 2, 0, 1, 2],\n",
       "       [0, 1, 2, 0, 1, 2]])"
      ]
     },
     "metadata": {},
     "execution_count": 60
    }
   ],
   "source": [
    "# You can also create multidimensional arrays using np.tile()\n",
    "np.tile(arr, (3,2))"
   ]
  },
  {
   "cell_type": "code",
   "execution_count": 61,
   "metadata": {},
   "outputs": [
    {
     "output_type": "execute_result",
     "data": {
      "text/plain": [
       "array([[1, 0, 0],\n",
       "       [0, 1, 0],\n",
       "       [0, 0, 1]])"
      ]
     },
     "metadata": {},
     "execution_count": 61
    }
   ],
   "source": [
    "# Create a 3 x 3 identity matrix using np.eye()\n",
    "# The default data type here is float. So if we want integer values, we need to specify the dtype to be int\n",
    "np.eye(3, dtype = int)"
   ]
  },
  {
   "cell_type": "code",
   "execution_count": 62,
   "metadata": {},
   "outputs": [
    {
     "output_type": "execute_result",
     "data": {
      "text/plain": [
       "array([[0.10038858, 0.06811254, 0.87155385, 0.98918944],\n",
       "       [0.40054628, 0.93735271, 0.97760652, 0.28959842],\n",
       "       [0.73730127, 0.97582494, 0.85850086, 0.62316985]])"
      ]
     },
     "metadata": {},
     "execution_count": 62
    }
   ],
   "source": [
    "# Create a 3 x 3 array of random numbers between 0 and 1\n",
    "np.random.random([3, 4])"
   ]
  },
  {
   "cell_type": "code",
   "execution_count": 64,
   "metadata": {},
   "outputs": [
    {
     "output_type": "execute_result",
     "data": {
      "text/plain": [
       "array([[8, 7, 9, 1],\n",
       "       [2, 3, 9, 7],\n",
       "       [8, 6, 4, 2],\n",
       "       [7, 9, 4, 9]])"
      ]
     },
     "metadata": {},
     "execution_count": 64
    }
   ],
   "source": [
    "# Create a 4 x 4 random array of integers ranging from 0 to 9\n",
    "np.random.randint(0, 10, (4,4))"
   ]
  },
  {
   "cell_type": "code",
   "execution_count": null,
   "metadata": {},
   "outputs": [],
   "source": []
  }
 ],
 "metadata": {
  "kernelspec": {
   "name": "python3",
   "display_name": "Python 3.9.1 64-bit",
   "metadata": {
    "interpreter": {
     "hash": "7675d0e63ec7415c5dbace68f8d7c4b2779c413b4c07fbad1925e2ff0d5375c0"
    }
   }
  },
  "language_info": {
   "codemirror_mode": {
    "name": "ipython",
    "version": 3
   },
   "file_extension": ".py",
   "mimetype": "text/x-python",
   "name": "python",
   "nbconvert_exporter": "python",
   "pygments_lexer": "ipython3",
   "version": "3.9.1-final"
  }
 },
 "nbformat": 4,
 "nbformat_minor": 2
}