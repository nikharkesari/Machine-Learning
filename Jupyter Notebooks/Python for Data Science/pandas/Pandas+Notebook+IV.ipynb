{
 "cells": [
  {
   "cell_type": "markdown",
   "metadata": {},
   "source": [
    "## Python Libraries - Pandas - Merge and Append"
   ]
  },
  {
   "cell_type": "markdown",
   "metadata": {},
   "source": [
    "In this section, you will merge and concatenate multiple dataframes. Merging is one of the most common operations you will do, since data often comes in various files. "
   ]
  },
  {
   "cell_type": "markdown",
   "metadata": {},
   "source": [
    "### Merging"
   ]
  },
  {
   "cell_type": "markdown",
   "metadata": {},
   "source": [
    "For merging, we have sales data across multiple sheets in an Excel file. We will now work with all these sheets and learn to:\n",
    "* Merge multiple dataframes using common columns/keys using ```pd.merge()```\n",
    "\n",
    "Let's first read all the data files."
   ]
  },
  {
   "cell_type": "code",
   "execution_count": 10,
   "metadata": {},
   "outputs": [],
   "source": [
    "# import the required libraries\n",
    "import pandas as pd\n",
    "import numpy as np"
   ]
  },
  {
   "cell_type": "code",
   "execution_count": 11,
   "metadata": {},
   "outputs": [],
   "source": [
    "# read the sheets from file 'sales_returns.xlsx' into 2 different dataframes - orders and returns\n",
    "orders = pd.read_excel('sales_returns.xlsx',sheet_name='Orders')\n",
    "returns = pd.read_excel('sales_returns.xlsx',sheet_name='Returns')"
   ]
  },
  {
   "cell_type": "code",
   "execution_count": 12,
   "metadata": {},
   "outputs": [
    {
     "output_type": "execute_result",
     "data": {
      "text/plain": [
       "(25728, 19)"
      ]
     },
     "metadata": {},
     "execution_count": 12
    }
   ],
   "source": [
    "# Check the shape of the dataframe 'orders'\n",
    "orders.shape"
   ]
  },
  {
   "cell_type": "code",
   "execution_count": 13,
   "metadata": {},
   "outputs": [
    {
     "output_type": "execute_result",
     "data": {
      "text/plain": [
       "(1079, 2)"
      ]
     },
     "metadata": {},
     "execution_count": 13
    }
   ],
   "source": [
    "# Check the shape of the dataframe 'returns'\n",
    "returns.shape"
   ]
  },
  {
   "cell_type": "code",
   "execution_count": 14,
   "metadata": {},
   "outputs": [
    {
     "output_type": "execute_result",
     "data": {
      "text/plain": [
       "               Order ID  Market  Profit   Sales\n",
       "0  AG-2012-AA6453-41020  Africa   53.76  298.68\n",
       "1  AG-2012-AC4203-40915  Africa   14.58   91.38\n",
       "2  AG-2012-AH2103-41133  Africa   11.04  276.96\n",
       "3  AG-2012-AJ7803-40978  Africa    7.17   35.97\n",
       "4  AG-2012-AS2853-41235  Africa   15.36   54.90"
      ],
      "text/html": "<div>\n<style scoped>\n    .dataframe tbody tr th:only-of-type {\n        vertical-align: middle;\n    }\n\n    .dataframe tbody tr th {\n        vertical-align: top;\n    }\n\n    .dataframe thead th {\n        text-align: right;\n    }\n</style>\n<table border=\"1\" class=\"dataframe\">\n  <thead>\n    <tr style=\"text-align: right;\">\n      <th></th>\n      <th>Order ID</th>\n      <th>Market</th>\n      <th>Profit</th>\n      <th>Sales</th>\n    </tr>\n  </thead>\n  <tbody>\n    <tr>\n      <th>0</th>\n      <td>AG-2012-AA6453-41020</td>\n      <td>Africa</td>\n      <td>53.76</td>\n      <td>298.68</td>\n    </tr>\n    <tr>\n      <th>1</th>\n      <td>AG-2012-AC4203-40915</td>\n      <td>Africa</td>\n      <td>14.58</td>\n      <td>91.38</td>\n    </tr>\n    <tr>\n      <th>2</th>\n      <td>AG-2012-AH2103-41133</td>\n      <td>Africa</td>\n      <td>11.04</td>\n      <td>276.96</td>\n    </tr>\n    <tr>\n      <th>3</th>\n      <td>AG-2012-AJ7803-40978</td>\n      <td>Africa</td>\n      <td>7.17</td>\n      <td>35.97</td>\n    </tr>\n    <tr>\n      <th>4</th>\n      <td>AG-2012-AS2853-41235</td>\n      <td>Africa</td>\n      <td>15.36</td>\n      <td>54.90</td>\n    </tr>\n  </tbody>\n</table>\n</div>"
     },
     "metadata": {},
     "execution_count": 14
    }
   ],
   "source": [
    "# check the dataframe 'orders' and 'returns'\n",
    "orders=orders.iloc[:,:4]\n",
    "orders.head()\n"
   ]
  },
  {
   "cell_type": "code",
   "execution_count": 15,
   "metadata": {},
   "outputs": [
    {
     "output_type": "execute_result",
     "data": {
      "text/plain": [
       "  Returned                  Order ID\n",
       "0      Yes  CA-2012-SA20830140-41210\n",
       "1      Yes  IN-2012-PB19210127-41259\n",
       "2      Yes  CA-2012-SC20095140-41174\n",
       "3      Yes    IN-2015-JH158207-42140\n",
       "4      Yes    IN-2014-LC168857-41747"
      ],
      "text/html": "<div>\n<style scoped>\n    .dataframe tbody tr th:only-of-type {\n        vertical-align: middle;\n    }\n\n    .dataframe tbody tr th {\n        vertical-align: top;\n    }\n\n    .dataframe thead th {\n        text-align: right;\n    }\n</style>\n<table border=\"1\" class=\"dataframe\">\n  <thead>\n    <tr style=\"text-align: right;\">\n      <th></th>\n      <th>Returned</th>\n      <th>Order ID</th>\n    </tr>\n  </thead>\n  <tbody>\n    <tr>\n      <th>0</th>\n      <td>Yes</td>\n      <td>CA-2012-SA20830140-41210</td>\n    </tr>\n    <tr>\n      <th>1</th>\n      <td>Yes</td>\n      <td>IN-2012-PB19210127-41259</td>\n    </tr>\n    <tr>\n      <th>2</th>\n      <td>Yes</td>\n      <td>CA-2012-SC20095140-41174</td>\n    </tr>\n    <tr>\n      <th>3</th>\n      <td>Yes</td>\n      <td>IN-2015-JH158207-42140</td>\n    </tr>\n    <tr>\n      <th>4</th>\n      <td>Yes</td>\n      <td>IN-2014-LC168857-41747</td>\n    </tr>\n  </tbody>\n</table>\n</div>"
     },
     "metadata": {},
     "execution_count": 15
    }
   ],
   "source": [
    "returns.head()"
   ]
  },
  {
   "cell_type": "code",
   "execution_count": 29,
   "metadata": {},
   "outputs": [
    {
     "output_type": "stream",
     "name": "stdout",
     "text": [
      "                Order ID  Market  Profit    Sales Returned\n0  AG-2013-PO88653-41634  Africa  191.25  1932.24      Yes\n1  AG-2014-CM21603-41755  Africa   10.32    43.05      Yes\n2  AG-2014-CP20853-41889  Africa   14.10    84.72      Yes\n3  AG-2014-RD95853-41712  Africa   21.03    64.38      Yes\n4  AO-2013-JE57454-41544  Africa  106.59   499.23      Yes\n"
     ]
    }
   ],
   "source": [
    "# Create a dataframe 'return_orders' by merging the two dataframes on Order_ID\n",
    "return_orders=orders.merge(returns,on ='Order ID')\n",
    "\n",
    "# Check the created dataframe\n",
    "print(return_orders.head())"
   ]
  },
  {
   "cell_type": "code",
   "execution_count": 17,
   "metadata": {},
   "outputs": [
    {
     "output_type": "execute_result",
     "data": {
      "text/plain": [
       "(1079, 5)"
      ]
     },
     "metadata": {},
     "execution_count": 17
    }
   ],
   "source": [
    "# Check the shape of the new dataframe\n",
    "return_orders.shape"
   ]
  },
  {
   "cell_type": "code",
   "execution_count": 18,
   "metadata": {},
   "outputs": [],
   "source": [
    "# try to use the 'left' method to join two dataframes\n",
    "\n",
    "\n",
    "# Check the created dataframe\n"
   ]
  },
  {
   "cell_type": "code",
   "execution_count": 19,
   "metadata": {},
   "outputs": [],
   "source": [
    "# Check the orders where orders were returned\n"
   ]
  },
  {
   "cell_type": "code",
   "execution_count": 20,
   "metadata": {},
   "outputs": [],
   "source": [
    "# Print the dataframe summary using the info() command\n"
   ]
  },
  {
   "cell_type": "code",
   "execution_count": 21,
   "metadata": {},
   "outputs": [],
   "source": [
    "# Change the data type of the column 'Returned' \n",
    "\n",
    "\n",
    "# Check the dataframe after modification\n"
   ]
  },
  {
   "cell_type": "code",
   "execution_count": 22,
   "metadata": {},
   "outputs": [],
   "source": [
    "# Replace the 'nan' value with 'No' in the column 'Returned'\n",
    "\n",
    "\n",
    "# Check the dataframe after modification\n"
   ]
  },
  {
   "cell_type": "markdown",
   "metadata": {},
   "source": [
    " "
   ]
  },
  {
   "cell_type": "markdown",
   "metadata": {},
   "source": [
    "### Append / Concatenate"
   ]
  },
  {
   "cell_type": "markdown",
   "metadata": {},
   "source": [
    "Concatenation is much more straightforward than merging. It is used when you have dataframes having the same columns and want to append them (pile one on top of the other), or having the same rows and want to append them side-by-side.\n"
   ]
  },
  {
   "cell_type": "code",
   "execution_count": 23,
   "metadata": {},
   "outputs": [],
   "source": [
    "# Import the required libraries\n"
   ]
  },
  {
   "cell_type": "markdown",
   "metadata": {},
   "source": [
    "**Appending rows in a dataframe**"
   ]
  },
  {
   "cell_type": "code",
   "execution_count": 24,
   "metadata": {},
   "outputs": [],
   "source": [
    "# Dataframes having the same columns\n",
    "\n",
    "df1 = pd.DataFrame({'Name': ['Aman', 'Joy', 'Rashmi', 'Saif'],\n",
    "                    'Age' : ['34', '31', '22', '33'], \n",
    "                    'Gender': ['M', 'M', 'F', 'M']}\n",
    "                  )\n",
    "\n",
    "df2 = pd.DataFrame({'Name': ['Akhil', 'Asha', 'Preeti'],\n",
    "                    'Age' : ['31', '22', '23'], \n",
    "                    'Gender': ['M', 'F', 'F']}\n",
    "                  )"
   ]
  },
  {
   "cell_type": "code",
   "execution_count": 25,
   "metadata": {},
   "outputs": [],
   "source": [
    "# Append the rows of df2 in df1\n"
   ]
  },
  {
   "cell_type": "markdown",
   "metadata": {},
   "source": [
    "**Appending columns in a dataframe**"
   ]
  },
  {
   "cell_type": "code",
   "execution_count": 26,
   "metadata": {},
   "outputs": [],
   "source": [
    "# Another dataframe with same number of rows as df1\n",
    "df3 = pd.DataFrame({'School': ['RK Public', 'JSP', 'Carmel Convent', 'St. Paul'],\n",
    "                    'Graduation Marks': ['84', '89', '76', '91']}\n",
    "                  )"
   ]
  },
  {
   "cell_type": "code",
   "execution_count": 27,
   "metadata": {},
   "outputs": [],
   "source": [
    "# Concatenating the dataframes: df1 and df3\n"
   ]
  },
  {
   "cell_type": "code",
   "execution_count": 28,
   "metadata": {},
   "outputs": [],
   "source": [
    "# Concatenating the dataframes across column: df1 and df3\n"
   ]
  }
 ],
 "metadata": {
  "kernelspec": {
   "name": "python391jvsc74a57bd07675d0e63ec7415c5dbace68f8d7c4b2779c413b4c07fbad1925e2ff0d5375c0",
   "display_name": "Python 3.9.1 64-bit"
  },
  "language_info": {
   "codemirror_mode": {
    "name": "ipython",
    "version": 3
   },
   "file_extension": ".py",
   "mimetype": "text/x-python",
   "name": "python",
   "nbconvert_exporter": "python",
   "pygments_lexer": "ipython3",
   "version": "3.9.1"
  },
  "metadata": {
   "interpreter": {
    "hash": "7675d0e63ec7415c5dbace68f8d7c4b2779c413b4c07fbad1925e2ff0d5375c0"
   }
  }
 },
 "nbformat": 4,
 "nbformat_minor": 2
}