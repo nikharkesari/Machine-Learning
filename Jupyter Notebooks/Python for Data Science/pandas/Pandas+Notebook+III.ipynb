{
 "cells": [
  {
   "cell_type": "markdown",
   "metadata": {},
   "source": [
    "## Python Libraries - Pandas - Grouping and Pivoting"
   ]
  },
  {
   "cell_type": "markdown",
   "metadata": {},
   "source": [
    "### Grouping"
   ]
  },
  {
   "cell_type": "markdown",
   "metadata": {},
   "source": [
    "Grouping and aggregation are some of the most frequently used operations in data analysis, especially while performing exploratory data analysis (EDA), where comparing summary statistics across groups of data is common.\n",
    "\n",
    "Grouping analysis can be thought of as having three parts, namely:\n",
    "-  Splitting the data into groups (e.g., groups of customer segments, product categories, etc.)\n",
    "-  Applying a function to each group (e.g., the mean or total sales of each customer segment)\n",
    "-  Combining the results into a data structure showing summary statistics\n"
   ]
  },
  {
   "cell_type": "code",
   "execution_count": 1,
   "metadata": {},
   "outputs": [],
   "source": [
    "# Loading libraries and file - sales.xlsx - with Market and Region as index\n",
    "import pandas as pd \n",
    "import numpy as np\n",
    "\n",
    "\n",
    "sales = pd.read_excel('sales.xlsx',index_col=[0,1])"
   ]
  },
  {
   "cell_type": "code",
   "execution_count": 2,
   "metadata": {},
   "outputs": [
    {
     "output_type": "execute_result",
     "data": {
      "text/plain": [
       "                                No_of_Orders    Profit      Sales\n",
       "Market       Region                                              \n",
       "Africa       Western Africa              251 -12901.51   78476.06\n",
       "             Southern Africa              85  11768.58   51319.50\n",
       "             North Africa                182  21643.08   86698.89\n",
       "             Eastern Africa              110   8013.04   44182.60\n",
       "             Central Africa              103  15606.30   61689.99\n",
       "Asia Pacific Western Asia                382 -16766.90  124312.24\n",
       "             Southern Asia               469  67998.76  351806.60\n",
       "             Southeastern Asia           533  20948.84  329751.38\n",
       "             Oceania                     646  54734.02  408002.98\n",
       "             Eastern Asia                414  72805.10  315390.77"
      ],
      "text/html": "<div>\n<style scoped>\n    .dataframe tbody tr th:only-of-type {\n        vertical-align: middle;\n    }\n\n    .dataframe tbody tr th {\n        vertical-align: top;\n    }\n\n    .dataframe thead th {\n        text-align: right;\n    }\n</style>\n<table border=\"1\" class=\"dataframe\">\n  <thead>\n    <tr style=\"text-align: right;\">\n      <th></th>\n      <th></th>\n      <th>No_of_Orders</th>\n      <th>Profit</th>\n      <th>Sales</th>\n    </tr>\n    <tr>\n      <th>Market</th>\n      <th>Region</th>\n      <th></th>\n      <th></th>\n      <th></th>\n    </tr>\n  </thead>\n  <tbody>\n    <tr>\n      <th rowspan=\"5\" valign=\"top\">Africa</th>\n      <th>Western Africa</th>\n      <td>251</td>\n      <td>-12901.51</td>\n      <td>78476.06</td>\n    </tr>\n    <tr>\n      <th>Southern Africa</th>\n      <td>85</td>\n      <td>11768.58</td>\n      <td>51319.50</td>\n    </tr>\n    <tr>\n      <th>North Africa</th>\n      <td>182</td>\n      <td>21643.08</td>\n      <td>86698.89</td>\n    </tr>\n    <tr>\n      <th>Eastern Africa</th>\n      <td>110</td>\n      <td>8013.04</td>\n      <td>44182.60</td>\n    </tr>\n    <tr>\n      <th>Central Africa</th>\n      <td>103</td>\n      <td>15606.30</td>\n      <td>61689.99</td>\n    </tr>\n    <tr>\n      <th rowspan=\"5\" valign=\"top\">Asia Pacific</th>\n      <th>Western Asia</th>\n      <td>382</td>\n      <td>-16766.90</td>\n      <td>124312.24</td>\n    </tr>\n    <tr>\n      <th>Southern Asia</th>\n      <td>469</td>\n      <td>67998.76</td>\n      <td>351806.60</td>\n    </tr>\n    <tr>\n      <th>Southeastern Asia</th>\n      <td>533</td>\n      <td>20948.84</td>\n      <td>329751.38</td>\n    </tr>\n    <tr>\n      <th>Oceania</th>\n      <td>646</td>\n      <td>54734.02</td>\n      <td>408002.98</td>\n    </tr>\n    <tr>\n      <th>Eastern Asia</th>\n      <td>414</td>\n      <td>72805.10</td>\n      <td>315390.77</td>\n    </tr>\n  </tbody>\n</table>\n</div>"
     },
     "metadata": {},
     "execution_count": 2
    }
   ],
   "source": [
    "# Checking the 'sales' dataframe \n",
    "sales.head(10)"
   ]
  },
  {
   "cell_type": "code",
   "execution_count": 3,
   "metadata": {},
   "outputs": [
    {
     "output_type": "execute_result",
     "data": {
      "text/plain": [
       "              No_of_Orders\n",
       "Market                    \n",
       "Africa                 731\n",
       "Asia Pacific          2481\n",
       "Europe                1910\n",
       "LATAM                 1714\n",
       "USCA                  1593"
      ],
      "text/html": "<div>\n<style scoped>\n    .dataframe tbody tr th:only-of-type {\n        vertical-align: middle;\n    }\n\n    .dataframe tbody tr th {\n        vertical-align: top;\n    }\n\n    .dataframe thead th {\n        text-align: right;\n    }\n</style>\n<table border=\"1\" class=\"dataframe\">\n  <thead>\n    <tr style=\"text-align: right;\">\n      <th></th>\n      <th>No_of_Orders</th>\n    </tr>\n    <tr>\n      <th>Market</th>\n      <th></th>\n    </tr>\n  </thead>\n  <tbody>\n    <tr>\n      <th>Africa</th>\n      <td>731</td>\n    </tr>\n    <tr>\n      <th>Asia Pacific</th>\n      <td>2481</td>\n    </tr>\n    <tr>\n      <th>Europe</th>\n      <td>1910</td>\n    </tr>\n    <tr>\n      <th>LATAM</th>\n      <td>1714</td>\n    </tr>\n    <tr>\n      <th>USCA</th>\n      <td>1593</td>\n    </tr>\n  </tbody>\n</table>\n</div>"
     },
     "metadata": {},
     "execution_count": 3
    }
   ],
   "source": [
    "# Grouping the sales dataframe for the sum of the column 'No_of_Orders'\n",
    "sales[['No_of_Orders']].groupby('Market').sum()\n"
   ]
  },
  {
   "cell_type": "code",
   "execution_count": 4,
   "metadata": {},
   "outputs": [
    {
     "output_type": "execute_result",
     "data": {
      "text/plain": [
       "              No_of_Orders       Sales\n",
       "Market                                \n",
       "Africa                 731   322367.04\n",
       "Asia Pacific          2481  1537454.71\n",
       "Europe                1910  1233569.09\n",
       "LATAM                 1714   788713.82\n",
       "USCA                  1593   862452.84"
      ],
      "text/html": "<div>\n<style scoped>\n    .dataframe tbody tr th:only-of-type {\n        vertical-align: middle;\n    }\n\n    .dataframe tbody tr th {\n        vertical-align: top;\n    }\n\n    .dataframe thead th {\n        text-align: right;\n    }\n</style>\n<table border=\"1\" class=\"dataframe\">\n  <thead>\n    <tr style=\"text-align: right;\">\n      <th></th>\n      <th>No_of_Orders</th>\n      <th>Sales</th>\n    </tr>\n    <tr>\n      <th>Market</th>\n      <th></th>\n      <th></th>\n    </tr>\n  </thead>\n  <tbody>\n    <tr>\n      <th>Africa</th>\n      <td>731</td>\n      <td>322367.04</td>\n    </tr>\n    <tr>\n      <th>Asia Pacific</th>\n      <td>2481</td>\n      <td>1537454.71</td>\n    </tr>\n    <tr>\n      <th>Europe</th>\n      <td>1910</td>\n      <td>1233569.09</td>\n    </tr>\n    <tr>\n      <th>LATAM</th>\n      <td>1714</td>\n      <td>788713.82</td>\n    </tr>\n    <tr>\n      <th>USCA</th>\n      <td>1593</td>\n      <td>862452.84</td>\n    </tr>\n  </tbody>\n</table>\n</div>"
     },
     "metadata": {},
     "execution_count": 4
    }
   ],
   "source": [
    "# Grouping the sales dataframe over the index 'Market' for the sum of the columns 'No_of_Orders' and 'Sales'\n",
    "sales[['No_of_Orders','Sales']].groupby('Market').sum()\n"
   ]
  },
  {
   "cell_type": "code",
   "execution_count": 19,
   "metadata": {},
   "outputs": [
    {
     "output_type": "execute_result",
     "data": {
      "text/plain": [
       "              No_of_Orders\n",
       "Market                    \n",
       "Africa                 251\n",
       "Asia Pacific           646\n",
       "Europe                 964\n",
       "LATAM                  930\n",
       "USCA                   490"
      ],
      "text/html": "<div>\n<style scoped>\n    .dataframe tbody tr th:only-of-type {\n        vertical-align: middle;\n    }\n\n    .dataframe tbody tr th {\n        vertical-align: top;\n    }\n\n    .dataframe thead th {\n        text-align: right;\n    }\n</style>\n<table border=\"1\" class=\"dataframe\">\n  <thead>\n    <tr style=\"text-align: right;\">\n      <th></th>\n      <th>No_of_Orders</th>\n    </tr>\n    <tr>\n      <th>Market</th>\n      <th></th>\n    </tr>\n  </thead>\n  <tbody>\n    <tr>\n      <th>Africa</th>\n      <td>251</td>\n    </tr>\n    <tr>\n      <th>Asia Pacific</th>\n      <td>646</td>\n    </tr>\n    <tr>\n      <th>Europe</th>\n      <td>964</td>\n    </tr>\n    <tr>\n      <th>LATAM</th>\n      <td>930</td>\n    </tr>\n    <tr>\n      <th>USCA</th>\n      <td>490</td>\n    </tr>\n  </tbody>\n</table>\n</div>"
     },
     "metadata": {},
     "execution_count": 19
    }
   ],
   "source": [
    "# Grouping the sales dataframe over the index 'Market' for the maximum value in the column 'No_of_Orders'\n",
    "sales[['No_of_Orders']].groupby('Market').max()\n"
   ]
  },
  {
   "cell_type": "code",
   "execution_count": 20,
   "metadata": {},
   "outputs": [
    {
     "output_type": "execute_result",
     "data": {
      "text/plain": [
       "                    Profit\n",
       "Market                    \n",
       "Africa         8825.898000\n",
       "Asia Pacific  32845.010000\n",
       "Europe        42322.722500\n",
       "LATAM         33528.906667\n",
       "USCA          30540.314000"
      ],
      "text/html": "<div>\n<style scoped>\n    .dataframe tbody tr th:only-of-type {\n        vertical-align: middle;\n    }\n\n    .dataframe tbody tr th {\n        vertical-align: top;\n    }\n\n    .dataframe thead th {\n        text-align: right;\n    }\n</style>\n<table border=\"1\" class=\"dataframe\">\n  <thead>\n    <tr style=\"text-align: right;\">\n      <th></th>\n      <th>Profit</th>\n    </tr>\n    <tr>\n      <th>Market</th>\n      <th></th>\n    </tr>\n  </thead>\n  <tbody>\n    <tr>\n      <th>Africa</th>\n      <td>8825.898000</td>\n    </tr>\n    <tr>\n      <th>Asia Pacific</th>\n      <td>32845.010000</td>\n    </tr>\n    <tr>\n      <th>Europe</th>\n      <td>42322.722500</td>\n    </tr>\n    <tr>\n      <th>LATAM</th>\n      <td>33528.906667</td>\n    </tr>\n    <tr>\n      <th>USCA</th>\n      <td>30540.314000</td>\n    </tr>\n  </tbody>\n</table>\n</div>"
     },
     "metadata": {},
     "execution_count": 20
    }
   ],
   "source": [
    "# Creating a dataframe 'df' with the mean of column 'Profit' for each market\n",
    "sales[['Profit']].groupby('Market').mean()\n"
   ]
  },
  {
   "cell_type": "code",
   "execution_count": 7,
   "metadata": {},
   "outputs": [],
   "source": [
    "# Plotting a bar graph over 'df'\n"
   ]
  },
  {
   "cell_type": "markdown",
   "metadata": {},
   "source": [
    " "
   ]
  },
  {
   "cell_type": "markdown",
   "metadata": {},
   "source": [
    "### Pivoting"
   ]
  },
  {
   "cell_type": "markdown",
   "metadata": {},
   "source": [
    "You may want to use pandas pivot tables as an alternative to ```groupby()```. They provide Excel-like functionalities to create aggregate tables. "
   ]
  },
  {
   "cell_type": "code",
   "execution_count": 8,
   "metadata": {},
   "outputs": [
    {
     "output_type": "stream",
     "name": "stdout",
     "text": [
      "Help on function pivot_table in module pandas.core.frame:\n\npivot_table(self, values=None, index=None, columns=None, aggfunc='mean', fill_value=None, margins=False, dropna=True, margins_name='All', observed=False) -> 'DataFrame'\n    Create a spreadsheet-style pivot table as a DataFrame.\n    \n    The levels in the pivot table will be stored in MultiIndex objects\n    (hierarchical indexes) on the index and columns of the result DataFrame.\n    \n    Parameters\n    ----------\n    values : column to aggregate, optional\n    index : column, Grouper, array, or list of the previous\n        If an array is passed, it must be the same length as the data. The\n        list can contain any of the other types (except list).\n        Keys to group by on the pivot table index.  If an array is passed,\n        it is being used as the same manner as column values.\n    columns : column, Grouper, array, or list of the previous\n        If an array is passed, it must be the same length as the data. The\n        list can contain any of the other types (except list).\n        Keys to group by on the pivot table column.  If an array is passed,\n        it is being used as the same manner as column values.\n    aggfunc : function, list of functions, dict, default numpy.mean\n        If list of functions passed, the resulting pivot table will have\n        hierarchical columns whose top level are the function names\n        (inferred from the function objects themselves)\n        If dict is passed, the key is column to aggregate and value\n        is function or list of functions.\n    fill_value : scalar, default None\n        Value to replace missing values with (in the resulting pivot table,\n        after aggregation).\n    margins : bool, default False\n        Add all row / columns (e.g. for subtotal / grand totals).\n    dropna : bool, default True\n        Do not include columns whose entries are all NaN.\n    margins_name : str, default 'All'\n        Name of the row / column that will contain the totals\n        when margins is True.\n    observed : bool, default False\n        This only applies if any of the groupers are Categoricals.\n        If True: only show observed values for categorical groupers.\n        If False: show all values for categorical groupers.\n    \n        .. versionchanged:: 0.25.0\n    \n    Returns\n    -------\n    DataFrame\n        An Excel style pivot table.\n    \n    See Also\n    --------\n    DataFrame.pivot : Pivot without aggregation that can handle\n        non-numeric data.\n    DataFrame.melt: Unpivot a DataFrame from wide to long format,\n        optionally leaving identifiers set.\n    wide_to_long : Wide panel to long format. Less flexible but more\n        user-friendly than melt.\n    \n    Examples\n    --------\n    >>> df = pd.DataFrame({\"A\": [\"foo\", \"foo\", \"foo\", \"foo\", \"foo\",\n    ...                          \"bar\", \"bar\", \"bar\", \"bar\"],\n    ...                    \"B\": [\"one\", \"one\", \"one\", \"two\", \"two\",\n    ...                          \"one\", \"one\", \"two\", \"two\"],\n    ...                    \"C\": [\"small\", \"large\", \"large\", \"small\",\n    ...                          \"small\", \"large\", \"small\", \"small\",\n    ...                          \"large\"],\n    ...                    \"D\": [1, 2, 2, 3, 3, 4, 5, 6, 7],\n    ...                    \"E\": [2, 4, 5, 5, 6, 6, 8, 9, 9]})\n    >>> df\n         A    B      C  D  E\n    0  foo  one  small  1  2\n    1  foo  one  large  2  4\n    2  foo  one  large  2  5\n    3  foo  two  small  3  5\n    4  foo  two  small  3  6\n    5  bar  one  large  4  6\n    6  bar  one  small  5  8\n    7  bar  two  small  6  9\n    8  bar  two  large  7  9\n    \n    This first example aggregates values by taking the sum.\n    \n    >>> table = pd.pivot_table(df, values='D', index=['A', 'B'],\n    ...                     columns=['C'], aggfunc=np.sum)\n    >>> table\n    C        large  small\n    A   B\n    bar one    4.0    5.0\n        two    7.0    6.0\n    foo one    4.0    1.0\n        two    NaN    6.0\n    \n    We can also fill missing values using the `fill_value` parameter.\n    \n    >>> table = pd.pivot_table(df, values='D', index=['A', 'B'],\n    ...                     columns=['C'], aggfunc=np.sum, fill_value=0)\n    >>> table\n    C        large  small\n    A   B\n    bar one      4      5\n        two      7      6\n    foo one      4      1\n        two      0      6\n    \n    The next example aggregates by taking the mean across multiple columns.\n    \n    >>> table = pd.pivot_table(df, values=['D', 'E'], index=['A', 'C'],\n    ...                     aggfunc={'D': np.mean,\n    ...                              'E': np.mean})\n    >>> table\n                    D         E\n    A   C\n    bar large  5.500000  7.500000\n        small  5.500000  8.500000\n    foo large  2.000000  4.500000\n        small  2.333333  4.333333\n    \n    We can also calculate multiple types of aggregations for any given\n    value column.\n    \n    >>> table = pd.pivot_table(df, values=['D', 'E'], index=['A', 'C'],\n    ...                     aggfunc={'D': np.mean,\n    ...                              'E': [min, max, np.mean]})\n    >>> table\n                    D    E\n                mean  max      mean  min\n    A   C\n    bar large  5.500000  9.0  7.500000  6.0\n        small  5.500000  9.0  8.500000  8.0\n    foo large  2.000000  5.0  4.500000  4.0\n        small  2.333333  6.0  4.333333  2.0\n\n"
     ]
    }
   ],
   "source": [
    "# Read the help documentation for pivot_table\n",
    "help(pd.DataFrame.pivot_table)"
   ]
  },
  {
   "cell_type": "code",
   "execution_count": 9,
   "metadata": {},
   "outputs": [],
   "source": [
    "# Importing the required libraries\n"
   ]
  },
  {
   "cell_type": "code",
   "execution_count": 10,
   "metadata": {},
   "outputs": [],
   "source": [
    "# Create a new dataframe\n",
    "users= pd.DataFrame({\"weekday\" : ['Sun', 'Sun', 'Mon', 'Mon'],\n",
    "                    \"city\": ['Austin', 'Dallas', 'Austin', 'Dallas'],\n",
    "                    \"visitors\":[139, 237, 326, 456],\n",
    "                    \"signups\" : [7, 12, 3, 5]})"
   ]
  },
  {
   "cell_type": "code",
   "execution_count": 11,
   "metadata": {},
   "outputs": [],
   "source": [
    "# Set the index of the dataframe as 'weekday'\n"
   ]
  },
  {
   "cell_type": "code",
   "execution_count": 12,
   "metadata": {},
   "outputs": [],
   "source": [
    "# plot a bar graph over the dataframe 'users'\n"
   ]
  },
  {
   "cell_type": "code",
   "execution_count": 13,
   "metadata": {},
   "outputs": [],
   "source": [
    "# Create a pivot table with the columns as 'city' summarising the variable 'visitors'\n"
   ]
  },
  {
   "cell_type": "code",
   "execution_count": 14,
   "metadata": {},
   "outputs": [],
   "source": [
    "# Check the created pivot table\n"
   ]
  },
  {
   "cell_type": "code",
   "execution_count": 15,
   "metadata": {},
   "outputs": [],
   "source": [
    "# Draw a bar graph over the created pivot\n"
   ]
  },
  {
   "cell_type": "code",
   "execution_count": 16,
   "metadata": {},
   "outputs": [],
   "source": [
    "# Create a pivot table with the columns as 'city' summarising all the variables\n"
   ]
  },
  {
   "cell_type": "code",
   "execution_count": 17,
   "metadata": {},
   "outputs": [],
   "source": [
    "# Check the created pivot table\n"
   ]
  },
  {
   "cell_type": "code",
   "execution_count": 18,
   "metadata": {},
   "outputs": [],
   "source": [
    "# Draw a bar graph over the created pivot for each variable\n"
   ]
  }
 ],
 "metadata": {
  "kernelspec": {
   "name": "python3",
   "display_name": "Python 3.9.1 64-bit",
   "metadata": {
    "interpreter": {
     "hash": "7675d0e63ec7415c5dbace68f8d7c4b2779c413b4c07fbad1925e2ff0d5375c0"
    }
   }
  },
  "language_info": {
   "codemirror_mode": {
    "name": "ipython",
    "version": 3
   },
   "file_extension": ".py",
   "mimetype": "text/x-python",
   "name": "python",
   "nbconvert_exporter": "python",
   "pygments_lexer": "ipython3",
   "version": "3.9.1-final"
  }
 },
 "nbformat": 4,
 "nbformat_minor": 2
}