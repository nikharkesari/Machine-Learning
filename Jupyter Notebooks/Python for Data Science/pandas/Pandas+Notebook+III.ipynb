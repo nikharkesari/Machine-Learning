{
 "cells": [
  {
   "cell_type": "markdown",
   "metadata": {},
   "source": [
    "## Python Libraries - Pandas - Grouping and Pivoting"
   ]
  },
  {
   "cell_type": "markdown",
   "metadata": {},
   "source": [
    "### Grouping"
   ]
  },
  {
   "cell_type": "markdown",
   "metadata": {},
   "source": [
    "Grouping and aggregation are some of the most frequently used operations in data analysis, especially while performing exploratory data analysis (EDA), where comparing summary statistics across groups of data is common.\n",
    "\n",
    "Grouping analysis can be thought of as having three parts, namely:\n",
    "-  Splitting the data into groups (e.g., groups of customer segments, product categories, etc.)\n",
    "-  Applying a function to each group (e.g., the mean or total sales of each customer segment)\n",
    "-  Combining the results into a data structure showing summary statistics\n"
   ]
  },
  {
   "cell_type": "code",
   "execution_count": 5,
   "metadata": {},
   "outputs": [],
   "source": [
    "# Loading libraries and file - sales.xlsx - with Market and Region as index\n",
    "import pandas as pd \n",
    "import numpy as np\n",
    "\n",
    "\n",
    "sales = pd.read_excel('sales.xlsx',index_col=[0,1])"
   ]
  },
  {
   "cell_type": "code",
   "execution_count": 6,
   "metadata": {},
   "outputs": [
    {
     "output_type": "execute_result",
     "data": {
      "text/plain": [
       "                                No_of_Orders    Profit      Sales\n",
       "Market       Region                                              \n",
       "Africa       Western Africa              251 -12901.51   78476.06\n",
       "             Southern Africa              85  11768.58   51319.50\n",
       "             North Africa                182  21643.08   86698.89\n",
       "             Eastern Africa              110   8013.04   44182.60\n",
       "             Central Africa              103  15606.30   61689.99\n",
       "Asia Pacific Western Asia                382 -16766.90  124312.24\n",
       "             Southern Asia               469  67998.76  351806.60\n",
       "             Southeastern Asia           533  20948.84  329751.38\n",
       "             Oceania                     646  54734.02  408002.98\n",
       "             Eastern Asia                414  72805.10  315390.77"
      ],
      "text/html": "<div>\n<style scoped>\n    .dataframe tbody tr th:only-of-type {\n        vertical-align: middle;\n    }\n\n    .dataframe tbody tr th {\n        vertical-align: top;\n    }\n\n    .dataframe thead th {\n        text-align: right;\n    }\n</style>\n<table border=\"1\" class=\"dataframe\">\n  <thead>\n    <tr style=\"text-align: right;\">\n      <th></th>\n      <th></th>\n      <th>No_of_Orders</th>\n      <th>Profit</th>\n      <th>Sales</th>\n    </tr>\n    <tr>\n      <th>Market</th>\n      <th>Region</th>\n      <th></th>\n      <th></th>\n      <th></th>\n    </tr>\n  </thead>\n  <tbody>\n    <tr>\n      <th rowspan=\"5\" valign=\"top\">Africa</th>\n      <th>Western Africa</th>\n      <td>251</td>\n      <td>-12901.51</td>\n      <td>78476.06</td>\n    </tr>\n    <tr>\n      <th>Southern Africa</th>\n      <td>85</td>\n      <td>11768.58</td>\n      <td>51319.50</td>\n    </tr>\n    <tr>\n      <th>North Africa</th>\n      <td>182</td>\n      <td>21643.08</td>\n      <td>86698.89</td>\n    </tr>\n    <tr>\n      <th>Eastern Africa</th>\n      <td>110</td>\n      <td>8013.04</td>\n      <td>44182.60</td>\n    </tr>\n    <tr>\n      <th>Central Africa</th>\n      <td>103</td>\n      <td>15606.30</td>\n      <td>61689.99</td>\n    </tr>\n    <tr>\n      <th rowspan=\"5\" valign=\"top\">Asia Pacific</th>\n      <th>Western Asia</th>\n      <td>382</td>\n      <td>-16766.90</td>\n      <td>124312.24</td>\n    </tr>\n    <tr>\n      <th>Southern Asia</th>\n      <td>469</td>\n      <td>67998.76</td>\n      <td>351806.60</td>\n    </tr>\n    <tr>\n      <th>Southeastern Asia</th>\n      <td>533</td>\n      <td>20948.84</td>\n      <td>329751.38</td>\n    </tr>\n    <tr>\n      <th>Oceania</th>\n      <td>646</td>\n      <td>54734.02</td>\n      <td>408002.98</td>\n    </tr>\n    <tr>\n      <th>Eastern Asia</th>\n      <td>414</td>\n      <td>72805.10</td>\n      <td>315390.77</td>\n    </tr>\n  </tbody>\n</table>\n</div>"
     },
     "metadata": {},
     "execution_count": 6
    }
   ],
   "source": [
    "# Checking the 'sales' dataframe \n",
    "sales.head(10)"
   ]
  },
  {
   "cell_type": "code",
   "execution_count": null,
   "metadata": {},
   "outputs": [],
   "source": [
    "# Grouping the sales dataframe for the sum of the column 'No_of_Orders'\n",
    "\n"
   ]
  },
  {
   "cell_type": "code",
   "execution_count": null,
   "metadata": {},
   "outputs": [],
   "source": [
    "# Grouping the sales dataframe over the index 'Market' for the sum of the columns 'No_of_Orders' and 'Sales'\n"
   ]
  },
  {
   "cell_type": "code",
   "execution_count": null,
   "metadata": {},
   "outputs": [],
   "source": [
    "# Grouping the sales dataframe over the index 'Market' for the maximum value in the column 'No_of_Orders'\n"
   ]
  },
  {
   "cell_type": "code",
   "execution_count": 16,
   "metadata": {},
   "outputs": [],
   "source": [
    "# Creating a dataframe 'df' with the mean of column 'Profit' for each market\n"
   ]
  },
  {
   "cell_type": "code",
   "execution_count": null,
   "metadata": {},
   "outputs": [],
   "source": [
    "# Plotting a bar graph over 'df'\n"
   ]
  },
  {
   "cell_type": "markdown",
   "metadata": {},
   "source": [
    " "
   ]
  },
  {
   "cell_type": "markdown",
   "metadata": {},
   "source": [
    "### Pivoting"
   ]
  },
  {
   "cell_type": "markdown",
   "metadata": {},
   "source": [
    "You may want to use pandas pivot tables as an alternative to ```groupby()```. They provide Excel-like functionalities to create aggregate tables. "
   ]
  },
  {
   "cell_type": "code",
   "execution_count": null,
   "metadata": {},
   "outputs": [],
   "source": [
    "# Read the help documentation for pivot_table\n",
    "help(pd.DataFrame.pivot_table)"
   ]
  },
  {
   "cell_type": "code",
   "execution_count": null,
   "metadata": {},
   "outputs": [],
   "source": [
    "# Importing the required libraries\n"
   ]
  },
  {
   "cell_type": "code",
   "execution_count": null,
   "metadata": {},
   "outputs": [],
   "source": [
    "# Create a new dataframe\n",
    "users= pd.DataFrame({\"weekday\" : ['Sun', 'Sun', 'Mon', 'Mon'],\n",
    "                    \"city\": ['Austin', 'Dallas', 'Austin', 'Dallas'],\n",
    "                    \"visitors\":[139, 237, 326, 456],\n",
    "                    \"signups\" : [7, 12, 3, 5]})"
   ]
  },
  {
   "cell_type": "code",
   "execution_count": null,
   "metadata": {},
   "outputs": [],
   "source": [
    "# Set the index of the dataframe as 'weekday'\n"
   ]
  },
  {
   "cell_type": "code",
   "execution_count": null,
   "metadata": {},
   "outputs": [],
   "source": [
    "# plot a bar graph over the dataframe 'users'\n"
   ]
  },
  {
   "cell_type": "code",
   "execution_count": null,
   "metadata": {},
   "outputs": [],
   "source": [
    "# Create a pivot table with the columns as 'city' summarising the variable 'visitors'\n"
   ]
  },
  {
   "cell_type": "code",
   "execution_count": null,
   "metadata": {},
   "outputs": [],
   "source": [
    "# Check the created pivot table\n"
   ]
  },
  {
   "cell_type": "code",
   "execution_count": null,
   "metadata": {},
   "outputs": [],
   "source": [
    "# Draw a bar graph over the created pivot\n"
   ]
  },
  {
   "cell_type": "code",
   "execution_count": null,
   "metadata": {},
   "outputs": [],
   "source": [
    "# Create a pivot table with the columns as 'city' summarising all the variables\n"
   ]
  },
  {
   "cell_type": "code",
   "execution_count": null,
   "metadata": {},
   "outputs": [],
   "source": [
    "# Check the created pivot table\n"
   ]
  },
  {
   "cell_type": "code",
   "execution_count": null,
   "metadata": {},
   "outputs": [],
   "source": [
    "# Draw a bar graph over the created pivot for each variable\n"
   ]
  }
 ],
 "metadata": {
  "kernelspec": {
   "name": "python3",
   "display_name": "Python 3.9.1 64-bit",
   "metadata": {
    "interpreter": {
     "hash": "7675d0e63ec7415c5dbace68f8d7c4b2779c413b4c07fbad1925e2ff0d5375c0"
    }
   }
  },
  "language_info": {
   "codemirror_mode": {
    "name": "ipython",
    "version": 3
   },
   "file_extension": ".py",
   "mimetype": "text/x-python",
   "name": "python",
   "nbconvert_exporter": "python",
   "pygments_lexer": "ipython3",
   "version": "3.9.1-final"
  }
 },
 "nbformat": 4,
 "nbformat_minor": 2
}