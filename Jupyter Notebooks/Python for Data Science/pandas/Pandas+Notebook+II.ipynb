{
 "cells": [
  {
   "cell_type": "markdown",
   "metadata": {},
   "source": [
    "## Python Libraries - Pandas - Describing Data"
   ]
  },
  {
   "cell_type": "markdown",
   "metadata": {},
   "source": [
    "You will be working with files of varied shape and sizes in the Pandas. One you have loaded the data in the dataframes, it is necessary that you check the created dataframe. However, it would be inefficieent to print the entire dataframe every time. Hence, you should learn how to print limited number of rows in a dataframe."
   ]
  },
  {
   "cell_type": "code",
   "execution_count": 63,
   "metadata": {},
   "outputs": [],
   "source": [
    "# import the required libraries\n",
    "import pandas as pd \n",
    "import numpy as np \n"
   ]
  },
  {
   "cell_type": "code",
   "execution_count": 64,
   "metadata": {},
   "outputs": [
    {
     "output_type": "execute_result",
     "data": {
      "text/plain": [
       "          Market             Region  No_of_Orders    Profit      Sales\n",
       "0         Africa     Western Africa           251 -12901.51   78476.06\n",
       "1         Africa    Southern Africa            85  11768.58   51319.50\n",
       "2         Africa       North Africa           182  21643.08   86698.89\n",
       "3         Africa     Eastern Africa           110   8013.04   44182.60\n",
       "4         Africa     Central Africa           103  15606.30   61689.99\n",
       "5   Asia Pacific       Western Asia           382 -16766.90  124312.24\n",
       "6   Asia Pacific      Southern Asia           469  67998.76  351806.60\n",
       "7   Asia Pacific  Southeastern Asia           533  20948.84  329751.38\n",
       "8   Asia Pacific            Oceania           646  54734.02  408002.98\n",
       "9   Asia Pacific       Eastern Asia           414  72805.10  315390.77\n",
       "10  Asia Pacific       Central Asia            37  -2649.76    8190.74\n",
       "11        Europe     Western Europe           964  82091.27  656637.14\n",
       "12        Europe    Southern Europe           338  18911.49  215703.93\n",
       "13        Europe    Northern Europe           367  43237.44  252969.09\n",
       "14        Europe     Eastern Europe           241  25050.69  108258.93\n",
       "15         LATAM      South America           496  12377.59  210710.49\n",
       "16         LATAM    Central America           930  74679.54  461670.28\n",
       "17         LATAM          Caribbean           288  13529.59  116333.05\n",
       "18          USCA         Western US           490  44303.65  251991.83\n",
       "19          USCA        Southern US           255  19991.83  148771.91\n",
       "20          USCA         Eastern US           443  47462.04  264973.98\n",
       "21          USCA         Central US           356  33697.43  170416.31\n",
       "22          USCA             Canada            49   7246.62   26298.81"
      ],
      "text/html": "<div>\n<style scoped>\n    .dataframe tbody tr th:only-of-type {\n        vertical-align: middle;\n    }\n\n    .dataframe tbody tr th {\n        vertical-align: top;\n    }\n\n    .dataframe thead th {\n        text-align: right;\n    }\n</style>\n<table border=\"1\" class=\"dataframe\">\n  <thead>\n    <tr style=\"text-align: right;\">\n      <th></th>\n      <th>Market</th>\n      <th>Region</th>\n      <th>No_of_Orders</th>\n      <th>Profit</th>\n      <th>Sales</th>\n    </tr>\n  </thead>\n  <tbody>\n    <tr>\n      <th>0</th>\n      <td>Africa</td>\n      <td>Western Africa</td>\n      <td>251</td>\n      <td>-12901.51</td>\n      <td>78476.06</td>\n    </tr>\n    <tr>\n      <th>1</th>\n      <td>Africa</td>\n      <td>Southern Africa</td>\n      <td>85</td>\n      <td>11768.58</td>\n      <td>51319.50</td>\n    </tr>\n    <tr>\n      <th>2</th>\n      <td>Africa</td>\n      <td>North Africa</td>\n      <td>182</td>\n      <td>21643.08</td>\n      <td>86698.89</td>\n    </tr>\n    <tr>\n      <th>3</th>\n      <td>Africa</td>\n      <td>Eastern Africa</td>\n      <td>110</td>\n      <td>8013.04</td>\n      <td>44182.60</td>\n    </tr>\n    <tr>\n      <th>4</th>\n      <td>Africa</td>\n      <td>Central Africa</td>\n      <td>103</td>\n      <td>15606.30</td>\n      <td>61689.99</td>\n    </tr>\n    <tr>\n      <th>5</th>\n      <td>Asia Pacific</td>\n      <td>Western Asia</td>\n      <td>382</td>\n      <td>-16766.90</td>\n      <td>124312.24</td>\n    </tr>\n    <tr>\n      <th>6</th>\n      <td>Asia Pacific</td>\n      <td>Southern Asia</td>\n      <td>469</td>\n      <td>67998.76</td>\n      <td>351806.60</td>\n    </tr>\n    <tr>\n      <th>7</th>\n      <td>Asia Pacific</td>\n      <td>Southeastern Asia</td>\n      <td>533</td>\n      <td>20948.84</td>\n      <td>329751.38</td>\n    </tr>\n    <tr>\n      <th>8</th>\n      <td>Asia Pacific</td>\n      <td>Oceania</td>\n      <td>646</td>\n      <td>54734.02</td>\n      <td>408002.98</td>\n    </tr>\n    <tr>\n      <th>9</th>\n      <td>Asia Pacific</td>\n      <td>Eastern Asia</td>\n      <td>414</td>\n      <td>72805.10</td>\n      <td>315390.77</td>\n    </tr>\n    <tr>\n      <th>10</th>\n      <td>Asia Pacific</td>\n      <td>Central Asia</td>\n      <td>37</td>\n      <td>-2649.76</td>\n      <td>8190.74</td>\n    </tr>\n    <tr>\n      <th>11</th>\n      <td>Europe</td>\n      <td>Western Europe</td>\n      <td>964</td>\n      <td>82091.27</td>\n      <td>656637.14</td>\n    </tr>\n    <tr>\n      <th>12</th>\n      <td>Europe</td>\n      <td>Southern Europe</td>\n      <td>338</td>\n      <td>18911.49</td>\n      <td>215703.93</td>\n    </tr>\n    <tr>\n      <th>13</th>\n      <td>Europe</td>\n      <td>Northern Europe</td>\n      <td>367</td>\n      <td>43237.44</td>\n      <td>252969.09</td>\n    </tr>\n    <tr>\n      <th>14</th>\n      <td>Europe</td>\n      <td>Eastern Europe</td>\n      <td>241</td>\n      <td>25050.69</td>\n      <td>108258.93</td>\n    </tr>\n    <tr>\n      <th>15</th>\n      <td>LATAM</td>\n      <td>South America</td>\n      <td>496</td>\n      <td>12377.59</td>\n      <td>210710.49</td>\n    </tr>\n    <tr>\n      <th>16</th>\n      <td>LATAM</td>\n      <td>Central America</td>\n      <td>930</td>\n      <td>74679.54</td>\n      <td>461670.28</td>\n    </tr>\n    <tr>\n      <th>17</th>\n      <td>LATAM</td>\n      <td>Caribbean</td>\n      <td>288</td>\n      <td>13529.59</td>\n      <td>116333.05</td>\n    </tr>\n    <tr>\n      <th>18</th>\n      <td>USCA</td>\n      <td>Western US</td>\n      <td>490</td>\n      <td>44303.65</td>\n      <td>251991.83</td>\n    </tr>\n    <tr>\n      <th>19</th>\n      <td>USCA</td>\n      <td>Southern US</td>\n      <td>255</td>\n      <td>19991.83</td>\n      <td>148771.91</td>\n    </tr>\n    <tr>\n      <th>20</th>\n      <td>USCA</td>\n      <td>Eastern US</td>\n      <td>443</td>\n      <td>47462.04</td>\n      <td>264973.98</td>\n    </tr>\n    <tr>\n      <th>21</th>\n      <td>USCA</td>\n      <td>Central US</td>\n      <td>356</td>\n      <td>33697.43</td>\n      <td>170416.31</td>\n    </tr>\n    <tr>\n      <th>22</th>\n      <td>USCA</td>\n      <td>Canada</td>\n      <td>49</td>\n      <td>7246.62</td>\n      <td>26298.81</td>\n    </tr>\n  </tbody>\n</table>\n</div>"
     },
     "metadata": {},
     "execution_count": 64
    }
   ],
   "source": [
    "# Read data from the file 'sales.xlsx'\n",
    "sales = pd.read_excel('sales.xlsx')\n",
    "\n",
    "# Check the created dataframe\n",
    "sales"
   ]
  },
  {
   "cell_type": "code",
   "execution_count": 65,
   "metadata": {},
   "outputs": [
    {
     "output_type": "execute_result",
     "data": {
      "text/plain": [
       "                         Market  No_of_Orders    Profit      Sales\n",
       "Region                                                            \n",
       "Western Africa           Africa           251 -12901.51   78476.06\n",
       "Southern Africa          Africa            85  11768.58   51319.50\n",
       "North Africa             Africa           182  21643.08   86698.89\n",
       "Eastern Africa           Africa           110   8013.04   44182.60\n",
       "Central Africa           Africa           103  15606.30   61689.99\n",
       "Western Asia       Asia Pacific           382 -16766.90  124312.24\n",
       "Southern Asia      Asia Pacific           469  67998.76  351806.60\n",
       "Southeastern Asia  Asia Pacific           533  20948.84  329751.38\n",
       "Oceania            Asia Pacific           646  54734.02  408002.98\n",
       "Eastern Asia       Asia Pacific           414  72805.10  315390.77\n",
       "Central Asia       Asia Pacific            37  -2649.76    8190.74\n",
       "Western Europe           Europe           964  82091.27  656637.14\n",
       "Southern Europe          Europe           338  18911.49  215703.93\n",
       "Northern Europe          Europe           367  43237.44  252969.09\n",
       "Eastern Europe           Europe           241  25050.69  108258.93\n",
       "South America             LATAM           496  12377.59  210710.49\n",
       "Central America           LATAM           930  74679.54  461670.28\n",
       "Caribbean                 LATAM           288  13529.59  116333.05\n",
       "Western US                 USCA           490  44303.65  251991.83\n",
       "Southern US                USCA           255  19991.83  148771.91\n",
       "Eastern US                 USCA           443  47462.04  264973.98\n",
       "Central US                 USCA           356  33697.43  170416.31\n",
       "Canada                     USCA            49   7246.62   26298.81"
      ],
      "text/html": "<div>\n<style scoped>\n    .dataframe tbody tr th:only-of-type {\n        vertical-align: middle;\n    }\n\n    .dataframe tbody tr th {\n        vertical-align: top;\n    }\n\n    .dataframe thead th {\n        text-align: right;\n    }\n</style>\n<table border=\"1\" class=\"dataframe\">\n  <thead>\n    <tr style=\"text-align: right;\">\n      <th></th>\n      <th>Market</th>\n      <th>No_of_Orders</th>\n      <th>Profit</th>\n      <th>Sales</th>\n    </tr>\n    <tr>\n      <th>Region</th>\n      <th></th>\n      <th></th>\n      <th></th>\n      <th></th>\n    </tr>\n  </thead>\n  <tbody>\n    <tr>\n      <th>Western Africa</th>\n      <td>Africa</td>\n      <td>251</td>\n      <td>-12901.51</td>\n      <td>78476.06</td>\n    </tr>\n    <tr>\n      <th>Southern Africa</th>\n      <td>Africa</td>\n      <td>85</td>\n      <td>11768.58</td>\n      <td>51319.50</td>\n    </tr>\n    <tr>\n      <th>North Africa</th>\n      <td>Africa</td>\n      <td>182</td>\n      <td>21643.08</td>\n      <td>86698.89</td>\n    </tr>\n    <tr>\n      <th>Eastern Africa</th>\n      <td>Africa</td>\n      <td>110</td>\n      <td>8013.04</td>\n      <td>44182.60</td>\n    </tr>\n    <tr>\n      <th>Central Africa</th>\n      <td>Africa</td>\n      <td>103</td>\n      <td>15606.30</td>\n      <td>61689.99</td>\n    </tr>\n    <tr>\n      <th>Western Asia</th>\n      <td>Asia Pacific</td>\n      <td>382</td>\n      <td>-16766.90</td>\n      <td>124312.24</td>\n    </tr>\n    <tr>\n      <th>Southern Asia</th>\n      <td>Asia Pacific</td>\n      <td>469</td>\n      <td>67998.76</td>\n      <td>351806.60</td>\n    </tr>\n    <tr>\n      <th>Southeastern Asia</th>\n      <td>Asia Pacific</td>\n      <td>533</td>\n      <td>20948.84</td>\n      <td>329751.38</td>\n    </tr>\n    <tr>\n      <th>Oceania</th>\n      <td>Asia Pacific</td>\n      <td>646</td>\n      <td>54734.02</td>\n      <td>408002.98</td>\n    </tr>\n    <tr>\n      <th>Eastern Asia</th>\n      <td>Asia Pacific</td>\n      <td>414</td>\n      <td>72805.10</td>\n      <td>315390.77</td>\n    </tr>\n    <tr>\n      <th>Central Asia</th>\n      <td>Asia Pacific</td>\n      <td>37</td>\n      <td>-2649.76</td>\n      <td>8190.74</td>\n    </tr>\n    <tr>\n      <th>Western Europe</th>\n      <td>Europe</td>\n      <td>964</td>\n      <td>82091.27</td>\n      <td>656637.14</td>\n    </tr>\n    <tr>\n      <th>Southern Europe</th>\n      <td>Europe</td>\n      <td>338</td>\n      <td>18911.49</td>\n      <td>215703.93</td>\n    </tr>\n    <tr>\n      <th>Northern Europe</th>\n      <td>Europe</td>\n      <td>367</td>\n      <td>43237.44</td>\n      <td>252969.09</td>\n    </tr>\n    <tr>\n      <th>Eastern Europe</th>\n      <td>Europe</td>\n      <td>241</td>\n      <td>25050.69</td>\n      <td>108258.93</td>\n    </tr>\n    <tr>\n      <th>South America</th>\n      <td>LATAM</td>\n      <td>496</td>\n      <td>12377.59</td>\n      <td>210710.49</td>\n    </tr>\n    <tr>\n      <th>Central America</th>\n      <td>LATAM</td>\n      <td>930</td>\n      <td>74679.54</td>\n      <td>461670.28</td>\n    </tr>\n    <tr>\n      <th>Caribbean</th>\n      <td>LATAM</td>\n      <td>288</td>\n      <td>13529.59</td>\n      <td>116333.05</td>\n    </tr>\n    <tr>\n      <th>Western US</th>\n      <td>USCA</td>\n      <td>490</td>\n      <td>44303.65</td>\n      <td>251991.83</td>\n    </tr>\n    <tr>\n      <th>Southern US</th>\n      <td>USCA</td>\n      <td>255</td>\n      <td>19991.83</td>\n      <td>148771.91</td>\n    </tr>\n    <tr>\n      <th>Eastern US</th>\n      <td>USCA</td>\n      <td>443</td>\n      <td>47462.04</td>\n      <td>264973.98</td>\n    </tr>\n    <tr>\n      <th>Central US</th>\n      <td>USCA</td>\n      <td>356</td>\n      <td>33697.43</td>\n      <td>170416.31</td>\n    </tr>\n    <tr>\n      <th>Canada</th>\n      <td>USCA</td>\n      <td>49</td>\n      <td>7246.62</td>\n      <td>26298.81</td>\n    </tr>\n  </tbody>\n</table>\n</div>"
     },
     "metadata": {},
     "execution_count": 65
    }
   ],
   "source": [
    "# Read the file with 'Region' as the index column\n",
    "sales = pd.read_excel('sales.xlsx',index_col=1)\n",
    "\n",
    "# Check the created dataframe\n",
    "sales"
   ]
  },
  {
   "cell_type": "code",
   "execution_count": 66,
   "metadata": {},
   "outputs": [
    {
     "output_type": "execute_result",
     "data": {
      "text/plain": [
       "                 Market  No_of_Orders    Profit     Sales\n",
       "Region                                                   \n",
       "Western Africa   Africa           251 -12901.51  78476.06\n",
       "Southern Africa  Africa            85  11768.58  51319.50\n",
       "North Africa     Africa           182  21643.08  86698.89\n",
       "Eastern Africa   Africa           110   8013.04  44182.60\n",
       "Central Africa   Africa           103  15606.30  61689.99"
      ],
      "text/html": "<div>\n<style scoped>\n    .dataframe tbody tr th:only-of-type {\n        vertical-align: middle;\n    }\n\n    .dataframe tbody tr th {\n        vertical-align: top;\n    }\n\n    .dataframe thead th {\n        text-align: right;\n    }\n</style>\n<table border=\"1\" class=\"dataframe\">\n  <thead>\n    <tr style=\"text-align: right;\">\n      <th></th>\n      <th>Market</th>\n      <th>No_of_Orders</th>\n      <th>Profit</th>\n      <th>Sales</th>\n    </tr>\n    <tr>\n      <th>Region</th>\n      <th></th>\n      <th></th>\n      <th></th>\n      <th></th>\n    </tr>\n  </thead>\n  <tbody>\n    <tr>\n      <th>Western Africa</th>\n      <td>Africa</td>\n      <td>251</td>\n      <td>-12901.51</td>\n      <td>78476.06</td>\n    </tr>\n    <tr>\n      <th>Southern Africa</th>\n      <td>Africa</td>\n      <td>85</td>\n      <td>11768.58</td>\n      <td>51319.50</td>\n    </tr>\n    <tr>\n      <th>North Africa</th>\n      <td>Africa</td>\n      <td>182</td>\n      <td>21643.08</td>\n      <td>86698.89</td>\n    </tr>\n    <tr>\n      <th>Eastern Africa</th>\n      <td>Africa</td>\n      <td>110</td>\n      <td>8013.04</td>\n      <td>44182.60</td>\n    </tr>\n    <tr>\n      <th>Central Africa</th>\n      <td>Africa</td>\n      <td>103</td>\n      <td>15606.30</td>\n      <td>61689.99</td>\n    </tr>\n  </tbody>\n</table>\n</div>"
     },
     "metadata": {},
     "execution_count": 66
    }
   ],
   "source": [
    "# Printing first 5 entries from a dataframe\n",
    "sales.head()"
   ]
  },
  {
   "cell_type": "code",
   "execution_count": 67,
   "metadata": {},
   "outputs": [
    {
     "output_type": "execute_result",
     "data": {
      "text/plain": [
       "                         Market  No_of_Orders    Profit      Sales\n",
       "Region                                                            \n",
       "Western Africa           Africa           251 -12901.51   78476.06\n",
       "Southern Africa          Africa            85  11768.58   51319.50\n",
       "North Africa             Africa           182  21643.08   86698.89\n",
       "Eastern Africa           Africa           110   8013.04   44182.60\n",
       "Central Africa           Africa           103  15606.30   61689.99\n",
       "Western Asia       Asia Pacific           382 -16766.90  124312.24\n",
       "Southern Asia      Asia Pacific           469  67998.76  351806.60\n",
       "Southeastern Asia  Asia Pacific           533  20948.84  329751.38"
      ],
      "text/html": "<div>\n<style scoped>\n    .dataframe tbody tr th:only-of-type {\n        vertical-align: middle;\n    }\n\n    .dataframe tbody tr th {\n        vertical-align: top;\n    }\n\n    .dataframe thead th {\n        text-align: right;\n    }\n</style>\n<table border=\"1\" class=\"dataframe\">\n  <thead>\n    <tr style=\"text-align: right;\">\n      <th></th>\n      <th>Market</th>\n      <th>No_of_Orders</th>\n      <th>Profit</th>\n      <th>Sales</th>\n    </tr>\n    <tr>\n      <th>Region</th>\n      <th></th>\n      <th></th>\n      <th></th>\n      <th></th>\n    </tr>\n  </thead>\n  <tbody>\n    <tr>\n      <th>Western Africa</th>\n      <td>Africa</td>\n      <td>251</td>\n      <td>-12901.51</td>\n      <td>78476.06</td>\n    </tr>\n    <tr>\n      <th>Southern Africa</th>\n      <td>Africa</td>\n      <td>85</td>\n      <td>11768.58</td>\n      <td>51319.50</td>\n    </tr>\n    <tr>\n      <th>North Africa</th>\n      <td>Africa</td>\n      <td>182</td>\n      <td>21643.08</td>\n      <td>86698.89</td>\n    </tr>\n    <tr>\n      <th>Eastern Africa</th>\n      <td>Africa</td>\n      <td>110</td>\n      <td>8013.04</td>\n      <td>44182.60</td>\n    </tr>\n    <tr>\n      <th>Central Africa</th>\n      <td>Africa</td>\n      <td>103</td>\n      <td>15606.30</td>\n      <td>61689.99</td>\n    </tr>\n    <tr>\n      <th>Western Asia</th>\n      <td>Asia Pacific</td>\n      <td>382</td>\n      <td>-16766.90</td>\n      <td>124312.24</td>\n    </tr>\n    <tr>\n      <th>Southern Asia</th>\n      <td>Asia Pacific</td>\n      <td>469</td>\n      <td>67998.76</td>\n      <td>351806.60</td>\n    </tr>\n    <tr>\n      <th>Southeastern Asia</th>\n      <td>Asia Pacific</td>\n      <td>533</td>\n      <td>20948.84</td>\n      <td>329751.38</td>\n    </tr>\n  </tbody>\n</table>\n</div>"
     },
     "metadata": {},
     "execution_count": 67
    }
   ],
   "source": [
    "# Printing first 8 entries of a dataframe\n",
    "sales.head(8)"
   ]
  },
  {
   "cell_type": "code",
   "execution_count": 68,
   "metadata": {},
   "outputs": [
    {
     "output_type": "execute_result",
     "data": {
      "text/plain": [
       "            Market  No_of_Orders    Profit      Sales\n",
       "Region                                               \n",
       "Western US    USCA           490  44303.65  251991.83\n",
       "Southern US   USCA           255  19991.83  148771.91\n",
       "Eastern US    USCA           443  47462.04  264973.98\n",
       "Central US    USCA           356  33697.43  170416.31\n",
       "Canada        USCA            49   7246.62   26298.81"
      ],
      "text/html": "<div>\n<style scoped>\n    .dataframe tbody tr th:only-of-type {\n        vertical-align: middle;\n    }\n\n    .dataframe tbody tr th {\n        vertical-align: top;\n    }\n\n    .dataframe thead th {\n        text-align: right;\n    }\n</style>\n<table border=\"1\" class=\"dataframe\">\n  <thead>\n    <tr style=\"text-align: right;\">\n      <th></th>\n      <th>Market</th>\n      <th>No_of_Orders</th>\n      <th>Profit</th>\n      <th>Sales</th>\n    </tr>\n    <tr>\n      <th>Region</th>\n      <th></th>\n      <th></th>\n      <th></th>\n      <th></th>\n    </tr>\n  </thead>\n  <tbody>\n    <tr>\n      <th>Western US</th>\n      <td>USCA</td>\n      <td>490</td>\n      <td>44303.65</td>\n      <td>251991.83</td>\n    </tr>\n    <tr>\n      <th>Southern US</th>\n      <td>USCA</td>\n      <td>255</td>\n      <td>19991.83</td>\n      <td>148771.91</td>\n    </tr>\n    <tr>\n      <th>Eastern US</th>\n      <td>USCA</td>\n      <td>443</td>\n      <td>47462.04</td>\n      <td>264973.98</td>\n    </tr>\n    <tr>\n      <th>Central US</th>\n      <td>USCA</td>\n      <td>356</td>\n      <td>33697.43</td>\n      <td>170416.31</td>\n    </tr>\n    <tr>\n      <th>Canada</th>\n      <td>USCA</td>\n      <td>49</td>\n      <td>7246.62</td>\n      <td>26298.81</td>\n    </tr>\n  </tbody>\n</table>\n</div>"
     },
     "metadata": {},
     "execution_count": 68
    }
   ],
   "source": [
    "# Printing last 5 entries of the dataframe\n",
    "sales.tail()"
   ]
  },
  {
   "cell_type": "code",
   "execution_count": 69,
   "metadata": {},
   "outputs": [
    {
     "output_type": "execute_result",
     "data": {
      "text/plain": [
       "           Market  No_of_Orders    Profit      Sales\n",
       "Region                                              \n",
       "Eastern US   USCA           443  47462.04  264973.98\n",
       "Central US   USCA           356  33697.43  170416.31\n",
       "Canada       USCA            49   7246.62   26298.81"
      ],
      "text/html": "<div>\n<style scoped>\n    .dataframe tbody tr th:only-of-type {\n        vertical-align: middle;\n    }\n\n    .dataframe tbody tr th {\n        vertical-align: top;\n    }\n\n    .dataframe thead th {\n        text-align: right;\n    }\n</style>\n<table border=\"1\" class=\"dataframe\">\n  <thead>\n    <tr style=\"text-align: right;\">\n      <th></th>\n      <th>Market</th>\n      <th>No_of_Orders</th>\n      <th>Profit</th>\n      <th>Sales</th>\n    </tr>\n    <tr>\n      <th>Region</th>\n      <th></th>\n      <th></th>\n      <th></th>\n      <th></th>\n    </tr>\n  </thead>\n  <tbody>\n    <tr>\n      <th>Eastern US</th>\n      <td>USCA</td>\n      <td>443</td>\n      <td>47462.04</td>\n      <td>264973.98</td>\n    </tr>\n    <tr>\n      <th>Central US</th>\n      <td>USCA</td>\n      <td>356</td>\n      <td>33697.43</td>\n      <td>170416.31</td>\n    </tr>\n    <tr>\n      <th>Canada</th>\n      <td>USCA</td>\n      <td>49</td>\n      <td>7246.62</td>\n      <td>26298.81</td>\n    </tr>\n  </tbody>\n</table>\n</div>"
     },
     "metadata": {},
     "execution_count": 69
    }
   ],
   "source": [
    "# Printing last 3 entries of the dataframe\n",
    "sales.tail(3)"
   ]
  },
  {
   "cell_type": "markdown",
   "metadata": {},
   "source": [
    "#### Summarising the dataframes"
   ]
  },
  {
   "cell_type": "markdown",
   "metadata": {},
   "source": [
    "A dataframe can have multiple columns and it is very important to understand what each column stores. You must be familiar with the column names, the data it stores, data type of each column, etc. Let's see different commands that will help you to do that."
   ]
  },
  {
   "cell_type": "code",
   "execution_count": 70,
   "metadata": {},
   "outputs": [
    {
     "output_type": "stream",
     "name": "stdout",
     "text": [
      "<class 'pandas.core.frame.DataFrame'>\nIndex: 23 entries, Western Africa to Canada\nData columns (total 4 columns):\n #   Column        Non-Null Count  Dtype  \n---  ------        --------------  -----  \n 0   Market        23 non-null     object \n 1   No_of_Orders  23 non-null     int64  \n 2   Profit        23 non-null     float64\n 3   Sales         23 non-null     float64\ndtypes: float64(2), int64(1), object(1)\nmemory usage: 920.0+ bytes\n"
     ]
    }
   ],
   "source": [
    "# Summarising the dataframe structure\n",
    "sales.info()"
   ]
  },
  {
   "cell_type": "code",
   "execution_count": 71,
   "metadata": {},
   "outputs": [
    {
     "output_type": "execute_result",
     "data": {
      "text/plain": [
       "       No_of_Orders        Profit          Sales\n",
       "count     23.000000     23.000000      23.000000\n",
       "mean     366.478261  28859.944783  206285.108696\n",
       "std      246.590361  27701.193773  160589.886606\n",
       "min       37.000000 -16766.900000    8190.740000\n",
       "25%      211.500000  12073.085000   82587.475000\n",
       "50%      356.000000  20948.840000  170416.310000\n",
       "75%      479.500000  45882.845000  290182.375000\n",
       "max      964.000000  82091.270000  656637.140000"
      ],
      "text/html": "<div>\n<style scoped>\n    .dataframe tbody tr th:only-of-type {\n        vertical-align: middle;\n    }\n\n    .dataframe tbody tr th {\n        vertical-align: top;\n    }\n\n    .dataframe thead th {\n        text-align: right;\n    }\n</style>\n<table border=\"1\" class=\"dataframe\">\n  <thead>\n    <tr style=\"text-align: right;\">\n      <th></th>\n      <th>No_of_Orders</th>\n      <th>Profit</th>\n      <th>Sales</th>\n    </tr>\n  </thead>\n  <tbody>\n    <tr>\n      <th>count</th>\n      <td>23.000000</td>\n      <td>23.000000</td>\n      <td>23.000000</td>\n    </tr>\n    <tr>\n      <th>mean</th>\n      <td>366.478261</td>\n      <td>28859.944783</td>\n      <td>206285.108696</td>\n    </tr>\n    <tr>\n      <th>std</th>\n      <td>246.590361</td>\n      <td>27701.193773</td>\n      <td>160589.886606</td>\n    </tr>\n    <tr>\n      <th>min</th>\n      <td>37.000000</td>\n      <td>-16766.900000</td>\n      <td>8190.740000</td>\n    </tr>\n    <tr>\n      <th>25%</th>\n      <td>211.500000</td>\n      <td>12073.085000</td>\n      <td>82587.475000</td>\n    </tr>\n    <tr>\n      <th>50%</th>\n      <td>356.000000</td>\n      <td>20948.840000</td>\n      <td>170416.310000</td>\n    </tr>\n    <tr>\n      <th>75%</th>\n      <td>479.500000</td>\n      <td>45882.845000</td>\n      <td>290182.375000</td>\n    </tr>\n    <tr>\n      <th>max</th>\n      <td>964.000000</td>\n      <td>82091.270000</td>\n      <td>656637.140000</td>\n    </tr>\n  </tbody>\n</table>\n</div>"
     },
     "metadata": {},
     "execution_count": 71
    }
   ],
   "source": [
    "# Summary of data stored in each column\n",
    "sales.describe()"
   ]
  },
  {
   "cell_type": "code",
   "execution_count": 72,
   "metadata": {},
   "outputs": [
    {
     "output_type": "execute_result",
     "data": {
      "text/plain": [
       "Profit       AxesSubplot(0.125,0.125;0.352273x0.755)\n",
       "Sales     AxesSubplot(0.547727,0.125;0.352273x0.755)\n",
       "dtype: object"
      ]
     },
     "metadata": {},
     "execution_count": 72
    },
    {
     "output_type": "display_data",
     "data": {
      "text/plain": "<Figure size 432x288 with 2 Axes>",
      "image/svg+xml": "<?xml version=\"1.0\" encoding=\"utf-8\" standalone=\"no\"?>\r\n<!DOCTYPE svg PUBLIC \"-//W3C//DTD SVG 1.1//EN\"\r\n  \"http://www.w3.org/Graphics/SVG/1.1/DTD/svg11.dtd\">\r\n<!-- Created with matplotlib (https://matplotlib.org/) -->\r\n<svg height=\"248.518125pt\" version=\"1.1\" viewBox=\"0 0 396.392187 248.518125\" width=\"396.392187pt\" xmlns=\"http://www.w3.org/2000/svg\" xmlns:xlink=\"http://www.w3.org/1999/xlink\">\r\n <metadata>\r\n  <rdf:RDF xmlns:cc=\"http://creativecommons.org/ns#\" xmlns:dc=\"http://purl.org/dc/elements/1.1/\" xmlns:rdf=\"http://www.w3.org/1999/02/22-rdf-syntax-ns#\">\r\n   <cc:Work>\r\n    <dc:type rdf:resource=\"http://purl.org/dc/dcmitype/StillImage\"/>\r\n    <dc:date>2021-03-11T23:58:52.646666</dc:date>\r\n    <dc:format>image/svg+xml</dc:format>\r\n    <dc:creator>\r\n     <cc:Agent>\r\n      <dc:title>Matplotlib v3.3.4, https://matplotlib.org/</dc:title>\r\n     </cc:Agent>\r\n    </dc:creator>\r\n   </cc:Work>\r\n  </rdf:RDF>\r\n </metadata>\r\n <defs>\r\n  <style type=\"text/css\">*{stroke-linecap:butt;stroke-linejoin:round;}</style>\r\n </defs>\r\n <g id=\"figure_1\">\r\n  <g id=\"patch_1\">\r\n   <path d=\"M 0 248.518125 \r\nL 396.392187 248.518125 \r\nL 396.392187 0 \r\nL 0 0 \r\nz\r\n\" style=\"fill:none;\"/>\r\n  </g>\r\n  <g id=\"axes_1\">\r\n   <g id=\"patch_2\">\r\n    <path d=\"M 54.392188 224.64 \r\nL 206.574006 224.64 \r\nL 206.574006 7.2 \r\nL 54.392188 7.2 \r\nz\r\n\" style=\"fill:#ffffff;\"/>\r\n   </g>\r\n   <g id=\"matplotlib.axis_1\">\r\n    <g id=\"xtick_1\">\r\n     <g id=\"line2d_1\">\r\n      <defs>\r\n       <path d=\"M 0 0 \r\nL 0 3.5 \r\n\" id=\"mbeee9de4d7\" style=\"stroke:#000000;stroke-width:0.8;\"/>\r\n      </defs>\r\n      <g>\r\n       <use style=\"stroke:#000000;stroke-width:0.8;\" x=\"130.483097\" xlink:href=\"#mbeee9de4d7\" y=\"224.64\"/>\r\n      </g>\r\n     </g>\r\n     <g id=\"text_1\">\r\n      <!-- Profit -->\r\n      <g transform=\"translate(117.444034 239.238437)scale(0.1 -0.1)\">\r\n       <defs>\r\n        <path d=\"M 19.671875 64.796875 \r\nL 19.671875 37.40625 \r\nL 32.078125 37.40625 \r\nQ 38.96875 37.40625 42.71875 40.96875 \r\nQ 46.484375 44.53125 46.484375 51.125 \r\nQ 46.484375 57.671875 42.71875 61.234375 \r\nQ 38.96875 64.796875 32.078125 64.796875 \r\nz\r\nM 9.8125 72.90625 \r\nL 32.078125 72.90625 \r\nQ 44.34375 72.90625 50.609375 67.359375 \r\nQ 56.890625 61.8125 56.890625 51.125 \r\nQ 56.890625 40.328125 50.609375 34.8125 \r\nQ 44.34375 29.296875 32.078125 29.296875 \r\nL 19.671875 29.296875 \r\nL 19.671875 0 \r\nL 9.8125 0 \r\nz\r\n\" id=\"DejaVuSans-80\"/>\r\n        <path d=\"M 41.109375 46.296875 \r\nQ 39.59375 47.171875 37.8125 47.578125 \r\nQ 36.03125 48 33.890625 48 \r\nQ 26.265625 48 22.1875 43.046875 \r\nQ 18.109375 38.09375 18.109375 28.8125 \r\nL 18.109375 0 \r\nL 9.078125 0 \r\nL 9.078125 54.6875 \r\nL 18.109375 54.6875 \r\nL 18.109375 46.1875 \r\nQ 20.953125 51.171875 25.484375 53.578125 \r\nQ 30.03125 56 36.53125 56 \r\nQ 37.453125 56 38.578125 55.875 \r\nQ 39.703125 55.765625 41.0625 55.515625 \r\nz\r\n\" id=\"DejaVuSans-114\"/>\r\n        <path d=\"M 30.609375 48.390625 \r\nQ 23.390625 48.390625 19.1875 42.75 \r\nQ 14.984375 37.109375 14.984375 27.296875 \r\nQ 14.984375 17.484375 19.15625 11.84375 \r\nQ 23.34375 6.203125 30.609375 6.203125 \r\nQ 37.796875 6.203125 41.984375 11.859375 \r\nQ 46.1875 17.53125 46.1875 27.296875 \r\nQ 46.1875 37.015625 41.984375 42.703125 \r\nQ 37.796875 48.390625 30.609375 48.390625 \r\nz\r\nM 30.609375 56 \r\nQ 42.328125 56 49.015625 48.375 \r\nQ 55.71875 40.765625 55.71875 27.296875 \r\nQ 55.71875 13.875 49.015625 6.21875 \r\nQ 42.328125 -1.421875 30.609375 -1.421875 \r\nQ 18.84375 -1.421875 12.171875 6.21875 \r\nQ 5.515625 13.875 5.515625 27.296875 \r\nQ 5.515625 40.765625 12.171875 48.375 \r\nQ 18.84375 56 30.609375 56 \r\nz\r\n\" id=\"DejaVuSans-111\"/>\r\n        <path d=\"M 37.109375 75.984375 \r\nL 37.109375 68.5 \r\nL 28.515625 68.5 \r\nQ 23.6875 68.5 21.796875 66.546875 \r\nQ 19.921875 64.59375 19.921875 59.515625 \r\nL 19.921875 54.6875 \r\nL 34.71875 54.6875 \r\nL 34.71875 47.703125 \r\nL 19.921875 47.703125 \r\nL 19.921875 0 \r\nL 10.890625 0 \r\nL 10.890625 47.703125 \r\nL 2.296875 47.703125 \r\nL 2.296875 54.6875 \r\nL 10.890625 54.6875 \r\nL 10.890625 58.5 \r\nQ 10.890625 67.625 15.140625 71.796875 \r\nQ 19.390625 75.984375 28.609375 75.984375 \r\nz\r\n\" id=\"DejaVuSans-102\"/>\r\n        <path d=\"M 9.421875 54.6875 \r\nL 18.40625 54.6875 \r\nL 18.40625 0 \r\nL 9.421875 0 \r\nz\r\nM 9.421875 75.984375 \r\nL 18.40625 75.984375 \r\nL 18.40625 64.59375 \r\nL 9.421875 64.59375 \r\nz\r\n\" id=\"DejaVuSans-105\"/>\r\n        <path d=\"M 18.3125 70.21875 \r\nL 18.3125 54.6875 \r\nL 36.8125 54.6875 \r\nL 36.8125 47.703125 \r\nL 18.3125 47.703125 \r\nL 18.3125 18.015625 \r\nQ 18.3125 11.328125 20.140625 9.421875 \r\nQ 21.96875 7.515625 27.59375 7.515625 \r\nL 36.8125 7.515625 \r\nL 36.8125 0 \r\nL 27.59375 0 \r\nQ 17.1875 0 13.234375 3.875 \r\nQ 9.28125 7.765625 9.28125 18.015625 \r\nL 9.28125 47.703125 \r\nL 2.6875 47.703125 \r\nL 2.6875 54.6875 \r\nL 9.28125 54.6875 \r\nL 9.28125 70.21875 \r\nz\r\n\" id=\"DejaVuSans-116\"/>\r\n       </defs>\r\n       <use xlink:href=\"#DejaVuSans-80\"/>\r\n       <use x=\"58.552734\" xlink:href=\"#DejaVuSans-114\"/>\r\n       <use x=\"97.416016\" xlink:href=\"#DejaVuSans-111\"/>\r\n       <use x=\"158.597656\" xlink:href=\"#DejaVuSans-102\"/>\r\n       <use x=\"193.802734\" xlink:href=\"#DejaVuSans-105\"/>\r\n       <use x=\"221.585938\" xlink:href=\"#DejaVuSans-116\"/>\r\n      </g>\r\n     </g>\r\n    </g>\r\n   </g>\r\n   <g id=\"matplotlib.axis_2\">\r\n    <g id=\"ytick_1\">\r\n     <g id=\"line2d_2\">\r\n      <defs>\r\n       <path d=\"M 0 0 \r\nL -3.5 0 \r\n\" id=\"m77ae8dee7a\" style=\"stroke:#000000;stroke-width:0.8;\"/>\r\n      </defs>\r\n      <g>\r\n       <use style=\"stroke:#000000;stroke-width:0.8;\" x=\"54.392188\" xlink:href=\"#m77ae8dee7a\" y=\"221.221137\"/>\r\n      </g>\r\n     </g>\r\n     <g id=\"text_2\">\r\n      <!-- −20000 -->\r\n      <g transform=\"translate(7.2 225.020356)scale(0.1 -0.1)\">\r\n       <defs>\r\n        <path d=\"M 10.59375 35.5 \r\nL 73.1875 35.5 \r\nL 73.1875 27.203125 \r\nL 10.59375 27.203125 \r\nz\r\n\" id=\"DejaVuSans-8722\"/>\r\n        <path d=\"M 19.1875 8.296875 \r\nL 53.609375 8.296875 \r\nL 53.609375 0 \r\nL 7.328125 0 \r\nL 7.328125 8.296875 \r\nQ 12.9375 14.109375 22.625 23.890625 \r\nQ 32.328125 33.6875 34.8125 36.53125 \r\nQ 39.546875 41.84375 41.421875 45.53125 \r\nQ 43.3125 49.21875 43.3125 52.78125 \r\nQ 43.3125 58.59375 39.234375 62.25 \r\nQ 35.15625 65.921875 28.609375 65.921875 \r\nQ 23.96875 65.921875 18.8125 64.3125 \r\nQ 13.671875 62.703125 7.8125 59.421875 \r\nL 7.8125 69.390625 \r\nQ 13.765625 71.78125 18.9375 73 \r\nQ 24.125 74.21875 28.421875 74.21875 \r\nQ 39.75 74.21875 46.484375 68.546875 \r\nQ 53.21875 62.890625 53.21875 53.421875 \r\nQ 53.21875 48.921875 51.53125 44.890625 \r\nQ 49.859375 40.875 45.40625 35.40625 \r\nQ 44.1875 33.984375 37.640625 27.21875 \r\nQ 31.109375 20.453125 19.1875 8.296875 \r\nz\r\n\" id=\"DejaVuSans-50\"/>\r\n        <path d=\"M 31.78125 66.40625 \r\nQ 24.171875 66.40625 20.328125 58.90625 \r\nQ 16.5 51.421875 16.5 36.375 \r\nQ 16.5 21.390625 20.328125 13.890625 \r\nQ 24.171875 6.390625 31.78125 6.390625 \r\nQ 39.453125 6.390625 43.28125 13.890625 \r\nQ 47.125 21.390625 47.125 36.375 \r\nQ 47.125 51.421875 43.28125 58.90625 \r\nQ 39.453125 66.40625 31.78125 66.40625 \r\nz\r\nM 31.78125 74.21875 \r\nQ 44.046875 74.21875 50.515625 64.515625 \r\nQ 56.984375 54.828125 56.984375 36.375 \r\nQ 56.984375 17.96875 50.515625 8.265625 \r\nQ 44.046875 -1.421875 31.78125 -1.421875 \r\nQ 19.53125 -1.421875 13.0625 8.265625 \r\nQ 6.59375 17.96875 6.59375 36.375 \r\nQ 6.59375 54.828125 13.0625 64.515625 \r\nQ 19.53125 74.21875 31.78125 74.21875 \r\nz\r\n\" id=\"DejaVuSans-48\"/>\r\n       </defs>\r\n       <use xlink:href=\"#DejaVuSans-8722\"/>\r\n       <use x=\"83.789062\" xlink:href=\"#DejaVuSans-50\"/>\r\n       <use x=\"147.412109\" xlink:href=\"#DejaVuSans-48\"/>\r\n       <use x=\"211.035156\" xlink:href=\"#DejaVuSans-48\"/>\r\n       <use x=\"274.658203\" xlink:href=\"#DejaVuSans-48\"/>\r\n       <use x=\"338.28125\" xlink:href=\"#DejaVuSans-48\"/>\r\n      </g>\r\n     </g>\r\n    </g>\r\n    <g id=\"ytick_2\">\r\n     <g id=\"line2d_3\">\r\n      <g>\r\n       <use style=\"stroke:#000000;stroke-width:0.8;\" x=\"54.392188\" xlink:href=\"#m77ae8dee7a\" y=\"181.229961\"/>\r\n      </g>\r\n     </g>\r\n     <g id=\"text_3\">\r\n      <!-- 0 -->\r\n      <g transform=\"translate(41.029688 185.029179)scale(0.1 -0.1)\">\r\n       <use xlink:href=\"#DejaVuSans-48\"/>\r\n      </g>\r\n     </g>\r\n    </g>\r\n    <g id=\"ytick_3\">\r\n     <g id=\"line2d_4\">\r\n      <g>\r\n       <use style=\"stroke:#000000;stroke-width:0.8;\" x=\"54.392188\" xlink:href=\"#m77ae8dee7a\" y=\"141.238784\"/>\r\n      </g>\r\n     </g>\r\n     <g id=\"text_4\">\r\n      <!-- 20000 -->\r\n      <g transform=\"translate(15.579688 145.038003)scale(0.1 -0.1)\">\r\n       <use xlink:href=\"#DejaVuSans-50\"/>\r\n       <use x=\"63.623047\" xlink:href=\"#DejaVuSans-48\"/>\r\n       <use x=\"127.246094\" xlink:href=\"#DejaVuSans-48\"/>\r\n       <use x=\"190.869141\" xlink:href=\"#DejaVuSans-48\"/>\r\n       <use x=\"254.492188\" xlink:href=\"#DejaVuSans-48\"/>\r\n      </g>\r\n     </g>\r\n    </g>\r\n    <g id=\"ytick_4\">\r\n     <g id=\"line2d_5\">\r\n      <g>\r\n       <use style=\"stroke:#000000;stroke-width:0.8;\" x=\"54.392188\" xlink:href=\"#m77ae8dee7a\" y=\"101.247607\"/>\r\n      </g>\r\n     </g>\r\n     <g id=\"text_5\">\r\n      <!-- 40000 -->\r\n      <g transform=\"translate(15.579688 105.046826)scale(0.1 -0.1)\">\r\n       <defs>\r\n        <path d=\"M 37.796875 64.3125 \r\nL 12.890625 25.390625 \r\nL 37.796875 25.390625 \r\nz\r\nM 35.203125 72.90625 \r\nL 47.609375 72.90625 \r\nL 47.609375 25.390625 \r\nL 58.015625 25.390625 \r\nL 58.015625 17.1875 \r\nL 47.609375 17.1875 \r\nL 47.609375 0 \r\nL 37.796875 0 \r\nL 37.796875 17.1875 \r\nL 4.890625 17.1875 \r\nL 4.890625 26.703125 \r\nz\r\n\" id=\"DejaVuSans-52\"/>\r\n       </defs>\r\n       <use xlink:href=\"#DejaVuSans-52\"/>\r\n       <use x=\"63.623047\" xlink:href=\"#DejaVuSans-48\"/>\r\n       <use x=\"127.246094\" xlink:href=\"#DejaVuSans-48\"/>\r\n       <use x=\"190.869141\" xlink:href=\"#DejaVuSans-48\"/>\r\n       <use x=\"254.492188\" xlink:href=\"#DejaVuSans-48\"/>\r\n      </g>\r\n     </g>\r\n    </g>\r\n    <g id=\"ytick_5\">\r\n     <g id=\"line2d_6\">\r\n      <g>\r\n       <use style=\"stroke:#000000;stroke-width:0.8;\" x=\"54.392188\" xlink:href=\"#m77ae8dee7a\" y=\"61.25643\"/>\r\n      </g>\r\n     </g>\r\n     <g id=\"text_6\">\r\n      <!-- 60000 -->\r\n      <g transform=\"translate(15.579688 65.055649)scale(0.1 -0.1)\">\r\n       <defs>\r\n        <path d=\"M 33.015625 40.375 \r\nQ 26.375 40.375 22.484375 35.828125 \r\nQ 18.609375 31.296875 18.609375 23.390625 \r\nQ 18.609375 15.53125 22.484375 10.953125 \r\nQ 26.375 6.390625 33.015625 6.390625 \r\nQ 39.65625 6.390625 43.53125 10.953125 \r\nQ 47.40625 15.53125 47.40625 23.390625 \r\nQ 47.40625 31.296875 43.53125 35.828125 \r\nQ 39.65625 40.375 33.015625 40.375 \r\nz\r\nM 52.59375 71.296875 \r\nL 52.59375 62.3125 \r\nQ 48.875 64.0625 45.09375 64.984375 \r\nQ 41.3125 65.921875 37.59375 65.921875 \r\nQ 27.828125 65.921875 22.671875 59.328125 \r\nQ 17.53125 52.734375 16.796875 39.40625 \r\nQ 19.671875 43.65625 24.015625 45.921875 \r\nQ 28.375 48.1875 33.59375 48.1875 \r\nQ 44.578125 48.1875 50.953125 41.515625 \r\nQ 57.328125 34.859375 57.328125 23.390625 \r\nQ 57.328125 12.15625 50.6875 5.359375 \r\nQ 44.046875 -1.421875 33.015625 -1.421875 \r\nQ 20.359375 -1.421875 13.671875 8.265625 \r\nQ 6.984375 17.96875 6.984375 36.375 \r\nQ 6.984375 53.65625 15.1875 63.9375 \r\nQ 23.390625 74.21875 37.203125 74.21875 \r\nQ 40.921875 74.21875 44.703125 73.484375 \r\nQ 48.484375 72.75 52.59375 71.296875 \r\nz\r\n\" id=\"DejaVuSans-54\"/>\r\n       </defs>\r\n       <use xlink:href=\"#DejaVuSans-54\"/>\r\n       <use x=\"63.623047\" xlink:href=\"#DejaVuSans-48\"/>\r\n       <use x=\"127.246094\" xlink:href=\"#DejaVuSans-48\"/>\r\n       <use x=\"190.869141\" xlink:href=\"#DejaVuSans-48\"/>\r\n       <use x=\"254.492188\" xlink:href=\"#DejaVuSans-48\"/>\r\n      </g>\r\n     </g>\r\n    </g>\r\n    <g id=\"ytick_6\">\r\n     <g id=\"line2d_7\">\r\n      <g>\r\n       <use style=\"stroke:#000000;stroke-width:0.8;\" x=\"54.392188\" xlink:href=\"#m77ae8dee7a\" y=\"21.265254\"/>\r\n      </g>\r\n     </g>\r\n     <g id=\"text_7\">\r\n      <!-- 80000 -->\r\n      <g transform=\"translate(15.579688 25.064473)scale(0.1 -0.1)\">\r\n       <defs>\r\n        <path d=\"M 31.78125 34.625 \r\nQ 24.75 34.625 20.71875 30.859375 \r\nQ 16.703125 27.09375 16.703125 20.515625 \r\nQ 16.703125 13.921875 20.71875 10.15625 \r\nQ 24.75 6.390625 31.78125 6.390625 \r\nQ 38.8125 6.390625 42.859375 10.171875 \r\nQ 46.921875 13.96875 46.921875 20.515625 \r\nQ 46.921875 27.09375 42.890625 30.859375 \r\nQ 38.875 34.625 31.78125 34.625 \r\nz\r\nM 21.921875 38.8125 \r\nQ 15.578125 40.375 12.03125 44.71875 \r\nQ 8.5 49.078125 8.5 55.328125 \r\nQ 8.5 64.0625 14.71875 69.140625 \r\nQ 20.953125 74.21875 31.78125 74.21875 \r\nQ 42.671875 74.21875 48.875 69.140625 \r\nQ 55.078125 64.0625 55.078125 55.328125 \r\nQ 55.078125 49.078125 51.53125 44.71875 \r\nQ 48 40.375 41.703125 38.8125 \r\nQ 48.828125 37.15625 52.796875 32.3125 \r\nQ 56.78125 27.484375 56.78125 20.515625 \r\nQ 56.78125 9.90625 50.3125 4.234375 \r\nQ 43.84375 -1.421875 31.78125 -1.421875 \r\nQ 19.734375 -1.421875 13.25 4.234375 \r\nQ 6.78125 9.90625 6.78125 20.515625 \r\nQ 6.78125 27.484375 10.78125 32.3125 \r\nQ 14.796875 37.15625 21.921875 38.8125 \r\nz\r\nM 18.3125 54.390625 \r\nQ 18.3125 48.734375 21.84375 45.5625 \r\nQ 25.390625 42.390625 31.78125 42.390625 \r\nQ 38.140625 42.390625 41.71875 45.5625 \r\nQ 45.3125 48.734375 45.3125 54.390625 \r\nQ 45.3125 60.0625 41.71875 63.234375 \r\nQ 38.140625 66.40625 31.78125 66.40625 \r\nQ 25.390625 66.40625 21.84375 63.234375 \r\nQ 18.3125 60.0625 18.3125 54.390625 \r\nz\r\n\" id=\"DejaVuSans-56\"/>\r\n       </defs>\r\n       <use xlink:href=\"#DejaVuSans-56\"/>\r\n       <use x=\"63.623047\" xlink:href=\"#DejaVuSans-48\"/>\r\n       <use x=\"127.246094\" xlink:href=\"#DejaVuSans-48\"/>\r\n       <use x=\"190.869141\" xlink:href=\"#DejaVuSans-48\"/>\r\n       <use x=\"254.492188\" xlink:href=\"#DejaVuSans-48\"/>\r\n      </g>\r\n     </g>\r\n    </g>\r\n   </g>\r\n   <g id=\"line2d_8\">\r\n    <path clip-path=\"url(#p34ce62eb93)\" d=\"M 119.06946 157.089117 \r\nL 141.896733 157.089117 \r\nL 141.896733 89.484512 \r\nL 119.06946 89.484512 \r\nL 119.06946 157.089117 \r\n\" style=\"fill:none;stroke:#1f77b4;stroke-linecap:square;\"/>\r\n   </g>\r\n   <g id=\"line2d_9\">\r\n    <path clip-path=\"url(#p34ce62eb93)\" d=\"M 130.483097 157.089117 \r\nL 130.483097 214.756364 \r\n\" style=\"fill:none;stroke:#1f77b4;stroke-linecap:square;\"/>\r\n   </g>\r\n   <g id=\"line2d_10\">\r\n    <path clip-path=\"url(#p34ce62eb93)\" d=\"M 130.483097 89.484512 \r\nL 130.483097 17.083636 \r\n\" style=\"fill:none;stroke:#1f77b4;stroke-linecap:square;\"/>\r\n   </g>\r\n   <g id=\"line2d_11\">\r\n    <path clip-path=\"url(#p34ce62eb93)\" d=\"M 124.776278 214.756364 \r\nL 136.189915 214.756364 \r\n\" style=\"fill:none;stroke:#000000;stroke-linecap:square;\"/>\r\n   </g>\r\n   <g id=\"line2d_12\">\r\n    <path clip-path=\"url(#p34ce62eb93)\" d=\"M 124.776278 17.083636 \r\nL 136.189915 17.083636 \r\n\" style=\"fill:none;stroke:#000000;stroke-linecap:square;\"/>\r\n   </g>\r\n   <g id=\"line2d_13\"/>\r\n   <g id=\"line2d_14\">\r\n    <path clip-path=\"url(#p34ce62eb93)\" d=\"M 119.06946 139.341522 \r\nL 141.896733 139.341522 \r\n\" style=\"fill:none;stroke:#2ca02c;stroke-linecap:square;\"/>\r\n   </g>\r\n   <g id=\"patch_3\">\r\n    <path d=\"M 54.392188 224.64 \r\nL 54.392188 7.2 \r\n\" style=\"fill:none;stroke:#000000;stroke-linecap:square;stroke-linejoin:miter;stroke-width:0.8;\"/>\r\n   </g>\r\n   <g id=\"patch_4\">\r\n    <path d=\"M 206.574006 224.64 \r\nL 206.574006 7.2 \r\n\" style=\"fill:none;stroke:#000000;stroke-linecap:square;stroke-linejoin:miter;stroke-width:0.8;\"/>\r\n   </g>\r\n   <g id=\"patch_5\">\r\n    <path d=\"M 54.392188 224.64 \r\nL 206.574006 224.64 \r\n\" style=\"fill:none;stroke:#000000;stroke-linecap:square;stroke-linejoin:miter;stroke-width:0.8;\"/>\r\n   </g>\r\n   <g id=\"patch_6\">\r\n    <path d=\"M 54.392188 7.2 \r\nL 206.574006 7.2 \r\n\" style=\"fill:none;stroke:#000000;stroke-linecap:square;stroke-linejoin:miter;stroke-width:0.8;\"/>\r\n   </g>\r\n  </g>\r\n  <g id=\"axes_2\">\r\n   <g id=\"patch_7\">\r\n    <path d=\"M 237.010369 224.64 \r\nL 389.192187 224.64 \r\nL 389.192187 7.2 \r\nL 237.010369 7.2 \r\nz\r\n\" style=\"fill:#ffffff;\"/>\r\n   </g>\r\n   <g id=\"matplotlib.axis_3\">\r\n    <g id=\"xtick_2\">\r\n     <g id=\"line2d_15\">\r\n      <g>\r\n       <use style=\"stroke:#000000;stroke-width:0.8;\" x=\"313.101278\" xlink:href=\"#mbeee9de4d7\" y=\"224.64\"/>\r\n      </g>\r\n     </g>\r\n     <g id=\"text_8\">\r\n      <!-- Sales -->\r\n      <g transform=\"translate(299.792685 239.238437)scale(0.1 -0.1)\">\r\n       <defs>\r\n        <path d=\"M 53.515625 70.515625 \r\nL 53.515625 60.890625 \r\nQ 47.90625 63.578125 42.921875 64.890625 \r\nQ 37.9375 66.21875 33.296875 66.21875 \r\nQ 25.25 66.21875 20.875 63.09375 \r\nQ 16.5 59.96875 16.5 54.203125 \r\nQ 16.5 49.359375 19.40625 46.890625 \r\nQ 22.3125 44.4375 30.421875 42.921875 \r\nL 36.375 41.703125 \r\nQ 47.40625 39.59375 52.65625 34.296875 \r\nQ 57.90625 29 57.90625 20.125 \r\nQ 57.90625 9.515625 50.796875 4.046875 \r\nQ 43.703125 -1.421875 29.984375 -1.421875 \r\nQ 24.8125 -1.421875 18.96875 -0.25 \r\nQ 13.140625 0.921875 6.890625 3.21875 \r\nL 6.890625 13.375 \r\nQ 12.890625 10.015625 18.65625 8.296875 \r\nQ 24.421875 6.59375 29.984375 6.59375 \r\nQ 38.421875 6.59375 43.015625 9.90625 \r\nQ 47.609375 13.234375 47.609375 19.390625 \r\nQ 47.609375 24.75 44.3125 27.78125 \r\nQ 41.015625 30.8125 33.5 32.328125 \r\nL 27.484375 33.5 \r\nQ 16.453125 35.6875 11.515625 40.375 \r\nQ 6.59375 45.0625 6.59375 53.421875 \r\nQ 6.59375 63.09375 13.40625 68.65625 \r\nQ 20.21875 74.21875 32.171875 74.21875 \r\nQ 37.3125 74.21875 42.625 73.28125 \r\nQ 47.953125 72.359375 53.515625 70.515625 \r\nz\r\n\" id=\"DejaVuSans-83\"/>\r\n        <path d=\"M 34.28125 27.484375 \r\nQ 23.390625 27.484375 19.1875 25 \r\nQ 14.984375 22.515625 14.984375 16.5 \r\nQ 14.984375 11.71875 18.140625 8.90625 \r\nQ 21.296875 6.109375 26.703125 6.109375 \r\nQ 34.1875 6.109375 38.703125 11.40625 \r\nQ 43.21875 16.703125 43.21875 25.484375 \r\nL 43.21875 27.484375 \r\nz\r\nM 52.203125 31.203125 \r\nL 52.203125 0 \r\nL 43.21875 0 \r\nL 43.21875 8.296875 \r\nQ 40.140625 3.328125 35.546875 0.953125 \r\nQ 30.953125 -1.421875 24.3125 -1.421875 \r\nQ 15.921875 -1.421875 10.953125 3.296875 \r\nQ 6 8.015625 6 15.921875 \r\nQ 6 25.140625 12.171875 29.828125 \r\nQ 18.359375 34.515625 30.609375 34.515625 \r\nL 43.21875 34.515625 \r\nL 43.21875 35.40625 \r\nQ 43.21875 41.609375 39.140625 45 \r\nQ 35.0625 48.390625 27.6875 48.390625 \r\nQ 23 48.390625 18.546875 47.265625 \r\nQ 14.109375 46.140625 10.015625 43.890625 \r\nL 10.015625 52.203125 \r\nQ 14.9375 54.109375 19.578125 55.046875 \r\nQ 24.21875 56 28.609375 56 \r\nQ 40.484375 56 46.34375 49.84375 \r\nQ 52.203125 43.703125 52.203125 31.203125 \r\nz\r\n\" id=\"DejaVuSans-97\"/>\r\n        <path d=\"M 9.421875 75.984375 \r\nL 18.40625 75.984375 \r\nL 18.40625 0 \r\nL 9.421875 0 \r\nz\r\n\" id=\"DejaVuSans-108\"/>\r\n        <path d=\"M 56.203125 29.59375 \r\nL 56.203125 25.203125 \r\nL 14.890625 25.203125 \r\nQ 15.484375 15.921875 20.484375 11.0625 \r\nQ 25.484375 6.203125 34.421875 6.203125 \r\nQ 39.59375 6.203125 44.453125 7.46875 \r\nQ 49.3125 8.734375 54.109375 11.28125 \r\nL 54.109375 2.78125 \r\nQ 49.265625 0.734375 44.1875 -0.34375 \r\nQ 39.109375 -1.421875 33.890625 -1.421875 \r\nQ 20.796875 -1.421875 13.15625 6.1875 \r\nQ 5.515625 13.8125 5.515625 26.8125 \r\nQ 5.515625 40.234375 12.765625 48.109375 \r\nQ 20.015625 56 32.328125 56 \r\nQ 43.359375 56 49.78125 48.890625 \r\nQ 56.203125 41.796875 56.203125 29.59375 \r\nz\r\nM 47.21875 32.234375 \r\nQ 47.125 39.59375 43.09375 43.984375 \r\nQ 39.0625 48.390625 32.421875 48.390625 \r\nQ 24.90625 48.390625 20.390625 44.140625 \r\nQ 15.875 39.890625 15.1875 32.171875 \r\nz\r\n\" id=\"DejaVuSans-101\"/>\r\n        <path d=\"M 44.28125 53.078125 \r\nL 44.28125 44.578125 \r\nQ 40.484375 46.53125 36.375 47.5 \r\nQ 32.28125 48.484375 27.875 48.484375 \r\nQ 21.1875 48.484375 17.84375 46.4375 \r\nQ 14.5 44.390625 14.5 40.28125 \r\nQ 14.5 37.15625 16.890625 35.375 \r\nQ 19.28125 33.59375 26.515625 31.984375 \r\nL 29.59375 31.296875 \r\nQ 39.15625 29.25 43.1875 25.515625 \r\nQ 47.21875 21.78125 47.21875 15.09375 \r\nQ 47.21875 7.46875 41.1875 3.015625 \r\nQ 35.15625 -1.421875 24.609375 -1.421875 \r\nQ 20.21875 -1.421875 15.453125 -0.5625 \r\nQ 10.6875 0.296875 5.421875 2 \r\nL 5.421875 11.28125 \r\nQ 10.40625 8.6875 15.234375 7.390625 \r\nQ 20.0625 6.109375 24.8125 6.109375 \r\nQ 31.15625 6.109375 34.5625 8.28125 \r\nQ 37.984375 10.453125 37.984375 14.40625 \r\nQ 37.984375 18.0625 35.515625 20.015625 \r\nQ 33.0625 21.96875 24.703125 23.78125 \r\nL 21.578125 24.515625 \r\nQ 13.234375 26.265625 9.515625 29.90625 \r\nQ 5.8125 33.546875 5.8125 39.890625 \r\nQ 5.8125 47.609375 11.28125 51.796875 \r\nQ 16.75 56 26.8125 56 \r\nQ 31.78125 56 36.171875 55.265625 \r\nQ 40.578125 54.546875 44.28125 53.078125 \r\nz\r\n\" id=\"DejaVuSans-115\"/>\r\n       </defs>\r\n       <use xlink:href=\"#DejaVuSans-83\"/>\r\n       <use x=\"63.476562\" xlink:href=\"#DejaVuSans-97\"/>\r\n       <use x=\"124.755859\" xlink:href=\"#DejaVuSans-108\"/>\r\n       <use x=\"152.539062\" xlink:href=\"#DejaVuSans-101\"/>\r\n       <use x=\"214.0625\" xlink:href=\"#DejaVuSans-115\"/>\r\n      </g>\r\n     </g>\r\n    </g>\r\n   </g>\r\n   <g id=\"matplotlib.axis_4\">\r\n    <g id=\"ytick_7\">\r\n     <g id=\"line2d_16\">\r\n      <g>\r\n       <use style=\"stroke:#000000;stroke-width:0.8;\" x=\"237.010369\" xlink:href=\"#m77ae8dee7a\" y=\"217.253233\"/>\r\n      </g>\r\n     </g>\r\n     <g id=\"text_9\">\r\n      <!-- 0 -->\r\n      <g transform=\"translate(223.647869 221.052452)scale(0.1 -0.1)\">\r\n       <use xlink:href=\"#DejaVuSans-48\"/>\r\n      </g>\r\n     </g>\r\n    </g>\r\n    <g id=\"ytick_8\">\r\n     <g id=\"line2d_17\">\r\n      <g>\r\n       <use style=\"stroke:#000000;stroke-width:0.8;\" x=\"237.010369\" xlink:href=\"#m77ae8dee7a\" y=\"186.769183\"/>\r\n      </g>\r\n     </g>\r\n     <g id=\"text_10\">\r\n      <!-- 100000 -->\r\n      <g transform=\"translate(191.835369 190.568401)scale(0.1 -0.1)\">\r\n       <defs>\r\n        <path d=\"M 12.40625 8.296875 \r\nL 28.515625 8.296875 \r\nL 28.515625 63.921875 \r\nL 10.984375 60.40625 \r\nL 10.984375 69.390625 \r\nL 28.421875 72.90625 \r\nL 38.28125 72.90625 \r\nL 38.28125 8.296875 \r\nL 54.390625 8.296875 \r\nL 54.390625 0 \r\nL 12.40625 0 \r\nz\r\n\" id=\"DejaVuSans-49\"/>\r\n       </defs>\r\n       <use xlink:href=\"#DejaVuSans-49\"/>\r\n       <use x=\"63.623047\" xlink:href=\"#DejaVuSans-48\"/>\r\n       <use x=\"127.246094\" xlink:href=\"#DejaVuSans-48\"/>\r\n       <use x=\"190.869141\" xlink:href=\"#DejaVuSans-48\"/>\r\n       <use x=\"254.492188\" xlink:href=\"#DejaVuSans-48\"/>\r\n       <use x=\"318.115234\" xlink:href=\"#DejaVuSans-48\"/>\r\n      </g>\r\n     </g>\r\n    </g>\r\n    <g id=\"ytick_9\">\r\n     <g id=\"line2d_18\">\r\n      <g>\r\n       <use style=\"stroke:#000000;stroke-width:0.8;\" x=\"237.010369\" xlink:href=\"#m77ae8dee7a\" y=\"156.285132\"/>\r\n      </g>\r\n     </g>\r\n     <g id=\"text_11\">\r\n      <!-- 200000 -->\r\n      <g transform=\"translate(191.835369 160.084351)scale(0.1 -0.1)\">\r\n       <use xlink:href=\"#DejaVuSans-50\"/>\r\n       <use x=\"63.623047\" xlink:href=\"#DejaVuSans-48\"/>\r\n       <use x=\"127.246094\" xlink:href=\"#DejaVuSans-48\"/>\r\n       <use x=\"190.869141\" xlink:href=\"#DejaVuSans-48\"/>\r\n       <use x=\"254.492188\" xlink:href=\"#DejaVuSans-48\"/>\r\n       <use x=\"318.115234\" xlink:href=\"#DejaVuSans-48\"/>\r\n      </g>\r\n     </g>\r\n    </g>\r\n    <g id=\"ytick_10\">\r\n     <g id=\"line2d_19\">\r\n      <g>\r\n       <use style=\"stroke:#000000;stroke-width:0.8;\" x=\"237.010369\" xlink:href=\"#m77ae8dee7a\" y=\"125.801082\"/>\r\n      </g>\r\n     </g>\r\n     <g id=\"text_12\">\r\n      <!-- 300000 -->\r\n      <g transform=\"translate(191.835369 129.600301)scale(0.1 -0.1)\">\r\n       <defs>\r\n        <path d=\"M 40.578125 39.3125 \r\nQ 47.65625 37.796875 51.625 33 \r\nQ 55.609375 28.21875 55.609375 21.1875 \r\nQ 55.609375 10.40625 48.1875 4.484375 \r\nQ 40.765625 -1.421875 27.09375 -1.421875 \r\nQ 22.515625 -1.421875 17.65625 -0.515625 \r\nQ 12.796875 0.390625 7.625 2.203125 \r\nL 7.625 11.71875 \r\nQ 11.71875 9.328125 16.59375 8.109375 \r\nQ 21.484375 6.890625 26.8125 6.890625 \r\nQ 36.078125 6.890625 40.9375 10.546875 \r\nQ 45.796875 14.203125 45.796875 21.1875 \r\nQ 45.796875 27.640625 41.28125 31.265625 \r\nQ 36.765625 34.90625 28.71875 34.90625 \r\nL 20.21875 34.90625 \r\nL 20.21875 43.015625 \r\nL 29.109375 43.015625 \r\nQ 36.375 43.015625 40.234375 45.921875 \r\nQ 44.09375 48.828125 44.09375 54.296875 \r\nQ 44.09375 59.90625 40.109375 62.90625 \r\nQ 36.140625 65.921875 28.71875 65.921875 \r\nQ 24.65625 65.921875 20.015625 65.03125 \r\nQ 15.375 64.15625 9.8125 62.3125 \r\nL 9.8125 71.09375 \r\nQ 15.4375 72.65625 20.34375 73.4375 \r\nQ 25.25 74.21875 29.59375 74.21875 \r\nQ 40.828125 74.21875 47.359375 69.109375 \r\nQ 53.90625 64.015625 53.90625 55.328125 \r\nQ 53.90625 49.265625 50.4375 45.09375 \r\nQ 46.96875 40.921875 40.578125 39.3125 \r\nz\r\n\" id=\"DejaVuSans-51\"/>\r\n       </defs>\r\n       <use xlink:href=\"#DejaVuSans-51\"/>\r\n       <use x=\"63.623047\" xlink:href=\"#DejaVuSans-48\"/>\r\n       <use x=\"127.246094\" xlink:href=\"#DejaVuSans-48\"/>\r\n       <use x=\"190.869141\" xlink:href=\"#DejaVuSans-48\"/>\r\n       <use x=\"254.492188\" xlink:href=\"#DejaVuSans-48\"/>\r\n       <use x=\"318.115234\" xlink:href=\"#DejaVuSans-48\"/>\r\n      </g>\r\n     </g>\r\n    </g>\r\n    <g id=\"ytick_11\">\r\n     <g id=\"line2d_20\">\r\n      <g>\r\n       <use style=\"stroke:#000000;stroke-width:0.8;\" x=\"237.010369\" xlink:href=\"#m77ae8dee7a\" y=\"95.317031\"/>\r\n      </g>\r\n     </g>\r\n     <g id=\"text_13\">\r\n      <!-- 400000 -->\r\n      <g transform=\"translate(191.835369 99.11625)scale(0.1 -0.1)\">\r\n       <use xlink:href=\"#DejaVuSans-52\"/>\r\n       <use x=\"63.623047\" xlink:href=\"#DejaVuSans-48\"/>\r\n       <use x=\"127.246094\" xlink:href=\"#DejaVuSans-48\"/>\r\n       <use x=\"190.869141\" xlink:href=\"#DejaVuSans-48\"/>\r\n       <use x=\"254.492188\" xlink:href=\"#DejaVuSans-48\"/>\r\n       <use x=\"318.115234\" xlink:href=\"#DejaVuSans-48\"/>\r\n      </g>\r\n     </g>\r\n    </g>\r\n    <g id=\"ytick_12\">\r\n     <g id=\"line2d_21\">\r\n      <g>\r\n       <use style=\"stroke:#000000;stroke-width:0.8;\" x=\"237.010369\" xlink:href=\"#m77ae8dee7a\" y=\"64.832981\"/>\r\n      </g>\r\n     </g>\r\n     <g id=\"text_14\">\r\n      <!-- 500000 -->\r\n      <g transform=\"translate(191.835369 68.6322)scale(0.1 -0.1)\">\r\n       <defs>\r\n        <path d=\"M 10.796875 72.90625 \r\nL 49.515625 72.90625 \r\nL 49.515625 64.59375 \r\nL 19.828125 64.59375 \r\nL 19.828125 46.734375 \r\nQ 21.96875 47.46875 24.109375 47.828125 \r\nQ 26.265625 48.1875 28.421875 48.1875 \r\nQ 40.625 48.1875 47.75 41.5 \r\nQ 54.890625 34.8125 54.890625 23.390625 \r\nQ 54.890625 11.625 47.5625 5.09375 \r\nQ 40.234375 -1.421875 26.90625 -1.421875 \r\nQ 22.3125 -1.421875 17.546875 -0.640625 \r\nQ 12.796875 0.140625 7.71875 1.703125 \r\nL 7.71875 11.625 \r\nQ 12.109375 9.234375 16.796875 8.0625 \r\nQ 21.484375 6.890625 26.703125 6.890625 \r\nQ 35.15625 6.890625 40.078125 11.328125 \r\nQ 45.015625 15.765625 45.015625 23.390625 \r\nQ 45.015625 31 40.078125 35.4375 \r\nQ 35.15625 39.890625 26.703125 39.890625 \r\nQ 22.75 39.890625 18.8125 39.015625 \r\nQ 14.890625 38.140625 10.796875 36.28125 \r\nz\r\n\" id=\"DejaVuSans-53\"/>\r\n       </defs>\r\n       <use xlink:href=\"#DejaVuSans-53\"/>\r\n       <use x=\"63.623047\" xlink:href=\"#DejaVuSans-48\"/>\r\n       <use x=\"127.246094\" xlink:href=\"#DejaVuSans-48\"/>\r\n       <use x=\"190.869141\" xlink:href=\"#DejaVuSans-48\"/>\r\n       <use x=\"254.492188\" xlink:href=\"#DejaVuSans-48\"/>\r\n       <use x=\"318.115234\" xlink:href=\"#DejaVuSans-48\"/>\r\n      </g>\r\n     </g>\r\n    </g>\r\n    <g id=\"ytick_13\">\r\n     <g id=\"line2d_22\">\r\n      <g>\r\n       <use style=\"stroke:#000000;stroke-width:0.8;\" x=\"237.010369\" xlink:href=\"#m77ae8dee7a\" y=\"34.348931\"/>\r\n      </g>\r\n     </g>\r\n     <g id=\"text_15\">\r\n      <!-- 600000 -->\r\n      <g transform=\"translate(191.835369 38.148149)scale(0.1 -0.1)\">\r\n       <use xlink:href=\"#DejaVuSans-54\"/>\r\n       <use x=\"63.623047\" xlink:href=\"#DejaVuSans-48\"/>\r\n       <use x=\"127.246094\" xlink:href=\"#DejaVuSans-48\"/>\r\n       <use x=\"190.869141\" xlink:href=\"#DejaVuSans-48\"/>\r\n       <use x=\"254.492188\" xlink:href=\"#DejaVuSans-48\"/>\r\n       <use x=\"318.115234\" xlink:href=\"#DejaVuSans-48\"/>\r\n      </g>\r\n     </g>\r\n    </g>\r\n   </g>\r\n   <g id=\"line2d_23\">\r\n    <path clip-path=\"url(#p6c27fbb690)\" d=\"M 301.687642 192.077225 \r\nL 324.514915 192.077225 \r\nL 324.514915 128.793892 \r\nL 301.687642 128.793892 \r\nL 301.687642 192.077225 \r\n\" style=\"fill:none;stroke:#1f77b4;stroke-linecap:square;\"/>\r\n   </g>\r\n   <g id=\"line2d_24\">\r\n    <path clip-path=\"url(#p6c27fbb690)\" d=\"M 313.101278 192.077225 \r\nL 313.101278 214.756364 \r\n\" style=\"fill:none;stroke:#1f77b4;stroke-linecap:square;\"/>\r\n   </g>\r\n   <g id=\"line2d_25\">\r\n    <path clip-path=\"url(#p6c27fbb690)\" d=\"M 313.101278 128.793892 \r\nL 313.101278 76.517432 \r\n\" style=\"fill:none;stroke:#1f77b4;stroke-linecap:square;\"/>\r\n   </g>\r\n   <g id=\"line2d_26\">\r\n    <path clip-path=\"url(#p6c27fbb690)\" d=\"M 307.39446 214.756364 \r\nL 318.808097 214.756364 \r\n\" style=\"fill:none;stroke:#000000;stroke-linecap:square;\"/>\r\n   </g>\r\n   <g id=\"line2d_27\">\r\n    <path clip-path=\"url(#p6c27fbb690)\" d=\"M 307.39446 76.517432 \r\nL 318.808097 76.517432 \r\n\" style=\"fill:none;stroke:#000000;stroke-linecap:square;\"/>\r\n   </g>\r\n   <g id=\"line2d_28\">\r\n    <defs>\r\n     <path d=\"M 0 3 \r\nC 0.795609 3 1.55874 2.683901 2.12132 2.12132 \r\nC 2.683901 1.55874 3 0.795609 3 0 \r\nC 3 -0.795609 2.683901 -1.55874 2.12132 -2.12132 \r\nC 1.55874 -2.683901 0.795609 -3 0 -3 \r\nC -0.795609 -3 -1.55874 -2.683901 -2.12132 -2.12132 \r\nC -2.683901 -1.55874 -3 -0.795609 -3 0 \r\nC -3 0.795609 -2.683901 1.55874 -2.12132 2.12132 \r\nC -1.55874 2.683901 -0.795609 3 0 3 \r\nz\r\n\" id=\"m754bb3be6b\" style=\"stroke:#000000;\"/>\r\n    </defs>\r\n    <g clip-path=\"url(#p6c27fbb690)\">\r\n     <use style=\"fill-opacity:0;stroke:#000000;\" x=\"313.101278\" xlink:href=\"#m754bb3be6b\" y=\"17.083636\"/>\r\n    </g>\r\n   </g>\r\n   <g id=\"line2d_29\">\r\n    <path clip-path=\"url(#p6c27fbb690)\" d=\"M 301.687642 165.303439 \r\nL 324.514915 165.303439 \r\n\" style=\"fill:none;stroke:#2ca02c;stroke-linecap:square;\"/>\r\n   </g>\r\n   <g id=\"patch_8\">\r\n    <path d=\"M 237.010369 224.64 \r\nL 237.010369 7.2 \r\n\" style=\"fill:none;stroke:#000000;stroke-linecap:square;stroke-linejoin:miter;stroke-width:0.8;\"/>\r\n   </g>\r\n   <g id=\"patch_9\">\r\n    <path d=\"M 389.192187 224.64 \r\nL 389.192187 7.2 \r\n\" style=\"fill:none;stroke:#000000;stroke-linecap:square;stroke-linejoin:miter;stroke-width:0.8;\"/>\r\n   </g>\r\n   <g id=\"patch_10\">\r\n    <path d=\"M 237.010369 224.64 \r\nL 389.192187 224.64 \r\n\" style=\"fill:none;stroke:#000000;stroke-linecap:square;stroke-linejoin:miter;stroke-width:0.8;\"/>\r\n   </g>\r\n   <g id=\"patch_11\">\r\n    <path d=\"M 237.010369 7.2 \r\nL 389.192187 7.2 \r\n\" style=\"fill:none;stroke:#000000;stroke-linecap:square;stroke-linejoin:miter;stroke-width:0.8;\"/>\r\n   </g>\r\n  </g>\r\n </g>\r\n <defs>\r\n  <clipPath id=\"p34ce62eb93\">\r\n   <rect height=\"217.44\" width=\"152.181818\" x=\"54.392188\" y=\"7.2\"/>\r\n  </clipPath>\r\n  <clipPath id=\"p6c27fbb690\">\r\n   <rect height=\"217.44\" width=\"152.181818\" x=\"237.010369\" y=\"7.2\"/>\r\n  </clipPath>\r\n </defs>\r\n</svg>\r\n",
      "image/png": "[encoded data removed]"
     },
     "metadata": {
      "needs_background": "light"
     }
    }
   ],
   "source": [
    "# Graphically summarising the spread of the columns - Profit and Sales\n",
    "import matplotlib.pyplot as plt \n",
    "sales[['Profit','Sales']].plot(kind='box',subplots=True)"
   ]
  },
  {
   "cell_type": "code",
   "execution_count": null,
   "metadata": {},
   "outputs": [],
   "source": []
  },
  {
   "cell_type": "markdown",
   "metadata": {},
   "source": [
    "## Python Libraries - Pandas - Indexing and Slicing"
   ]
  },
  {
   "cell_type": "markdown",
   "metadata": {},
   "source": [
    "In this section, you will:\n",
    "\n",
    "* Select rows from a dataframe\n",
    "* Select columns from a dataframe\n",
    "* Select subsets of dataframes"
   ]
  },
  {
   "cell_type": "markdown",
   "metadata": {},
   "source": [
    "### Selecting Rows\n",
    "\n",
    "Selecting rows in dataframes is similar to the indexing you have seen in numpy arrays. The syntax ```df[start_index:end_index]``` will subset rows according to the start and end indices."
   ]
  },
  {
   "cell_type": "code",
   "execution_count": 73,
   "metadata": {},
   "outputs": [
    {
     "output_type": "execute_result",
     "data": {
      "text/plain": [
       "                 Market  No_of_Orders    Profit     Sales\n",
       "Region                                                   \n",
       "Western Africa   Africa           251 -12901.51  78476.06\n",
       "Southern Africa  Africa            85  11768.58  51319.50\n",
       "North Africa     Africa           182  21643.08  86698.89\n",
       "Eastern Africa   Africa           110   8013.04  44182.60\n",
       "Central Africa   Africa           103  15606.30  61689.99"
      ],
      "text/html": "<div>\n<style scoped>\n    .dataframe tbody tr th:only-of-type {\n        vertical-align: middle;\n    }\n\n    .dataframe tbody tr th {\n        vertical-align: top;\n    }\n\n    .dataframe thead th {\n        text-align: right;\n    }\n</style>\n<table border=\"1\" class=\"dataframe\">\n  <thead>\n    <tr style=\"text-align: right;\">\n      <th></th>\n      <th>Market</th>\n      <th>No_of_Orders</th>\n      <th>Profit</th>\n      <th>Sales</th>\n    </tr>\n    <tr>\n      <th>Region</th>\n      <th></th>\n      <th></th>\n      <th></th>\n      <th></th>\n    </tr>\n  </thead>\n  <tbody>\n    <tr>\n      <th>Western Africa</th>\n      <td>Africa</td>\n      <td>251</td>\n      <td>-12901.51</td>\n      <td>78476.06</td>\n    </tr>\n    <tr>\n      <th>Southern Africa</th>\n      <td>Africa</td>\n      <td>85</td>\n      <td>11768.58</td>\n      <td>51319.50</td>\n    </tr>\n    <tr>\n      <th>North Africa</th>\n      <td>Africa</td>\n      <td>182</td>\n      <td>21643.08</td>\n      <td>86698.89</td>\n    </tr>\n    <tr>\n      <th>Eastern Africa</th>\n      <td>Africa</td>\n      <td>110</td>\n      <td>8013.04</td>\n      <td>44182.60</td>\n    </tr>\n    <tr>\n      <th>Central Africa</th>\n      <td>Africa</td>\n      <td>103</td>\n      <td>15606.30</td>\n      <td>61689.99</td>\n    </tr>\n  </tbody>\n</table>\n</div>"
     },
     "metadata": {},
     "execution_count": 73
    }
   ],
   "source": [
    "# Read data from the file 'sales.xlsx'\n",
    "sales = pd.read_excel('sales.xlsx',index_col=1)\n",
    "\n",
    "# Check the created dataframe\n",
    "sales.head()\n",
    "# Remember - you should print limited number of entries to check the dataframe\n"
   ]
  },
  {
   "cell_type": "code",
   "execution_count": 74,
   "metadata": {},
   "outputs": [
    {
     "output_type": "execute_result",
     "data": {
      "text/plain": [
       "                 Market  No_of_Orders    Profit     Sales\n",
       "Region                                                   \n",
       "Western Africa   Africa           251 -12901.51  78476.06\n",
       "Southern Africa  Africa            85  11768.58  51319.50\n",
       "North Africa     Africa           182  21643.08  86698.89\n",
       "Eastern Africa   Africa           110   8013.04  44182.60\n",
       "Central Africa   Africa           103  15606.30  61689.99"
      ],
      "text/html": "<div>\n<style scoped>\n    .dataframe tbody tr th:only-of-type {\n        vertical-align: middle;\n    }\n\n    .dataframe tbody tr th {\n        vertical-align: top;\n    }\n\n    .dataframe thead th {\n        text-align: right;\n    }\n</style>\n<table border=\"1\" class=\"dataframe\">\n  <thead>\n    <tr style=\"text-align: right;\">\n      <th></th>\n      <th>Market</th>\n      <th>No_of_Orders</th>\n      <th>Profit</th>\n      <th>Sales</th>\n    </tr>\n    <tr>\n      <th>Region</th>\n      <th></th>\n      <th></th>\n      <th></th>\n      <th></th>\n    </tr>\n  </thead>\n  <tbody>\n    <tr>\n      <th>Western Africa</th>\n      <td>Africa</td>\n      <td>251</td>\n      <td>-12901.51</td>\n      <td>78476.06</td>\n    </tr>\n    <tr>\n      <th>Southern Africa</th>\n      <td>Africa</td>\n      <td>85</td>\n      <td>11768.58</td>\n      <td>51319.50</td>\n    </tr>\n    <tr>\n      <th>North Africa</th>\n      <td>Africa</td>\n      <td>182</td>\n      <td>21643.08</td>\n      <td>86698.89</td>\n    </tr>\n    <tr>\n      <th>Eastern Africa</th>\n      <td>Africa</td>\n      <td>110</td>\n      <td>8013.04</td>\n      <td>44182.60</td>\n    </tr>\n    <tr>\n      <th>Central Africa</th>\n      <td>Africa</td>\n      <td>103</td>\n      <td>15606.30</td>\n      <td>61689.99</td>\n    </tr>\n  </tbody>\n</table>\n</div>"
     },
     "metadata": {},
     "execution_count": 74
    }
   ],
   "source": [
    "# Selecting first 5 rows of the dataframe\n",
    "sales[0:5]"
   ]
  },
  {
   "cell_type": "code",
   "execution_count": 75,
   "metadata": {},
   "outputs": [
    {
     "output_type": "execute_result",
     "data": {
      "text/plain": [
       "                       Market  No_of_Orders    Profit      Sales\n",
       "Region                                                          \n",
       "Western Africa         Africa           251 -12901.51   78476.06\n",
       "North Africa           Africa           182  21643.08   86698.89\n",
       "Central Africa         Africa           103  15606.30   61689.99\n",
       "Southern Asia    Asia Pacific           469  67998.76  351806.60\n",
       "Oceania          Asia Pacific           646  54734.02  408002.98\n",
       "Central Asia     Asia Pacific            37  -2649.76    8190.74\n",
       "Southern Europe        Europe           338  18911.49  215703.93\n",
       "Eastern Europe         Europe           241  25050.69  108258.93\n",
       "Central America         LATAM           930  74679.54  461670.28\n",
       "Western US               USCA           490  44303.65  251991.83\n",
       "Eastern US               USCA           443  47462.04  264973.98\n",
       "Canada                   USCA            49   7246.62   26298.81"
      ],
      "text/html": "<div>\n<style scoped>\n    .dataframe tbody tr th:only-of-type {\n        vertical-align: middle;\n    }\n\n    .dataframe tbody tr th {\n        vertical-align: top;\n    }\n\n    .dataframe thead th {\n        text-align: right;\n    }\n</style>\n<table border=\"1\" class=\"dataframe\">\n  <thead>\n    <tr style=\"text-align: right;\">\n      <th></th>\n      <th>Market</th>\n      <th>No_of_Orders</th>\n      <th>Profit</th>\n      <th>Sales</th>\n    </tr>\n    <tr>\n      <th>Region</th>\n      <th></th>\n      <th></th>\n      <th></th>\n      <th></th>\n    </tr>\n  </thead>\n  <tbody>\n    <tr>\n      <th>Western Africa</th>\n      <td>Africa</td>\n      <td>251</td>\n      <td>-12901.51</td>\n      <td>78476.06</td>\n    </tr>\n    <tr>\n      <th>North Africa</th>\n      <td>Africa</td>\n      <td>182</td>\n      <td>21643.08</td>\n      <td>86698.89</td>\n    </tr>\n    <tr>\n      <th>Central Africa</th>\n      <td>Africa</td>\n      <td>103</td>\n      <td>15606.30</td>\n      <td>61689.99</td>\n    </tr>\n    <tr>\n      <th>Southern Asia</th>\n      <td>Asia Pacific</td>\n      <td>469</td>\n      <td>67998.76</td>\n      <td>351806.60</td>\n    </tr>\n    <tr>\n      <th>Oceania</th>\n      <td>Asia Pacific</td>\n      <td>646</td>\n      <td>54734.02</td>\n      <td>408002.98</td>\n    </tr>\n    <tr>\n      <th>Central Asia</th>\n      <td>Asia Pacific</td>\n      <td>37</td>\n      <td>-2649.76</td>\n      <td>8190.74</td>\n    </tr>\n    <tr>\n      <th>Southern Europe</th>\n      <td>Europe</td>\n      <td>338</td>\n      <td>18911.49</td>\n      <td>215703.93</td>\n    </tr>\n    <tr>\n      <th>Eastern Europe</th>\n      <td>Europe</td>\n      <td>241</td>\n      <td>25050.69</td>\n      <td>108258.93</td>\n    </tr>\n    <tr>\n      <th>Central America</th>\n      <td>LATAM</td>\n      <td>930</td>\n      <td>74679.54</td>\n      <td>461670.28</td>\n    </tr>\n    <tr>\n      <th>Western US</th>\n      <td>USCA</td>\n      <td>490</td>\n      <td>44303.65</td>\n      <td>251991.83</td>\n    </tr>\n    <tr>\n      <th>Eastern US</th>\n      <td>USCA</td>\n      <td>443</td>\n      <td>47462.04</td>\n      <td>264973.98</td>\n    </tr>\n    <tr>\n      <th>Canada</th>\n      <td>USCA</td>\n      <td>49</td>\n      <td>7246.62</td>\n      <td>26298.81</td>\n    </tr>\n  </tbody>\n</table>\n</div>"
     },
     "metadata": {},
     "execution_count": 75
    }
   ],
   "source": [
    "# Selecting all the even indices of the dataframe\n",
    "sales[0::2]"
   ]
  },
  {
   "cell_type": "markdown",
   "metadata": {},
   "source": [
    "### Selecting Columns\n",
    "\n",
    "There are two simple ways to select a single column from a dataframe:\n",
    "\n",
    "-  ```df['column']``` or ```df.column``` return a series\n",
    "-  ```df[['col_x', 'col_y']]``` returns a dataframe"
   ]
  },
  {
   "cell_type": "code",
   "execution_count": 76,
   "metadata": {},
   "outputs": [
    {
     "output_type": "execute_result",
     "data": {
      "text/plain": [
       "                     Profit\n",
       "Region                     \n",
       "Western Africa    -12901.51\n",
       "Southern Africa    11768.58\n",
       "North Africa       21643.08\n",
       "Eastern Africa      8013.04\n",
       "Central Africa     15606.30\n",
       "Western Asia      -16766.90\n",
       "Southern Asia      67998.76\n",
       "Southeastern Asia  20948.84\n",
       "Oceania            54734.02\n",
       "Eastern Asia       72805.10\n",
       "Central Asia       -2649.76\n",
       "Western Europe     82091.27\n",
       "Southern Europe    18911.49\n",
       "Northern Europe    43237.44\n",
       "Eastern Europe     25050.69\n",
       "South America      12377.59\n",
       "Central America    74679.54\n",
       "Caribbean          13529.59\n",
       "Western US         44303.65\n",
       "Southern US        19991.83\n",
       "Eastern US         47462.04\n",
       "Central US         33697.43\n",
       "Canada              7246.62"
      ],
      "text/html": "<div>\n<style scoped>\n    .dataframe tbody tr th:only-of-type {\n        vertical-align: middle;\n    }\n\n    .dataframe tbody tr th {\n        vertical-align: top;\n    }\n\n    .dataframe thead th {\n        text-align: right;\n    }\n</style>\n<table border=\"1\" class=\"dataframe\">\n  <thead>\n    <tr style=\"text-align: right;\">\n      <th></th>\n      <th>Profit</th>\n    </tr>\n    <tr>\n      <th>Region</th>\n      <th></th>\n    </tr>\n  </thead>\n  <tbody>\n    <tr>\n      <th>Western Africa</th>\n      <td>-12901.51</td>\n    </tr>\n    <tr>\n      <th>Southern Africa</th>\n      <td>11768.58</td>\n    </tr>\n    <tr>\n      <th>North Africa</th>\n      <td>21643.08</td>\n    </tr>\n    <tr>\n      <th>Eastern Africa</th>\n      <td>8013.04</td>\n    </tr>\n    <tr>\n      <th>Central Africa</th>\n      <td>15606.30</td>\n    </tr>\n    <tr>\n      <th>Western Asia</th>\n      <td>-16766.90</td>\n    </tr>\n    <tr>\n      <th>Southern Asia</th>\n      <td>67998.76</td>\n    </tr>\n    <tr>\n      <th>Southeastern Asia</th>\n      <td>20948.84</td>\n    </tr>\n    <tr>\n      <th>Oceania</th>\n      <td>54734.02</td>\n    </tr>\n    <tr>\n      <th>Eastern Asia</th>\n      <td>72805.10</td>\n    </tr>\n    <tr>\n      <th>Central Asia</th>\n      <td>-2649.76</td>\n    </tr>\n    <tr>\n      <th>Western Europe</th>\n      <td>82091.27</td>\n    </tr>\n    <tr>\n      <th>Southern Europe</th>\n      <td>18911.49</td>\n    </tr>\n    <tr>\n      <th>Northern Europe</th>\n      <td>43237.44</td>\n    </tr>\n    <tr>\n      <th>Eastern Europe</th>\n      <td>25050.69</td>\n    </tr>\n    <tr>\n      <th>South America</th>\n      <td>12377.59</td>\n    </tr>\n    <tr>\n      <th>Central America</th>\n      <td>74679.54</td>\n    </tr>\n    <tr>\n      <th>Caribbean</th>\n      <td>13529.59</td>\n    </tr>\n    <tr>\n      <th>Western US</th>\n      <td>44303.65</td>\n    </tr>\n    <tr>\n      <th>Southern US</th>\n      <td>19991.83</td>\n    </tr>\n    <tr>\n      <th>Eastern US</th>\n      <td>47462.04</td>\n    </tr>\n    <tr>\n      <th>Central US</th>\n      <td>33697.43</td>\n    </tr>\n    <tr>\n      <th>Canada</th>\n      <td>7246.62</td>\n    </tr>\n  </tbody>\n</table>\n</div>"
     },
     "metadata": {},
     "execution_count": 76
    }
   ],
   "source": [
    "# Select the column 'Profit' from the dataframe 'Sales'. Output must be in the form of a dataframe.\n",
    "sales[['Profit']]"
   ]
  },
  {
   "cell_type": "code",
   "execution_count": 77,
   "metadata": {},
   "outputs": [
    {
     "output_type": "execute_result",
     "data": {
      "text/plain": [
       "pandas.core.frame.DataFrame"
      ]
     },
     "metadata": {},
     "execution_count": 77
    }
   ],
   "source": [
    "# Check the type of the sliced data\n",
    "type(sales[['Profit','Sales']])"
   ]
  },
  {
   "cell_type": "code",
   "execution_count": 78,
   "metadata": {},
   "outputs": [
    {
     "output_type": "execute_result",
     "data": {
      "text/plain": [
       "Region\n",
       "Western Africa      -12901.51\n",
       "Southern Africa      11768.58\n",
       "North Africa         21643.08\n",
       "Eastern Africa        8013.04\n",
       "Central Africa       15606.30\n",
       "Western Asia        -16766.90\n",
       "Southern Asia        67998.76\n",
       "Southeastern Asia    20948.84\n",
       "Oceania              54734.02\n",
       "Eastern Asia         72805.10\n",
       "Central Asia         -2649.76\n",
       "Western Europe       82091.27\n",
       "Southern Europe      18911.49\n",
       "Northern Europe      43237.44\n",
       "Eastern Europe       25050.69\n",
       "South America        12377.59\n",
       "Central America      74679.54\n",
       "Caribbean            13529.59\n",
       "Western US           44303.65\n",
       "Southern US          19991.83\n",
       "Eastern US           47462.04\n",
       "Central US           33697.43\n",
       "Canada                7246.62\n",
       "Name: Profit, dtype: float64"
      ]
     },
     "metadata": {},
     "execution_count": 78
    }
   ],
   "source": [
    "# Select the column 'Profit' from the dataframe 'Sales'. Output must be in the form of a series.\n",
    "sales['Profit']"
   ]
  },
  {
   "cell_type": "code",
   "execution_count": 79,
   "metadata": {},
   "outputs": [
    {
     "output_type": "execute_result",
     "data": {
      "text/plain": [
       "pandas.core.series.Series"
      ]
     },
     "metadata": {},
     "execution_count": 79
    }
   ],
   "source": [
    "# Check the type of the sliced data\n",
    "type(sales['Profit'])"
   ]
  },
  {
   "cell_type": "markdown",
   "metadata": {},
   "source": [
    "#### Selecting Multiple Columns \n",
    "\n",
    "You can select multiple columns by passing the list of column names inside the ```[]```: ```df[['column_1', 'column_2', 'column_n']]```."
   ]
  },
  {
   "cell_type": "code",
   "execution_count": 80,
   "metadata": {},
   "outputs": [
    {
     "output_type": "execute_result",
     "data": {
      "text/plain": [
       "                     Profit      Sales\n",
       "Region                                \n",
       "Western Africa    -12901.51   78476.06\n",
       "Southern Africa    11768.58   51319.50\n",
       "North Africa       21643.08   86698.89\n",
       "Eastern Africa      8013.04   44182.60\n",
       "Central Africa     15606.30   61689.99\n",
       "Western Asia      -16766.90  124312.24\n",
       "Southern Asia      67998.76  351806.60\n",
       "Southeastern Asia  20948.84  329751.38\n",
       "Oceania            54734.02  408002.98\n",
       "Eastern Asia       72805.10  315390.77\n",
       "Central Asia       -2649.76    8190.74\n",
       "Western Europe     82091.27  656637.14\n",
       "Southern Europe    18911.49  215703.93\n",
       "Northern Europe    43237.44  252969.09\n",
       "Eastern Europe     25050.69  108258.93\n",
       "South America      12377.59  210710.49\n",
       "Central America    74679.54  461670.28\n",
       "Caribbean          13529.59  116333.05\n",
       "Western US         44303.65  251991.83\n",
       "Southern US        19991.83  148771.91\n",
       "Eastern US         47462.04  264973.98\n",
       "Central US         33697.43  170416.31\n",
       "Canada              7246.62   26298.81"
      ],
      "text/html": "<div>\n<style scoped>\n    .dataframe tbody tr th:only-of-type {\n        vertical-align: middle;\n    }\n\n    .dataframe tbody tr th {\n        vertical-align: top;\n    }\n\n    .dataframe thead th {\n        text-align: right;\n    }\n</style>\n<table border=\"1\" class=\"dataframe\">\n  <thead>\n    <tr style=\"text-align: right;\">\n      <th></th>\n      <th>Profit</th>\n      <th>Sales</th>\n    </tr>\n    <tr>\n      <th>Region</th>\n      <th></th>\n      <th></th>\n    </tr>\n  </thead>\n  <tbody>\n    <tr>\n      <th>Western Africa</th>\n      <td>-12901.51</td>\n      <td>78476.06</td>\n    </tr>\n    <tr>\n      <th>Southern Africa</th>\n      <td>11768.58</td>\n      <td>51319.50</td>\n    </tr>\n    <tr>\n      <th>North Africa</th>\n      <td>21643.08</td>\n      <td>86698.89</td>\n    </tr>\n    <tr>\n      <th>Eastern Africa</th>\n      <td>8013.04</td>\n      <td>44182.60</td>\n    </tr>\n    <tr>\n      <th>Central Africa</th>\n      <td>15606.30</td>\n      <td>61689.99</td>\n    </tr>\n    <tr>\n      <th>Western Asia</th>\n      <td>-16766.90</td>\n      <td>124312.24</td>\n    </tr>\n    <tr>\n      <th>Southern Asia</th>\n      <td>67998.76</td>\n      <td>351806.60</td>\n    </tr>\n    <tr>\n      <th>Southeastern Asia</th>\n      <td>20948.84</td>\n      <td>329751.38</td>\n    </tr>\n    <tr>\n      <th>Oceania</th>\n      <td>54734.02</td>\n      <td>408002.98</td>\n    </tr>\n    <tr>\n      <th>Eastern Asia</th>\n      <td>72805.10</td>\n      <td>315390.77</td>\n    </tr>\n    <tr>\n      <th>Central Asia</th>\n      <td>-2649.76</td>\n      <td>8190.74</td>\n    </tr>\n    <tr>\n      <th>Western Europe</th>\n      <td>82091.27</td>\n      <td>656637.14</td>\n    </tr>\n    <tr>\n      <th>Southern Europe</th>\n      <td>18911.49</td>\n      <td>215703.93</td>\n    </tr>\n    <tr>\n      <th>Northern Europe</th>\n      <td>43237.44</td>\n      <td>252969.09</td>\n    </tr>\n    <tr>\n      <th>Eastern Europe</th>\n      <td>25050.69</td>\n      <td>108258.93</td>\n    </tr>\n    <tr>\n      <th>South America</th>\n      <td>12377.59</td>\n      <td>210710.49</td>\n    </tr>\n    <tr>\n      <th>Central America</th>\n      <td>74679.54</td>\n      <td>461670.28</td>\n    </tr>\n    <tr>\n      <th>Caribbean</th>\n      <td>13529.59</td>\n      <td>116333.05</td>\n    </tr>\n    <tr>\n      <th>Western US</th>\n      <td>44303.65</td>\n      <td>251991.83</td>\n    </tr>\n    <tr>\n      <th>Southern US</th>\n      <td>19991.83</td>\n      <td>148771.91</td>\n    </tr>\n    <tr>\n      <th>Eastern US</th>\n      <td>47462.04</td>\n      <td>264973.98</td>\n    </tr>\n    <tr>\n      <th>Central US</th>\n      <td>33697.43</td>\n      <td>170416.31</td>\n    </tr>\n    <tr>\n      <th>Canada</th>\n      <td>7246.62</td>\n      <td>26298.81</td>\n    </tr>\n  </tbody>\n</table>\n</div>"
     },
     "metadata": {},
     "execution_count": 80
    }
   ],
   "source": [
    "# Selecting multiple columns from a dataframe\n",
    "sales[['Profit','Sales']]"
   ]
  },
  {
   "cell_type": "markdown",
   "metadata": {},
   "source": [
    "### Label and Position Based Indexing: ```df.loc``` and ```df.iloc```\n",
    "\n",
    "You have seen some ways of selecting rows and columns from dataframes. Let's now see some other ways of indexing dataframes, which pandas recommends, since they are more explicit (and less ambiguous).\n",
    "\n",
    "There are two main ways of indexing dataframes:\n",
    "1. Label based indexing using ```df.loc```\n",
    "2. Position based indexing using ```df.iloc```\n",
    "\n",
    "Using both the methods, we will do the following indexing operations on a dataframe:\n",
    "* Selecting single elements/cells\n",
    "* Selecting single and multiple rows\n",
    "* Selecting single and multiple columns\n",
    "* Selecting multiple rows and columns"
   ]
  },
  {
   "cell_type": "markdown",
   "metadata": {},
   "source": [
    "**Label-based Indexing**"
   ]
  },
  {
   "cell_type": "code",
   "execution_count": 81,
   "metadata": {},
   "outputs": [
    {
     "output_type": "execute_result",
     "data": {
      "text/plain": [
       "       Market  No_of_Orders   Profit     Sales\n",
       "Region                                        \n",
       "Canada   USCA            49  7246.62  26298.81"
      ],
      "text/html": "<div>\n<style scoped>\n    .dataframe tbody tr th:only-of-type {\n        vertical-align: middle;\n    }\n\n    .dataframe tbody tr th {\n        vertical-align: top;\n    }\n\n    .dataframe thead th {\n        text-align: right;\n    }\n</style>\n<table border=\"1\" class=\"dataframe\">\n  <thead>\n    <tr style=\"text-align: right;\">\n      <th></th>\n      <th>Market</th>\n      <th>No_of_Orders</th>\n      <th>Profit</th>\n      <th>Sales</th>\n    </tr>\n    <tr>\n      <th>Region</th>\n      <th></th>\n      <th></th>\n      <th></th>\n      <th></th>\n    </tr>\n  </thead>\n  <tbody>\n    <tr>\n      <th>Canada</th>\n      <td>USCA</td>\n      <td>49</td>\n      <td>7246.62</td>\n      <td>26298.81</td>\n    </tr>\n  </tbody>\n</table>\n</div>"
     },
     "metadata": {},
     "execution_count": 81
    }
   ],
   "source": [
    "# Select the row with index label as 'Canada'\n",
    "sales.loc[['Canada']]"
   ]
  },
  {
   "cell_type": "code",
   "execution_count": 82,
   "metadata": {},
   "outputs": [
    {
     "output_type": "execute_result",
     "data": {
      "text/plain": [
       "                Market  No_of_Orders    Profit     Sales\n",
       "Region                                                  \n",
       "Canada            USCA            49   7246.62  26298.81\n",
       "Western Africa  Africa           251 -12901.51  78476.06"
      ],
      "text/html": "<div>\n<style scoped>\n    .dataframe tbody tr th:only-of-type {\n        vertical-align: middle;\n    }\n\n    .dataframe tbody tr th {\n        vertical-align: top;\n    }\n\n    .dataframe thead th {\n        text-align: right;\n    }\n</style>\n<table border=\"1\" class=\"dataframe\">\n  <thead>\n    <tr style=\"text-align: right;\">\n      <th></th>\n      <th>Market</th>\n      <th>No_of_Orders</th>\n      <th>Profit</th>\n      <th>Sales</th>\n    </tr>\n    <tr>\n      <th>Region</th>\n      <th></th>\n      <th></th>\n      <th></th>\n      <th></th>\n    </tr>\n  </thead>\n  <tbody>\n    <tr>\n      <th>Canada</th>\n      <td>USCA</td>\n      <td>49</td>\n      <td>7246.62</td>\n      <td>26298.81</td>\n    </tr>\n    <tr>\n      <th>Western Africa</th>\n      <td>Africa</td>\n      <td>251</td>\n      <td>-12901.51</td>\n      <td>78476.06</td>\n    </tr>\n  </tbody>\n</table>\n</div>"
     },
     "metadata": {},
     "execution_count": 82
    }
   ],
   "source": [
    "# Select the row with index label as 'Canada' and 'Western Africa'\n",
    "sales.loc[['Canada','Western Africa']]"
   ]
  },
  {
   "cell_type": "code",
   "execution_count": 83,
   "metadata": {},
   "outputs": [
    {
     "output_type": "execute_result",
     "data": {
      "text/plain": [
       "                  Profit     Sales\n",
       "Region                            \n",
       "Canada           7246.62  26298.81\n",
       "Western Africa -12901.51  78476.06"
      ],
      "text/html": "<div>\n<style scoped>\n    .dataframe tbody tr th:only-of-type {\n        vertical-align: middle;\n    }\n\n    .dataframe tbody tr th {\n        vertical-align: top;\n    }\n\n    .dataframe thead th {\n        text-align: right;\n    }\n</style>\n<table border=\"1\" class=\"dataframe\">\n  <thead>\n    <tr style=\"text-align: right;\">\n      <th></th>\n      <th>Profit</th>\n      <th>Sales</th>\n    </tr>\n    <tr>\n      <th>Region</th>\n      <th></th>\n      <th></th>\n    </tr>\n  </thead>\n  <tbody>\n    <tr>\n      <th>Canada</th>\n      <td>7246.62</td>\n      <td>26298.81</td>\n    </tr>\n    <tr>\n      <th>Western Africa</th>\n      <td>-12901.51</td>\n      <td>78476.06</td>\n    </tr>\n  </tbody>\n</table>\n</div>"
     },
     "metadata": {},
     "execution_count": 83
    }
   ],
   "source": [
    "# Select the row with index label as 'Canada' and 'Western Africa' along with the columns 'Profit' and 'Sales'\n",
    "sales.loc[['Canada','Western Africa'],['Profit','Sales']]"
   ]
  },
  {
   "cell_type": "markdown",
   "metadata": {},
   "source": [
    "**Position-based Indexing**"
   ]
  },
  {
   "cell_type": "code",
   "execution_count": 84,
   "metadata": {},
   "outputs": [
    {
     "output_type": "execute_result",
     "data": {
      "text/plain": [
       "                   Profit     Sales\n",
       "Region                             \n",
       "Western Africa  -12901.51  78476.06\n",
       "Southern Africa  11768.58  51319.50\n",
       "North Africa     21643.08  86698.89\n",
       "Eastern Africa    8013.04  44182.60\n",
       "Central Africa   15606.30  61689.99"
      ],
      "text/html": "<div>\n<style scoped>\n    .dataframe tbody tr th:only-of-type {\n        vertical-align: middle;\n    }\n\n    .dataframe tbody tr th {\n        vertical-align: top;\n    }\n\n    .dataframe thead th {\n        text-align: right;\n    }\n</style>\n<table border=\"1\" class=\"dataframe\">\n  <thead>\n    <tr style=\"text-align: right;\">\n      <th></th>\n      <th>Profit</th>\n      <th>Sales</th>\n    </tr>\n    <tr>\n      <th>Region</th>\n      <th></th>\n      <th></th>\n    </tr>\n  </thead>\n  <tbody>\n    <tr>\n      <th>Western Africa</th>\n      <td>-12901.51</td>\n      <td>78476.06</td>\n    </tr>\n    <tr>\n      <th>Southern Africa</th>\n      <td>11768.58</td>\n      <td>51319.50</td>\n    </tr>\n    <tr>\n      <th>North Africa</th>\n      <td>21643.08</td>\n      <td>86698.89</td>\n    </tr>\n    <tr>\n      <th>Eastern Africa</th>\n      <td>8013.04</td>\n      <td>44182.60</td>\n    </tr>\n    <tr>\n      <th>Central Africa</th>\n      <td>15606.30</td>\n      <td>61689.99</td>\n    </tr>\n  </tbody>\n</table>\n</div>"
     },
     "metadata": {},
     "execution_count": 84
    }
   ],
   "source": [
    "# Select the top 5 rows and all the columns starting from second column\n",
    "sales.iloc[:5,2:]"
   ]
  },
  {
   "cell_type": "code",
   "execution_count": 85,
   "metadata": {},
   "outputs": [
    {
     "output_type": "execute_result",
     "data": {
      "text/plain": [
       "Region\n",
       "Western Africa       False\n",
       "Southern Africa       True\n",
       "North Africa          True\n",
       "Eastern Africa        True\n",
       "Central Africa        True\n",
       "Western Asia         False\n",
       "Southern Asia         True\n",
       "Southeastern Asia     True\n",
       "Oceania               True\n",
       "Eastern Asia          True\n",
       "Central Asia         False\n",
       "Western Europe        True\n",
       "Southern Europe       True\n",
       "Northern Europe       True\n",
       "Eastern Europe        True\n",
       "South America         True\n",
       "Central America       True\n",
       "Caribbean             True\n",
       "Western US            True\n",
       "Southern US           True\n",
       "Eastern US            True\n",
       "Central US            True\n",
       "Canada                True\n",
       "Name: Profit, dtype: bool"
      ]
     },
     "metadata": {},
     "execution_count": 85
    }
   ],
   "source": [
    "sales[\"Profit\"]>0"
   ]
  },
  {
   "cell_type": "code",
   "execution_count": 86,
   "metadata": {},
   "outputs": [
    {
     "output_type": "execute_result",
     "data": {
      "text/plain": [
       "                         Market  No_of_Orders    Profit      Sales\n",
       "Region                                                            \n",
       "Southern Africa          Africa            85  11768.58   51319.50\n",
       "North Africa             Africa           182  21643.08   86698.89\n",
       "Eastern Africa           Africa           110   8013.04   44182.60\n",
       "Central Africa           Africa           103  15606.30   61689.99\n",
       "Southern Asia      Asia Pacific           469  67998.76  351806.60\n",
       "Southeastern Asia  Asia Pacific           533  20948.84  329751.38\n",
       "Oceania            Asia Pacific           646  54734.02  408002.98\n",
       "Eastern Asia       Asia Pacific           414  72805.10  315390.77\n",
       "Western Europe           Europe           964  82091.27  656637.14\n",
       "Southern Europe          Europe           338  18911.49  215703.93\n",
       "Northern Europe          Europe           367  43237.44  252969.09\n",
       "Eastern Europe           Europe           241  25050.69  108258.93\n",
       "South America             LATAM           496  12377.59  210710.49\n",
       "Central America           LATAM           930  74679.54  461670.28\n",
       "Caribbean                 LATAM           288  13529.59  116333.05\n",
       "Western US                 USCA           490  44303.65  251991.83\n",
       "Southern US                USCA           255  19991.83  148771.91\n",
       "Eastern US                 USCA           443  47462.04  264973.98\n",
       "Central US                 USCA           356  33697.43  170416.31\n",
       "Canada                     USCA            49   7246.62   26298.81"
      ],
      "text/html": "<div>\n<style scoped>\n    .dataframe tbody tr th:only-of-type {\n        vertical-align: middle;\n    }\n\n    .dataframe tbody tr th {\n        vertical-align: top;\n    }\n\n    .dataframe thead th {\n        text-align: right;\n    }\n</style>\n<table border=\"1\" class=\"dataframe\">\n  <thead>\n    <tr style=\"text-align: right;\">\n      <th></th>\n      <th>Market</th>\n      <th>No_of_Orders</th>\n      <th>Profit</th>\n      <th>Sales</th>\n    </tr>\n    <tr>\n      <th>Region</th>\n      <th></th>\n      <th></th>\n      <th></th>\n      <th></th>\n    </tr>\n  </thead>\n  <tbody>\n    <tr>\n      <th>Southern Africa</th>\n      <td>Africa</td>\n      <td>85</td>\n      <td>11768.58</td>\n      <td>51319.50</td>\n    </tr>\n    <tr>\n      <th>North Africa</th>\n      <td>Africa</td>\n      <td>182</td>\n      <td>21643.08</td>\n      <td>86698.89</td>\n    </tr>\n    <tr>\n      <th>Eastern Africa</th>\n      <td>Africa</td>\n      <td>110</td>\n      <td>8013.04</td>\n      <td>44182.60</td>\n    </tr>\n    <tr>\n      <th>Central Africa</th>\n      <td>Africa</td>\n      <td>103</td>\n      <td>15606.30</td>\n      <td>61689.99</td>\n    </tr>\n    <tr>\n      <th>Southern Asia</th>\n      <td>Asia Pacific</td>\n      <td>469</td>\n      <td>67998.76</td>\n      <td>351806.60</td>\n    </tr>\n    <tr>\n      <th>Southeastern Asia</th>\n      <td>Asia Pacific</td>\n      <td>533</td>\n      <td>20948.84</td>\n      <td>329751.38</td>\n    </tr>\n    <tr>\n      <th>Oceania</th>\n      <td>Asia Pacific</td>\n      <td>646</td>\n      <td>54734.02</td>\n      <td>408002.98</td>\n    </tr>\n    <tr>\n      <th>Eastern Asia</th>\n      <td>Asia Pacific</td>\n      <td>414</td>\n      <td>72805.10</td>\n      <td>315390.77</td>\n    </tr>\n    <tr>\n      <th>Western Europe</th>\n      <td>Europe</td>\n      <td>964</td>\n      <td>82091.27</td>\n      <td>656637.14</td>\n    </tr>\n    <tr>\n      <th>Southern Europe</th>\n      <td>Europe</td>\n      <td>338</td>\n      <td>18911.49</td>\n      <td>215703.93</td>\n    </tr>\n    <tr>\n      <th>Northern Europe</th>\n      <td>Europe</td>\n      <td>367</td>\n      <td>43237.44</td>\n      <td>252969.09</td>\n    </tr>\n    <tr>\n      <th>Eastern Europe</th>\n      <td>Europe</td>\n      <td>241</td>\n      <td>25050.69</td>\n      <td>108258.93</td>\n    </tr>\n    <tr>\n      <th>South America</th>\n      <td>LATAM</td>\n      <td>496</td>\n      <td>12377.59</td>\n      <td>210710.49</td>\n    </tr>\n    <tr>\n      <th>Central America</th>\n      <td>LATAM</td>\n      <td>930</td>\n      <td>74679.54</td>\n      <td>461670.28</td>\n    </tr>\n    <tr>\n      <th>Caribbean</th>\n      <td>LATAM</td>\n      <td>288</td>\n      <td>13529.59</td>\n      <td>116333.05</td>\n    </tr>\n    <tr>\n      <th>Western US</th>\n      <td>USCA</td>\n      <td>490</td>\n      <td>44303.65</td>\n      <td>251991.83</td>\n    </tr>\n    <tr>\n      <th>Southern US</th>\n      <td>USCA</td>\n      <td>255</td>\n      <td>19991.83</td>\n      <td>148771.91</td>\n    </tr>\n    <tr>\n      <th>Eastern US</th>\n      <td>USCA</td>\n      <td>443</td>\n      <td>47462.04</td>\n      <td>264973.98</td>\n    </tr>\n    <tr>\n      <th>Central US</th>\n      <td>USCA</td>\n      <td>356</td>\n      <td>33697.43</td>\n      <td>170416.31</td>\n    </tr>\n    <tr>\n      <th>Canada</th>\n      <td>USCA</td>\n      <td>49</td>\n      <td>7246.62</td>\n      <td>26298.81</td>\n    </tr>\n  </tbody>\n</table>\n</div>"
     },
     "metadata": {},
     "execution_count": 86
    }
   ],
   "source": [
    "# Select all the entries with positive profit\n",
    "sales[sales['Profit']>0]"
   ]
  },
  {
   "cell_type": "code",
   "execution_count": 87,
   "metadata": {},
   "outputs": [
    {
     "output_type": "execute_result",
     "data": {
      "text/plain": [
       "Market          20\n",
       "No_of_Orders    20\n",
       "Profit          20\n",
       "Sales           20\n",
       "dtype: int64"
      ]
     },
     "metadata": {},
     "execution_count": 87
    }
   ],
   "source": [
    "# Count the number of entries in the dataframe with positive profit\n",
    "sales[sales['Profit']>0].count()"
   ]
  },
  {
   "cell_type": "code",
   "execution_count": 88,
   "metadata": {},
   "outputs": [
    {
     "output_type": "execute_result",
     "data": {
      "text/plain": [
       "                 Market  No_of_Orders    Profit      Sales\n",
       "Region                                                    \n",
       "Western Europe   Europe           964  82091.27  656637.14\n",
       "Northern Europe  Europe           367  43237.44  252969.09\n",
       "Central America   LATAM           930  74679.54  461670.28"
      ],
      "text/html": "<div>\n<style scoped>\n    .dataframe tbody tr th:only-of-type {\n        vertical-align: middle;\n    }\n\n    .dataframe tbody tr th {\n        vertical-align: top;\n    }\n\n    .dataframe thead th {\n        text-align: right;\n    }\n</style>\n<table border=\"1\" class=\"dataframe\">\n  <thead>\n    <tr style=\"text-align: right;\">\n      <th></th>\n      <th>Market</th>\n      <th>No_of_Orders</th>\n      <th>Profit</th>\n      <th>Sales</th>\n    </tr>\n    <tr>\n      <th>Region</th>\n      <th></th>\n      <th></th>\n      <th></th>\n      <th></th>\n    </tr>\n  </thead>\n  <tbody>\n    <tr>\n      <th>Western Europe</th>\n      <td>Europe</td>\n      <td>964</td>\n      <td>82091.27</td>\n      <td>656637.14</td>\n    </tr>\n    <tr>\n      <th>Northern Europe</th>\n      <td>Europe</td>\n      <td>367</td>\n      <td>43237.44</td>\n      <td>252969.09</td>\n    </tr>\n    <tr>\n      <th>Central America</th>\n      <td>LATAM</td>\n      <td>930</td>\n      <td>74679.54</td>\n      <td>461670.28</td>\n    </tr>\n  </tbody>\n</table>\n</div>"
     },
     "metadata": {},
     "execution_count": 88
    }
   ],
   "source": [
    "# Select all the enries in Latin America and European market where Sales>250000\n",
    "sales[(sales['Sales']>250000) & (sales['Market'].isin(['LATAM','Europe']))]"
   ]
  },
  {
   "cell_type": "markdown",
   "metadata": {},
   "source": [
    " "
   ]
  },
  {
   "cell_type": "markdown",
   "metadata": {},
   "source": [
    "## Python Libraries - Pandas - Operations on Dataframes"
   ]
  },
  {
   "cell_type": "code",
   "execution_count": 89,
   "metadata": {},
   "outputs": [
    {
     "output_type": "execute_result",
     "data": {
      "text/plain": [
       "                 Market  No_of_Orders    Profit     Sales\n",
       "Region                                                   \n",
       "Western Africa   Africa           251 -12901.51  78476.06\n",
       "Southern Africa  Africa            85  11768.58  51319.50\n",
       "North Africa     Africa           182  21643.08  86698.89\n",
       "Eastern Africa   Africa           110   8013.04  44182.60\n",
       "Central Africa   Africa           103  15606.30  61689.99"
      ],
      "text/html": "<div>\n<style scoped>\n    .dataframe tbody tr th:only-of-type {\n        vertical-align: middle;\n    }\n\n    .dataframe tbody tr th {\n        vertical-align: top;\n    }\n\n    .dataframe thead th {\n        text-align: right;\n    }\n</style>\n<table border=\"1\" class=\"dataframe\">\n  <thead>\n    <tr style=\"text-align: right;\">\n      <th></th>\n      <th>Market</th>\n      <th>No_of_Orders</th>\n      <th>Profit</th>\n      <th>Sales</th>\n    </tr>\n    <tr>\n      <th>Region</th>\n      <th></th>\n      <th></th>\n      <th></th>\n      <th></th>\n    </tr>\n  </thead>\n  <tbody>\n    <tr>\n      <th>Western Africa</th>\n      <td>Africa</td>\n      <td>251</td>\n      <td>-12901.51</td>\n      <td>78476.06</td>\n    </tr>\n    <tr>\n      <th>Southern Africa</th>\n      <td>Africa</td>\n      <td>85</td>\n      <td>11768.58</td>\n      <td>51319.50</td>\n    </tr>\n    <tr>\n      <th>North Africa</th>\n      <td>Africa</td>\n      <td>182</td>\n      <td>21643.08</td>\n      <td>86698.89</td>\n    </tr>\n    <tr>\n      <th>Eastern Africa</th>\n      <td>Africa</td>\n      <td>110</td>\n      <td>8013.04</td>\n      <td>44182.60</td>\n    </tr>\n    <tr>\n      <th>Central Africa</th>\n      <td>Africa</td>\n      <td>103</td>\n      <td>15606.30</td>\n      <td>61689.99</td>\n    </tr>\n  </tbody>\n</table>\n</div>"
     },
     "metadata": {},
     "execution_count": 89
    }
   ],
   "source": [
    "# Checking the dataframe 'sales'\n",
    "sales.head()"
   ]
  },
  {
   "cell_type": "code",
   "execution_count": 90,
   "metadata": {},
   "outputs": [
    {
     "output_type": "execute_result",
     "data": {
      "text/plain": [
       "                 Market  No_of_Orders    Profit  Sales\n",
       "Region                                                \n",
       "Western Africa   Africa           251 -12901.51   78.0\n",
       "Southern Africa  Africa            85  11768.58   51.0\n",
       "North Africa     Africa           182  21643.08   86.0\n",
       "Eastern Africa   Africa           110   8013.04   44.0\n",
       "Central Africa   Africa           103  15606.30   61.0"
      ],
      "text/html": "<div>\n<style scoped>\n    .dataframe tbody tr th:only-of-type {\n        vertical-align: middle;\n    }\n\n    .dataframe tbody tr th {\n        vertical-align: top;\n    }\n\n    .dataframe thead th {\n        text-align: right;\n    }\n</style>\n<table border=\"1\" class=\"dataframe\">\n  <thead>\n    <tr style=\"text-align: right;\">\n      <th></th>\n      <th>Market</th>\n      <th>No_of_Orders</th>\n      <th>Profit</th>\n      <th>Sales</th>\n    </tr>\n    <tr>\n      <th>Region</th>\n      <th></th>\n      <th></th>\n      <th></th>\n      <th></th>\n    </tr>\n  </thead>\n  <tbody>\n    <tr>\n      <th>Western Africa</th>\n      <td>Africa</td>\n      <td>251</td>\n      <td>-12901.51</td>\n      <td>78.0</td>\n    </tr>\n    <tr>\n      <th>Southern Africa</th>\n      <td>Africa</td>\n      <td>85</td>\n      <td>11768.58</td>\n      <td>51.0</td>\n    </tr>\n    <tr>\n      <th>North Africa</th>\n      <td>Africa</td>\n      <td>182</td>\n      <td>21643.08</td>\n      <td>86.0</td>\n    </tr>\n    <tr>\n      <th>Eastern Africa</th>\n      <td>Africa</td>\n      <td>110</td>\n      <td>8013.04</td>\n      <td>44.0</td>\n    </tr>\n    <tr>\n      <th>Central Africa</th>\n      <td>Africa</td>\n      <td>103</td>\n      <td>15606.30</td>\n      <td>61.0</td>\n    </tr>\n  </tbody>\n</table>\n</div>"
     },
     "metadata": {},
     "execution_count": 90
    }
   ],
   "source": [
    "# Converting the Sales amount to Sales in thousand\n",
    "sales.Sales=sales.Sales.floordiv(1000)\n",
    "\n",
    "# Checking the dataframe 'sales'\n",
    "sales.head()"
   ]
  },
  {
   "cell_type": "code",
   "execution_count": 91,
   "metadata": {},
   "outputs": [
    {
     "output_type": "execute_result",
     "data": {
      "text/plain": [
       "                         Market  No_of_Orders    Profit  Sales in thousand.\n",
       "Region                                                                     \n",
       "Western Africa           Africa           251 -12901.51                78.0\n",
       "Southern Africa          Africa            85  11768.58                51.0\n",
       "North Africa             Africa           182  21643.08                86.0\n",
       "Eastern Africa           Africa           110   8013.04                44.0\n",
       "Central Africa           Africa           103  15606.30                61.0\n",
       "Western Asia       Asia Pacific           382 -16766.90               124.0\n",
       "Southern Asia      Asia Pacific           469  67998.76               351.0\n",
       "Southeastern Asia  Asia Pacific           533  20948.84               329.0\n",
       "Oceania            Asia Pacific           646  54734.02               408.0\n",
       "Eastern Asia       Asia Pacific           414  72805.10               315.0\n",
       "Central Asia       Asia Pacific            37  -2649.76                 8.0\n",
       "Western Europe           Europe           964  82091.27               656.0\n",
       "Southern Europe          Europe           338  18911.49               215.0\n",
       "Northern Europe          Europe           367  43237.44               252.0\n",
       "Eastern Europe           Europe           241  25050.69               108.0\n",
       "South America             LATAM           496  12377.59               210.0\n",
       "Central America           LATAM           930  74679.54               461.0\n",
       "Caribbean                 LATAM           288  13529.59               116.0\n",
       "Western US                 USCA           490  44303.65               251.0\n",
       "Southern US                USCA           255  19991.83               148.0\n",
       "Eastern US                 USCA           443  47462.04               264.0\n",
       "Central US                 USCA           356  33697.43               170.0\n",
       "Canada                     USCA            49   7246.62                26.0"
      ],
      "text/html": "<div>\n<style scoped>\n    .dataframe tbody tr th:only-of-type {\n        vertical-align: middle;\n    }\n\n    .dataframe tbody tr th {\n        vertical-align: top;\n    }\n\n    .dataframe thead th {\n        text-align: right;\n    }\n</style>\n<table border=\"1\" class=\"dataframe\">\n  <thead>\n    <tr style=\"text-align: right;\">\n      <th></th>\n      <th>Market</th>\n      <th>No_of_Orders</th>\n      <th>Profit</th>\n      <th>Sales in thousand.</th>\n    </tr>\n    <tr>\n      <th>Region</th>\n      <th></th>\n      <th></th>\n      <th></th>\n      <th></th>\n    </tr>\n  </thead>\n  <tbody>\n    <tr>\n      <th>Western Africa</th>\n      <td>Africa</td>\n      <td>251</td>\n      <td>-12901.51</td>\n      <td>78.0</td>\n    </tr>\n    <tr>\n      <th>Southern Africa</th>\n      <td>Africa</td>\n      <td>85</td>\n      <td>11768.58</td>\n      <td>51.0</td>\n    </tr>\n    <tr>\n      <th>North Africa</th>\n      <td>Africa</td>\n      <td>182</td>\n      <td>21643.08</td>\n      <td>86.0</td>\n    </tr>\n    <tr>\n      <th>Eastern Africa</th>\n      <td>Africa</td>\n      <td>110</td>\n      <td>8013.04</td>\n      <td>44.0</td>\n    </tr>\n    <tr>\n      <th>Central Africa</th>\n      <td>Africa</td>\n      <td>103</td>\n      <td>15606.30</td>\n      <td>61.0</td>\n    </tr>\n    <tr>\n      <th>Western Asia</th>\n      <td>Asia Pacific</td>\n      <td>382</td>\n      <td>-16766.90</td>\n      <td>124.0</td>\n    </tr>\n    <tr>\n      <th>Southern Asia</th>\n      <td>Asia Pacific</td>\n      <td>469</td>\n      <td>67998.76</td>\n      <td>351.0</td>\n    </tr>\n    <tr>\n      <th>Southeastern Asia</th>\n      <td>Asia Pacific</td>\n      <td>533</td>\n      <td>20948.84</td>\n      <td>329.0</td>\n    </tr>\n    <tr>\n      <th>Oceania</th>\n      <td>Asia Pacific</td>\n      <td>646</td>\n      <td>54734.02</td>\n      <td>408.0</td>\n    </tr>\n    <tr>\n      <th>Eastern Asia</th>\n      <td>Asia Pacific</td>\n      <td>414</td>\n      <td>72805.10</td>\n      <td>315.0</td>\n    </tr>\n    <tr>\n      <th>Central Asia</th>\n      <td>Asia Pacific</td>\n      <td>37</td>\n      <td>-2649.76</td>\n      <td>8.0</td>\n    </tr>\n    <tr>\n      <th>Western Europe</th>\n      <td>Europe</td>\n      <td>964</td>\n      <td>82091.27</td>\n      <td>656.0</td>\n    </tr>\n    <tr>\n      <th>Southern Europe</th>\n      <td>Europe</td>\n      <td>338</td>\n      <td>18911.49</td>\n      <td>215.0</td>\n    </tr>\n    <tr>\n      <th>Northern Europe</th>\n      <td>Europe</td>\n      <td>367</td>\n      <td>43237.44</td>\n      <td>252.0</td>\n    </tr>\n    <tr>\n      <th>Eastern Europe</th>\n      <td>Europe</td>\n      <td>241</td>\n      <td>25050.69</td>\n      <td>108.0</td>\n    </tr>\n    <tr>\n      <th>South America</th>\n      <td>LATAM</td>\n      <td>496</td>\n      <td>12377.59</td>\n      <td>210.0</td>\n    </tr>\n    <tr>\n      <th>Central America</th>\n      <td>LATAM</td>\n      <td>930</td>\n      <td>74679.54</td>\n      <td>461.0</td>\n    </tr>\n    <tr>\n      <th>Caribbean</th>\n      <td>LATAM</td>\n      <td>288</td>\n      <td>13529.59</td>\n      <td>116.0</td>\n    </tr>\n    <tr>\n      <th>Western US</th>\n      <td>USCA</td>\n      <td>490</td>\n      <td>44303.65</td>\n      <td>251.0</td>\n    </tr>\n    <tr>\n      <th>Southern US</th>\n      <td>USCA</td>\n      <td>255</td>\n      <td>19991.83</td>\n      <td>148.0</td>\n    </tr>\n    <tr>\n      <th>Eastern US</th>\n      <td>USCA</td>\n      <td>443</td>\n      <td>47462.04</td>\n      <td>264.0</td>\n    </tr>\n    <tr>\n      <th>Central US</th>\n      <td>USCA</td>\n      <td>356</td>\n      <td>33697.43</td>\n      <td>170.0</td>\n    </tr>\n    <tr>\n      <th>Canada</th>\n      <td>USCA</td>\n      <td>49</td>\n      <td>7246.62</td>\n      <td>26.0</td>\n    </tr>\n  </tbody>\n</table>\n</div>"
     },
     "metadata": {},
     "execution_count": 91
    }
   ],
   "source": [
    "# Renaming the column: 'Sales' to 'Sales in thousand'\n",
    "sales.rename(columns={'Sales':'Sales in thousand.'})"
   ]
  },
  {
   "cell_type": "code",
   "execution_count": 92,
   "metadata": {},
   "outputs": [
    {
     "output_type": "execute_result",
     "data": {
      "text/plain": [
       "                 Market  No_of_Orders    Profit  Sales\n",
       "Region                                                \n",
       "Western Africa   Africa           251 -12901.51   78.0\n",
       "Southern Africa  Africa            85  11768.58   51.0\n",
       "North Africa     Africa           182  21643.08   86.0\n",
       "Eastern Africa   Africa           110   8013.04   44.0\n",
       "Central Africa   Africa           103  15606.30   61.0"
      ],
      "text/html": "<div>\n<style scoped>\n    .dataframe tbody tr th:only-of-type {\n        vertical-align: middle;\n    }\n\n    .dataframe tbody tr th {\n        vertical-align: top;\n    }\n\n    .dataframe thead th {\n        text-align: right;\n    }\n</style>\n<table border=\"1\" class=\"dataframe\">\n  <thead>\n    <tr style=\"text-align: right;\">\n      <th></th>\n      <th>Market</th>\n      <th>No_of_Orders</th>\n      <th>Profit</th>\n      <th>Sales</th>\n    </tr>\n    <tr>\n      <th>Region</th>\n      <th></th>\n      <th></th>\n      <th></th>\n      <th></th>\n    </tr>\n  </thead>\n  <tbody>\n    <tr>\n      <th>Western Africa</th>\n      <td>Africa</td>\n      <td>251</td>\n      <td>-12901.51</td>\n      <td>78.0</td>\n    </tr>\n    <tr>\n      <th>Southern Africa</th>\n      <td>Africa</td>\n      <td>85</td>\n      <td>11768.58</td>\n      <td>51.0</td>\n    </tr>\n    <tr>\n      <th>North Africa</th>\n      <td>Africa</td>\n      <td>182</td>\n      <td>21643.08</td>\n      <td>86.0</td>\n    </tr>\n    <tr>\n      <th>Eastern Africa</th>\n      <td>Africa</td>\n      <td>110</td>\n      <td>8013.04</td>\n      <td>44.0</td>\n    </tr>\n    <tr>\n      <th>Central Africa</th>\n      <td>Africa</td>\n      <td>103</td>\n      <td>15606.30</td>\n      <td>61.0</td>\n    </tr>\n  </tbody>\n</table>\n</div>"
     },
     "metadata": {},
     "execution_count": 92
    }
   ],
   "source": [
    "# Checking the dataframe 'sales'\n",
    "sales.head()"
   ]
  },
  {
   "cell_type": "code",
   "execution_count": 93,
   "metadata": {},
   "outputs": [
    {
     "output_type": "stream",
     "name": "stdout",
     "text": [
      "Help on function rename in module pandas.core.frame:\n\nrename(self, mapper=None, index=None, columns=None, axis=None, copy=True, inplace=False, level=None, errors='ignore')\n    Alter axes labels.\n    \n    Function / dict values must be unique (1-to-1). Labels not contained in\n    a dict / Series will be left as-is. Extra labels listed don't throw an\n    error.\n    \n    See the :ref:`user guide <basics.rename>` for more.\n    \n    Parameters\n    ----------\n    mapper : dict-like or function\n        Dict-like or function transformations to apply to\n        that axis' values. Use either ``mapper`` and ``axis`` to\n        specify the axis to target with ``mapper``, or ``index`` and\n        ``columns``.\n    index : dict-like or function\n        Alternative to specifying axis (``mapper, axis=0``\n        is equivalent to ``index=mapper``).\n    columns : dict-like or function\n        Alternative to specifying axis (``mapper, axis=1``\n        is equivalent to ``columns=mapper``).\n    axis : {0 or 'index', 1 or 'columns'}, default 0\n        Axis to target with ``mapper``. Can be either the axis name\n        ('index', 'columns') or number (0, 1). The default is 'index'.\n    copy : bool, default True\n        Also copy underlying data.\n    inplace : bool, default False\n        Whether to return a new DataFrame. If True then value of copy is\n        ignored.\n    level : int or level name, default None\n        In case of a MultiIndex, only rename labels in the specified\n        level.\n    errors : {'ignore', 'raise'}, default 'ignore'\n        If 'raise', raise a `KeyError` when a dict-like `mapper`, `index`,\n        or `columns` contains labels that are not present in the Index\n        being transformed.\n        If 'ignore', existing keys will be renamed and extra keys will be\n        ignored.\n    \n    Returns\n    -------\n    DataFrame or None\n        DataFrame with the renamed axis labels or None if ``inplace=True``.\n    \n    Raises\n    ------\n    KeyError\n        If any of the labels is not found in the selected axis and\n        \"errors='raise'\".\n    \n    See Also\n    --------\n    DataFrame.rename_axis : Set the name of the axis.\n    \n    Examples\n    --------\n    ``DataFrame.rename`` supports two calling conventions\n    \n    * ``(index=index_mapper, columns=columns_mapper, ...)``\n    * ``(mapper, axis={'index', 'columns'}, ...)``\n    \n    We *highly* recommend using keyword arguments to clarify your\n    intent.\n    \n    Rename columns using a mapping:\n    \n    >>> df = pd.DataFrame({\"A\": [1, 2, 3], \"B\": [4, 5, 6]})\n    >>> df.rename(columns={\"A\": \"a\", \"B\": \"c\"})\n       a  c\n    0  1  4\n    1  2  5\n    2  3  6\n    \n    Rename index using a mapping:\n    \n    >>> df.rename(index={0: \"x\", 1: \"y\", 2: \"z\"})\n       A  B\n    x  1  4\n    y  2  5\n    z  3  6\n    \n    Cast index labels to a different type:\n    \n    >>> df.index\n    RangeIndex(start=0, stop=3, step=1)\n    >>> df.rename(index=str).index\n    Index(['0', '1', '2'], dtype='object')\n    \n    >>> df.rename(columns={\"A\": \"a\", \"B\": \"b\", \"C\": \"c\"}, errors=\"raise\")\n    Traceback (most recent call last):\n    KeyError: ['C'] not found in axis\n    \n    Using axis-style parameters:\n    \n    >>> df.rename(str.lower, axis='columns')\n       a  b\n    0  1  4\n    1  2  5\n    2  3  6\n    \n    >>> df.rename({1: 2, 2: 4}, axis='index')\n       A  B\n    0  1  4\n    2  2  5\n    4  3  6\n\n"
     ]
    }
   ],
   "source": [
    "# Help on rename function\n",
    "help(pd.DataFrame.rename)"
   ]
  },
  {
   "cell_type": "code",
   "execution_count": 94,
   "metadata": {},
   "outputs": [
    {
     "output_type": "execute_result",
     "data": {
      "text/plain": [
       "                 Market  No_of_Orders    Profit  Sales in thousand.\n",
       "Region                                                             \n",
       "Western Africa   Africa           251 -12901.51                78.0\n",
       "Southern Africa  Africa            85  11768.58                51.0\n",
       "North Africa     Africa           182  21643.08                86.0\n",
       "Eastern Africa   Africa           110   8013.04                44.0\n",
       "Central Africa   Africa           103  15606.30                61.0"
      ],
      "text/html": "<div>\n<style scoped>\n    .dataframe tbody tr th:only-of-type {\n        vertical-align: middle;\n    }\n\n    .dataframe tbody tr th {\n        vertical-align: top;\n    }\n\n    .dataframe thead th {\n        text-align: right;\n    }\n</style>\n<table border=\"1\" class=\"dataframe\">\n  <thead>\n    <tr style=\"text-align: right;\">\n      <th></th>\n      <th>Market</th>\n      <th>No_of_Orders</th>\n      <th>Profit</th>\n      <th>Sales in thousand.</th>\n    </tr>\n    <tr>\n      <th>Region</th>\n      <th></th>\n      <th></th>\n      <th></th>\n      <th></th>\n    </tr>\n  </thead>\n  <tbody>\n    <tr>\n      <th>Western Africa</th>\n      <td>Africa</td>\n      <td>251</td>\n      <td>-12901.51</td>\n      <td>78.0</td>\n    </tr>\n    <tr>\n      <th>Southern Africa</th>\n      <td>Africa</td>\n      <td>85</td>\n      <td>11768.58</td>\n      <td>51.0</td>\n    </tr>\n    <tr>\n      <th>North Africa</th>\n      <td>Africa</td>\n      <td>182</td>\n      <td>21643.08</td>\n      <td>86.0</td>\n    </tr>\n    <tr>\n      <th>Eastern Africa</th>\n      <td>Africa</td>\n      <td>110</td>\n      <td>8013.04</td>\n      <td>44.0</td>\n    </tr>\n    <tr>\n      <th>Central Africa</th>\n      <td>Africa</td>\n      <td>103</td>\n      <td>15606.30</td>\n      <td>61.0</td>\n    </tr>\n  </tbody>\n</table>\n</div>"
     },
     "metadata": {},
     "execution_count": 94
    }
   ],
   "source": [
    "# Role of inplace as an attribute\n",
    "sales.rename(columns={'Sales':'Sales in thousand.'},inplace=True)\n",
    "sales.head()"
   ]
  },
  {
   "cell_type": "code",
   "execution_count": 95,
   "metadata": {},
   "outputs": [],
   "source": [
    "# Creating a new column: 'Positive Profit' using apply function and lambda operation\n",
    "sales['Positive Profit']=sales.Profit.apply(lambda x: np.nan if x<0 else x)\n",
    "sales.head()"
   ]
  },
  {
   "cell_type": "code",
   "execution_count": 101,
   "metadata": {},
   "outputs": [
    {
     "output_type": "execute_result",
     "data": {
      "text/plain": [
       "                                No_of_Orders    Profit  Sales in thousand.\n",
       "Market       Region                                                       \n",
       "Africa       Western Africa              251 -12901.51                78.0\n",
       "             Southern Africa              85  11768.58                51.0\n",
       "             North Africa                182  21643.08                86.0\n",
       "             Eastern Africa              110   8013.04                44.0\n",
       "             Central Africa              103  15606.30                61.0\n",
       "Asia Pacific Western Asia                382 -16766.90               124.0\n",
       "             Southern Asia               469  67998.76               351.0\n",
       "             Southeastern Asia           533  20948.84               329.0\n",
       "             Oceania                     646  54734.02               408.0\n",
       "             Eastern Asia                414  72805.10               315.0\n",
       "             Central Asia                 37  -2649.76                 8.0\n",
       "Europe       Western Europe              964  82091.27               656.0\n",
       "             Southern Europe             338  18911.49               215.0\n",
       "             Northern Europe             367  43237.44               252.0\n",
       "             Eastern Europe              241  25050.69               108.0\n",
       "LATAM        South America               496  12377.59               210.0\n",
       "             Central America             930  74679.54               461.0\n",
       "             Caribbean                   288  13529.59               116.0\n",
       "USCA         Western US                  490  44303.65               251.0\n",
       "             Southern US                 255  19991.83               148.0\n",
       "             Eastern US                  443  47462.04               264.0\n",
       "             Central US                  356  33697.43               170.0\n",
       "             Canada                       49   7246.62                26.0"
      ],
      "text/html": "<div>\n<style scoped>\n    .dataframe tbody tr th:only-of-type {\n        vertical-align: middle;\n    }\n\n    .dataframe tbody tr th {\n        vertical-align: top;\n    }\n\n    .dataframe thead th {\n        text-align: right;\n    }\n</style>\n<table border=\"1\" class=\"dataframe\">\n  <thead>\n    <tr style=\"text-align: right;\">\n      <th></th>\n      <th></th>\n      <th>No_of_Orders</th>\n      <th>Profit</th>\n      <th>Sales in thousand.</th>\n    </tr>\n    <tr>\n      <th>Market</th>\n      <th>Region</th>\n      <th></th>\n      <th></th>\n      <th></th>\n    </tr>\n  </thead>\n  <tbody>\n    <tr>\n      <th rowspan=\"5\" valign=\"top\">Africa</th>\n      <th>Western Africa</th>\n      <td>251</td>\n      <td>-12901.51</td>\n      <td>78.0</td>\n    </tr>\n    <tr>\n      <th>Southern Africa</th>\n      <td>85</td>\n      <td>11768.58</td>\n      <td>51.0</td>\n    </tr>\n    <tr>\n      <th>North Africa</th>\n      <td>182</td>\n      <td>21643.08</td>\n      <td>86.0</td>\n    </tr>\n    <tr>\n      <th>Eastern Africa</th>\n      <td>110</td>\n      <td>8013.04</td>\n      <td>44.0</td>\n    </tr>\n    <tr>\n      <th>Central Africa</th>\n      <td>103</td>\n      <td>15606.30</td>\n      <td>61.0</td>\n    </tr>\n    <tr>\n      <th rowspan=\"6\" valign=\"top\">Asia Pacific</th>\n      <th>Western Asia</th>\n      <td>382</td>\n      <td>-16766.90</td>\n      <td>124.0</td>\n    </tr>\n    <tr>\n      <th>Southern Asia</th>\n      <td>469</td>\n      <td>67998.76</td>\n      <td>351.0</td>\n    </tr>\n    <tr>\n      <th>Southeastern Asia</th>\n      <td>533</td>\n      <td>20948.84</td>\n      <td>329.0</td>\n    </tr>\n    <tr>\n      <th>Oceania</th>\n      <td>646</td>\n      <td>54734.02</td>\n      <td>408.0</td>\n    </tr>\n    <tr>\n      <th>Eastern Asia</th>\n      <td>414</td>\n      <td>72805.10</td>\n      <td>315.0</td>\n    </tr>\n    <tr>\n      <th>Central Asia</th>\n      <td>37</td>\n      <td>-2649.76</td>\n      <td>8.0</td>\n    </tr>\n    <tr>\n      <th rowspan=\"4\" valign=\"top\">Europe</th>\n      <th>Western Europe</th>\n      <td>964</td>\n      <td>82091.27</td>\n      <td>656.0</td>\n    </tr>\n    <tr>\n      <th>Southern Europe</th>\n      <td>338</td>\n      <td>18911.49</td>\n      <td>215.0</td>\n    </tr>\n    <tr>\n      <th>Northern Europe</th>\n      <td>367</td>\n      <td>43237.44</td>\n      <td>252.0</td>\n    </tr>\n    <tr>\n      <th>Eastern Europe</th>\n      <td>241</td>\n      <td>25050.69</td>\n      <td>108.0</td>\n    </tr>\n    <tr>\n      <th rowspan=\"3\" valign=\"top\">LATAM</th>\n      <th>South America</th>\n      <td>496</td>\n      <td>12377.59</td>\n      <td>210.0</td>\n    </tr>\n    <tr>\n      <th>Central America</th>\n      <td>930</td>\n      <td>74679.54</td>\n      <td>461.0</td>\n    </tr>\n    <tr>\n      <th>Caribbean</th>\n      <td>288</td>\n      <td>13529.59</td>\n      <td>116.0</td>\n    </tr>\n    <tr>\n      <th rowspan=\"5\" valign=\"top\">USCA</th>\n      <th>Western US</th>\n      <td>490</td>\n      <td>44303.65</td>\n      <td>251.0</td>\n    </tr>\n    <tr>\n      <th>Southern US</th>\n      <td>255</td>\n      <td>19991.83</td>\n      <td>148.0</td>\n    </tr>\n    <tr>\n      <th>Eastern US</th>\n      <td>443</td>\n      <td>47462.04</td>\n      <td>264.0</td>\n    </tr>\n    <tr>\n      <th>Central US</th>\n      <td>356</td>\n      <td>33697.43</td>\n      <td>170.0</td>\n    </tr>\n    <tr>\n      <th>Canada</th>\n      <td>49</td>\n      <td>7246.62</td>\n      <td>26.0</td>\n    </tr>\n  </tbody>\n</table>\n</div>"
     },
     "metadata": {},
     "execution_count": 101
    }
   ],
   "source": [
    "# Resetting the index\n",
    "sales.reset_index(inplace=True)\n",
    "\n",
    "# Setting hierarchical index: Market, Region\n",
    "sales.set_index(['Market','Region'],inplace=True)\n",
    "\n",
    "# Checking the dataframe\n",
    "sales"
   ]
  },
  {
   "cell_type": "code",
   "execution_count": 105,
   "metadata": {},
   "outputs": [
    {
     "output_type": "execute_result",
     "data": {
      "text/plain": [
       "                 No_of_Orders    Profit  Sales in thousand.\n",
       "Region                                                     \n",
       "Western Africa            251 -12901.51                78.0\n",
       "Southern Africa            85  11768.58                51.0\n",
       "North Africa              182  21643.08                86.0\n",
       "Eastern Africa            110   8013.04                44.0\n",
       "Central Africa            103  15606.30                61.0"
      ],
      "text/html": "<div>\n<style scoped>\n    .dataframe tbody tr th:only-of-type {\n        vertical-align: middle;\n    }\n\n    .dataframe tbody tr th {\n        vertical-align: top;\n    }\n\n    .dataframe thead th {\n        text-align: right;\n    }\n</style>\n<table border=\"1\" class=\"dataframe\">\n  <thead>\n    <tr style=\"text-align: right;\">\n      <th></th>\n      <th>No_of_Orders</th>\n      <th>Profit</th>\n      <th>Sales in thousand.</th>\n    </tr>\n    <tr>\n      <th>Region</th>\n      <th></th>\n      <th></th>\n      <th></th>\n    </tr>\n  </thead>\n  <tbody>\n    <tr>\n      <th>Western Africa</th>\n      <td>251</td>\n      <td>-12901.51</td>\n      <td>78.0</td>\n    </tr>\n    <tr>\n      <th>Southern Africa</th>\n      <td>85</td>\n      <td>11768.58</td>\n      <td>51.0</td>\n    </tr>\n    <tr>\n      <th>North Africa</th>\n      <td>182</td>\n      <td>21643.08</td>\n      <td>86.0</td>\n    </tr>\n    <tr>\n      <th>Eastern Africa</th>\n      <td>110</td>\n      <td>8013.04</td>\n      <td>44.0</td>\n    </tr>\n    <tr>\n      <th>Central Africa</th>\n      <td>103</td>\n      <td>15606.30</td>\n      <td>61.0</td>\n    </tr>\n  </tbody>\n</table>\n</div>"
     },
     "metadata": {},
     "execution_count": 105
    }
   ],
   "source": [
    "# Fetching the rows under African market\n",
    "sales.loc['Africa']"
   ]
  },
  {
   "cell_type": "code",
   "execution_count": 108,
   "metadata": {},
   "outputs": [
    {
     "output_type": "execute_result",
     "data": {
      "text/plain": [
       "                        No_of_Orders    Profit  Sales in thousand.\n",
       "Market Region                                                     \n",
       "Africa Western Africa            251 -12901.51                78.0\n",
       "       Southern Africa            85  11768.58                51.0\n",
       "       North Africa              182  21643.08                86.0\n",
       "       Eastern Africa            110   8013.04                44.0\n",
       "       Central Africa            103  15606.30                61.0\n",
       "Europe Western Europe            964  82091.27               656.0\n",
       "       Southern Europe           338  18911.49               215.0\n",
       "       Northern Europe           367  43237.44               252.0\n",
       "       Eastern Europe            241  25050.69               108.0"
      ],
      "text/html": "<div>\n<style scoped>\n    .dataframe tbody tr th:only-of-type {\n        vertical-align: middle;\n    }\n\n    .dataframe tbody tr th {\n        vertical-align: top;\n    }\n\n    .dataframe thead th {\n        text-align: right;\n    }\n</style>\n<table border=\"1\" class=\"dataframe\">\n  <thead>\n    <tr style=\"text-align: right;\">\n      <th></th>\n      <th></th>\n      <th>No_of_Orders</th>\n      <th>Profit</th>\n      <th>Sales in thousand.</th>\n    </tr>\n    <tr>\n      <th>Market</th>\n      <th>Region</th>\n      <th></th>\n      <th></th>\n      <th></th>\n    </tr>\n  </thead>\n  <tbody>\n    <tr>\n      <th rowspan=\"5\" valign=\"top\">Africa</th>\n      <th>Western Africa</th>\n      <td>251</td>\n      <td>-12901.51</td>\n      <td>78.0</td>\n    </tr>\n    <tr>\n      <th>Southern Africa</th>\n      <td>85</td>\n      <td>11768.58</td>\n      <td>51.0</td>\n    </tr>\n    <tr>\n      <th>North Africa</th>\n      <td>182</td>\n      <td>21643.08</td>\n      <td>86.0</td>\n    </tr>\n    <tr>\n      <th>Eastern Africa</th>\n      <td>110</td>\n      <td>8013.04</td>\n      <td>44.0</td>\n    </tr>\n    <tr>\n      <th>Central Africa</th>\n      <td>103</td>\n      <td>15606.30</td>\n      <td>61.0</td>\n    </tr>\n    <tr>\n      <th rowspan=\"4\" valign=\"top\">Europe</th>\n      <th>Western Europe</th>\n      <td>964</td>\n      <td>82091.27</td>\n      <td>656.0</td>\n    </tr>\n    <tr>\n      <th>Southern Europe</th>\n      <td>338</td>\n      <td>18911.49</td>\n      <td>215.0</td>\n    </tr>\n    <tr>\n      <th>Northern Europe</th>\n      <td>367</td>\n      <td>43237.44</td>\n      <td>252.0</td>\n    </tr>\n    <tr>\n      <th>Eastern Europe</th>\n      <td>241</td>\n      <td>25050.69</td>\n      <td>108.0</td>\n    </tr>\n  </tbody>\n</table>\n</div>"
     },
     "metadata": {},
     "execution_count": 108
    }
   ],
   "source": [
    "# Fetching the rows under African and European market\n",
    "sales.loc[['Africa','Europe']]"
   ]
  },
  {
   "cell_type": "code",
   "execution_count": 99,
   "metadata": {},
   "outputs": [],
   "source": [
    "# Fetching the rows under Western Europe in European market\n"
   ]
  },
  {
   "cell_type": "code",
   "execution_count": 100,
   "metadata": {},
   "outputs": [],
   "source": [
    "# Printing summary of the sales dataframe\n"
   ]
  },
  {
   "cell_type": "code",
   "execution_count": null,
   "metadata": {},
   "outputs": [],
   "source": []
  }
 ],
 "metadata": {
  "kernelspec": {
   "name": "python3",
   "display_name": "Python 3.9.1 64-bit",
   "metadata": {
    "interpreter": {
     "hash": "7675d0e63ec7415c5dbace68f8d7c4b2779c413b4c07fbad1925e2ff0d5375c0"
    }
   }
  },
  "language_info": {
   "codemirror_mode": {
    "name": "ipython",
    "version": 3
   },
   "file_extension": ".py",
   "mimetype": "text/x-python",
   "name": "python",
   "nbconvert_exporter": "python",
   "pygments_lexer": "ipython3",
   "version": "3.9.1-final"
  }
 },
 "nbformat": 4,
 "nbformat_minor": 2
}