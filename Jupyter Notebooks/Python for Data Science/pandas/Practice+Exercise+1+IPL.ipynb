{
 "cells": [
  {
   "cell_type": "markdown",
   "metadata": {},
   "source": [
    "## Practice Exercise 1"
   ]
  },
  {
   "cell_type": "markdown",
   "metadata": {},
   "source": [
    "This is the first exercise for Pandas. You are provided with 2 fictional dataframes based on Indian Premier League (IPL). The first dataframe contains the data for all the teams who participated in the year 2018. In the second dataframe, the data is for the year 2017."
   ]
  },
  {
   "cell_type": "code",
   "execution_count": 1,
   "metadata": {},
   "outputs": [],
   "source": [
    "# import the required libraries - numpy and pandas\n",
    "import pandas as pd \n",
    "import numpy as np"
   ]
  },
  {
   "cell_type": "markdown",
   "metadata": {},
   "source": [
    "#### Data Dictionary\n",
    "\n",
    "-  Team: Team name\n",
    "-  Matches: Total number of matches played\n",
    "-  Won: Number of matches won\n",
    "-  Lost: Number of matches lost\n",
    "-  Tied': Number of matches tied\n",
    "-  N/R: Number of matches with no result\n",
    "-  NRR: Net run rate (Rate of scoring the runs)\n",
    "-  For: Sum of runs scored by the team against other teams\n",
    "-  Against: Sum of runs scored by the opposite playing teams"
   ]
  },
  {
   "cell_type": "code",
   "execution_count": 2,
   "metadata": {},
   "outputs": [],
   "source": [
    "# ipl18 contains the data for 2018\n",
    "ipl18 = pd.DataFrame({'Team': ['SRH', 'CSK', 'KKR', 'RR', 'MI', 'RCB', 'KXIP', 'DD'],\n",
    "                         'Matches': [14, 14, 14, 14, 14, 14, 14, 14],\n",
    "                         'Won': [9, 9, 8, 7, 6, 6, 6, 5],\n",
    "                         'Lost': [5, 5, 6, 7, 8, 8, 8, 9],\n",
    "                         'Tied': [0, 0, 0, 0, 0, 0, 0, 0],\n",
    "                         'N/R': [0, 0, 0, 0, 0, 0, 0, 0],\n",
    "                         'NRR': [0.284, 0.253, -0.070, -0.250, 0.317, 0.129, -0.502, -0.222],\n",
    "                         'For': [2230, 2488, 2363, 2130, 2380, 2322, 2210, 2297],\n",
    "                         'Against': [2193, 2433, 2425, 2141, 2282, 2383, 2259, 2304]},\n",
    "                         index = range(1,9)\n",
    "                    )"
   ]
  },
  {
   "cell_type": "code",
   "execution_count": 3,
   "metadata": {},
   "outputs": [
    {
     "output_type": "execute_result",
     "data": {
      "text/plain": [
       "   Team  Matches  Won  Lost  Tied  N/R    NRR   For  Against\n",
       "1   SRH       14    9     5     0    0  0.284  2230     2193\n",
       "2   CSK       14    9     5     0    0  0.253  2488     2433\n",
       "3   KKR       14    8     6     0    0 -0.070  2363     2425\n",
       "4    RR       14    7     7     0    0 -0.250  2130     2141\n",
       "5    MI       14    6     8     0    0  0.317  2380     2282\n",
       "6   RCB       14    6     8     0    0  0.129  2322     2383\n",
       "7  KXIP       14    6     8     0    0 -0.502  2210     2259\n",
       "8    DD       14    5     9     0    0 -0.222  2297     2304"
      ],
      "text/html": "<div>\n<style scoped>\n    .dataframe tbody tr th:only-of-type {\n        vertical-align: middle;\n    }\n\n    .dataframe tbody tr th {\n        vertical-align: top;\n    }\n\n    .dataframe thead th {\n        text-align: right;\n    }\n</style>\n<table border=\"1\" class=\"dataframe\">\n  <thead>\n    <tr style=\"text-align: right;\">\n      <th></th>\n      <th>Team</th>\n      <th>Matches</th>\n      <th>Won</th>\n      <th>Lost</th>\n      <th>Tied</th>\n      <th>N/R</th>\n      <th>NRR</th>\n      <th>For</th>\n      <th>Against</th>\n    </tr>\n  </thead>\n  <tbody>\n    <tr>\n      <th>1</th>\n      <td>SRH</td>\n      <td>14</td>\n      <td>9</td>\n      <td>5</td>\n      <td>0</td>\n      <td>0</td>\n      <td>0.284</td>\n      <td>2230</td>\n      <td>2193</td>\n    </tr>\n    <tr>\n      <th>2</th>\n      <td>CSK</td>\n      <td>14</td>\n      <td>9</td>\n      <td>5</td>\n      <td>0</td>\n      <td>0</td>\n      <td>0.253</td>\n      <td>2488</td>\n      <td>2433</td>\n    </tr>\n    <tr>\n      <th>3</th>\n      <td>KKR</td>\n      <td>14</td>\n      <td>8</td>\n      <td>6</td>\n      <td>0</td>\n      <td>0</td>\n      <td>-0.070</td>\n      <td>2363</td>\n      <td>2425</td>\n    </tr>\n    <tr>\n      <th>4</th>\n      <td>RR</td>\n      <td>14</td>\n      <td>7</td>\n      <td>7</td>\n      <td>0</td>\n      <td>0</td>\n      <td>-0.250</td>\n      <td>2130</td>\n      <td>2141</td>\n    </tr>\n    <tr>\n      <th>5</th>\n      <td>MI</td>\n      <td>14</td>\n      <td>6</td>\n      <td>8</td>\n      <td>0</td>\n      <td>0</td>\n      <td>0.317</td>\n      <td>2380</td>\n      <td>2282</td>\n    </tr>\n    <tr>\n      <th>6</th>\n      <td>RCB</td>\n      <td>14</td>\n      <td>6</td>\n      <td>8</td>\n      <td>0</td>\n      <td>0</td>\n      <td>0.129</td>\n      <td>2322</td>\n      <td>2383</td>\n    </tr>\n    <tr>\n      <th>7</th>\n      <td>KXIP</td>\n      <td>14</td>\n      <td>6</td>\n      <td>8</td>\n      <td>0</td>\n      <td>0</td>\n      <td>-0.502</td>\n      <td>2210</td>\n      <td>2259</td>\n    </tr>\n    <tr>\n      <th>8</th>\n      <td>DD</td>\n      <td>14</td>\n      <td>5</td>\n      <td>9</td>\n      <td>0</td>\n      <td>0</td>\n      <td>-0.222</td>\n      <td>2297</td>\n      <td>2304</td>\n    </tr>\n  </tbody>\n</table>\n</div>"
     },
     "metadata": {},
     "execution_count": 3
    }
   ],
   "source": [
    "# print the entire dataframe to check the entries\n",
    "ipl18"
   ]
  },
  {
   "cell_type": "code",
   "execution_count": 4,
   "metadata": {},
   "outputs": [],
   "source": [
    "# ipl17 contains the data for 2017\n",
    "ipl17 = pd.DataFrame({'Team': ['MI', 'RPS', 'SRH', 'KKR', 'KXIP', 'DD', 'GL', 'RCB'],\n",
    "                         'Matches': [14, 14, 14, 14, 14, 14, 14, 14],\n",
    "                         'Won': [10, 9, 8, 8, 7, 6, 4, 3],\n",
    "                         'Lost': [4, 5, 5, 6, 7, 8, 10, 10],\n",
    "                         'Tied': [0, 0, 0, 0, 0, 0, 0, 0],\n",
    "                         'N/R': [0, 0, 1, 0, 0, 0, 0, 1],\n",
    "                         'NRR': [0.784, 0.176, 0.469, 0.641, 0.123, -0.512, -0.412, -1.299],\n",
    "                         'For': [2407, 2180, 2221, 2329, 2207, 2219, 2406, 1845],\n",
    "                         'Against': [2242, 2165, 2118, 2300, 2229, 2255, 2472, 2033]},\n",
    "                         index = range(1,9)\n",
    "                    )"
   ]
  },
  {
   "cell_type": "code",
   "execution_count": 5,
   "metadata": {},
   "outputs": [
    {
     "output_type": "execute_result",
     "data": {
      "text/plain": [
       "   Team  Matches  Won  Lost  Tied  N/R    NRR   For  Against\n",
       "1    MI       14   10     4     0    0  0.784  2407     2242\n",
       "2   RPS       14    9     5     0    0  0.176  2180     2165\n",
       "3   SRH       14    8     5     0    1  0.469  2221     2118\n",
       "4   KKR       14    8     6     0    0  0.641  2329     2300\n",
       "5  KXIP       14    7     7     0    0  0.123  2207     2229\n",
       "6    DD       14    6     8     0    0 -0.512  2219     2255\n",
       "7    GL       14    4    10     0    0 -0.412  2406     2472\n",
       "8   RCB       14    3    10     0    1 -1.299  1845     2033"
      ],
      "text/html": "<div>\n<style scoped>\n    .dataframe tbody tr th:only-of-type {\n        vertical-align: middle;\n    }\n\n    .dataframe tbody tr th {\n        vertical-align: top;\n    }\n\n    .dataframe thead th {\n        text-align: right;\n    }\n</style>\n<table border=\"1\" class=\"dataframe\">\n  <thead>\n    <tr style=\"text-align: right;\">\n      <th></th>\n      <th>Team</th>\n      <th>Matches</th>\n      <th>Won</th>\n      <th>Lost</th>\n      <th>Tied</th>\n      <th>N/R</th>\n      <th>NRR</th>\n      <th>For</th>\n      <th>Against</th>\n    </tr>\n  </thead>\n  <tbody>\n    <tr>\n      <th>1</th>\n      <td>MI</td>\n      <td>14</td>\n      <td>10</td>\n      <td>4</td>\n      <td>0</td>\n      <td>0</td>\n      <td>0.784</td>\n      <td>2407</td>\n      <td>2242</td>\n    </tr>\n    <tr>\n      <th>2</th>\n      <td>RPS</td>\n      <td>14</td>\n      <td>9</td>\n      <td>5</td>\n      <td>0</td>\n      <td>0</td>\n      <td>0.176</td>\n      <td>2180</td>\n      <td>2165</td>\n    </tr>\n    <tr>\n      <th>3</th>\n      <td>SRH</td>\n      <td>14</td>\n      <td>8</td>\n      <td>5</td>\n      <td>0</td>\n      <td>1</td>\n      <td>0.469</td>\n      <td>2221</td>\n      <td>2118</td>\n    </tr>\n    <tr>\n      <th>4</th>\n      <td>KKR</td>\n      <td>14</td>\n      <td>8</td>\n      <td>6</td>\n      <td>0</td>\n      <td>0</td>\n      <td>0.641</td>\n      <td>2329</td>\n      <td>2300</td>\n    </tr>\n    <tr>\n      <th>5</th>\n      <td>KXIP</td>\n      <td>14</td>\n      <td>7</td>\n      <td>7</td>\n      <td>0</td>\n      <td>0</td>\n      <td>0.123</td>\n      <td>2207</td>\n      <td>2229</td>\n    </tr>\n    <tr>\n      <th>6</th>\n      <td>DD</td>\n      <td>14</td>\n      <td>6</td>\n      <td>8</td>\n      <td>0</td>\n      <td>0</td>\n      <td>-0.512</td>\n      <td>2219</td>\n      <td>2255</td>\n    </tr>\n    <tr>\n      <th>7</th>\n      <td>GL</td>\n      <td>14</td>\n      <td>4</td>\n      <td>10</td>\n      <td>0</td>\n      <td>0</td>\n      <td>-0.412</td>\n      <td>2406</td>\n      <td>2472</td>\n    </tr>\n    <tr>\n      <th>8</th>\n      <td>RCB</td>\n      <td>14</td>\n      <td>3</td>\n      <td>10</td>\n      <td>0</td>\n      <td>1</td>\n      <td>-1.299</td>\n      <td>1845</td>\n      <td>2033</td>\n    </tr>\n  </tbody>\n</table>\n</div>"
     },
     "metadata": {},
     "execution_count": 5
    }
   ],
   "source": [
    "# print the entire dataframe to check the entries\n",
    "ipl17"
   ]
  },
  {
   "cell_type": "markdown",
   "metadata": {},
   "source": [
    " As a part of this exercise, solve the questions that are provided below. There are few tasks that you will have to perform to be able to answer the questions.\n",
    "\n",
    "**Task 1**\n",
    "\n",
    "You have to create a new column '*Points*' in both the dataframes that stores the total points scored by each team. The following scoring system is used to calculate the points of a team:\n",
    "-  Win: 2 points\n",
    "-  Loss: 0 points\n",
    "-  Tie: 1 point\n",
    "-  N/R (no result): 1 point"
   ]
  },
  {
   "cell_type": "code",
   "execution_count": 6,
   "metadata": {},
   "outputs": [],
   "source": [
    "# Type your code here\n",
    "ipl18['Points']=ipl18.apply(lambda x:x['Won']*2 + x['Tied'] + x['N/R'],axis=1)\n",
    "ipl17['Points']=ipl18.apply(lambda x:x['Won']*2 + x['Tied'] + x['N/R'],axis=1)\n",
    "\n"
   ]
  },
  {
   "cell_type": "markdown",
   "metadata": {},
   "source": [
    "#### Q1: Extract Top Four Teams\n",
    "Which of the following commands can you use to extract the top 4 teams in the dataset ‘ipl18’ with just the ‘Team’ and ‘Points’ column?\n",
    "\n",
    "\n",
    "-  ipl18.loc [0:3, [‘Team’, ‘Points’]]\n",
    "-  ipl18.loc [1:4, [‘Team’, ‘Points’]]\n",
    "-  ipl18.loc [0:4, [‘Team’, ‘Points’]]\n",
    "-  ipl18.loc [1:3, [‘Team’, ‘Points’]]"
   ]
  },
  {
   "cell_type": "code",
   "execution_count": 7,
   "metadata": {},
   "outputs": [
    {
     "output_type": "execute_result",
     "data": {
      "text/plain": [
       "  Team  Points\n",
       "1  SRH      18\n",
       "2  CSK      18\n",
       "3  KKR      16\n",
       "4   RR      14"
      ],
      "text/html": "<div>\n<style scoped>\n    .dataframe tbody tr th:only-of-type {\n        vertical-align: middle;\n    }\n\n    .dataframe tbody tr th {\n        vertical-align: top;\n    }\n\n    .dataframe thead th {\n        text-align: right;\n    }\n</style>\n<table border=\"1\" class=\"dataframe\">\n  <thead>\n    <tr style=\"text-align: right;\">\n      <th></th>\n      <th>Team</th>\n      <th>Points</th>\n    </tr>\n  </thead>\n  <tbody>\n    <tr>\n      <th>1</th>\n      <td>SRH</td>\n      <td>18</td>\n    </tr>\n    <tr>\n      <th>2</th>\n      <td>CSK</td>\n      <td>18</td>\n    </tr>\n    <tr>\n      <th>3</th>\n      <td>KKR</td>\n      <td>16</td>\n    </tr>\n    <tr>\n      <th>4</th>\n      <td>RR</td>\n      <td>14</td>\n    </tr>\n  </tbody>\n</table>\n</div>"
     },
     "metadata": {},
     "execution_count": 7
    }
   ],
   "source": [
    "# Type your code here\n",
    "ipl18.loc[1:4, ['Team','Points']]"
   ]
  },
  {
   "cell_type": "markdown",
   "metadata": {},
   "source": [
    "#### Q2: Filtering based on conditions\n",
    "Suppose in ‘ipl18’, you want to filter out the teams that have an NRR greater than zero, and for which the ‘For’ score exceeds the ‘Against’ score, i.e. both the conditions should be satisfied. Which teams will be left after you perform the above filtration? (Run the commands on the Python Notebook provided, rather than performing a manual calculation)\n",
    "\n",
    "-  CSK, MI\n",
    "-  SRH, CSK, MI\n",
    "-  SRH, CSK, RCB\n",
    "-  SRH, CSK, MI, RCB"
   ]
  },
  {
   "cell_type": "code",
   "execution_count": 8,
   "metadata": {},
   "outputs": [
    {
     "output_type": "execute_result",
     "data": {
      "text/plain": [
       "  Team  Matches  Won  Lost  Tied  N/R    NRR   For  Against  Points\n",
       "1  SRH       14    9     5     0    0  0.284  2230     2193      18\n",
       "2  CSK       14    9     5     0    0  0.253  2488     2433      18\n",
       "5   MI       14    6     8     0    0  0.317  2380     2282      12"
      ],
      "text/html": "<div>\n<style scoped>\n    .dataframe tbody tr th:only-of-type {\n        vertical-align: middle;\n    }\n\n    .dataframe tbody tr th {\n        vertical-align: top;\n    }\n\n    .dataframe thead th {\n        text-align: right;\n    }\n</style>\n<table border=\"1\" class=\"dataframe\">\n  <thead>\n    <tr style=\"text-align: right;\">\n      <th></th>\n      <th>Team</th>\n      <th>Matches</th>\n      <th>Won</th>\n      <th>Lost</th>\n      <th>Tied</th>\n      <th>N/R</th>\n      <th>NRR</th>\n      <th>For</th>\n      <th>Against</th>\n      <th>Points</th>\n    </tr>\n  </thead>\n  <tbody>\n    <tr>\n      <th>1</th>\n      <td>SRH</td>\n      <td>14</td>\n      <td>9</td>\n      <td>5</td>\n      <td>0</td>\n      <td>0</td>\n      <td>0.284</td>\n      <td>2230</td>\n      <td>2193</td>\n      <td>18</td>\n    </tr>\n    <tr>\n      <th>2</th>\n      <td>CSK</td>\n      <td>14</td>\n      <td>9</td>\n      <td>5</td>\n      <td>0</td>\n      <td>0</td>\n      <td>0.253</td>\n      <td>2488</td>\n      <td>2433</td>\n      <td>18</td>\n    </tr>\n    <tr>\n      <th>5</th>\n      <td>MI</td>\n      <td>14</td>\n      <td>6</td>\n      <td>8</td>\n      <td>0</td>\n      <td>0</td>\n      <td>0.317</td>\n      <td>2380</td>\n      <td>2282</td>\n      <td>12</td>\n    </tr>\n  </tbody>\n</table>\n</div>"
     },
     "metadata": {},
     "execution_count": 8
    }
   ],
   "source": [
    "# Type your code here\n",
    "ipl18[(ipl18['NRR']>0) & (ipl18['For']>ipl18['Against'])]"
   ]
  },
  {
   "cell_type": "markdown",
   "metadata": {},
   "source": [
    "#### Q3: Operations on multiple dataframes\n",
    "If all the stats are taken for both ‘ipl17’ and ‘ipl18’, which team with its total points greater than 25 will have the highest win percentage?\n",
    "\n",
    "-  KKR\n",
    "-  CSK\n",
    "-  RPS\n",
    "-  SRH"
   ]
  },
  {
   "cell_type": "code",
   "execution_count": 9,
   "metadata": {},
   "outputs": [],
   "source": [
    "# Type your code here\n",
    "ipl18=ipl18.set_index('Team')\n",
    "ipl17=ipl17.set_index('Team')\n"
   ]
  },
  {
   "cell_type": "code",
   "execution_count": 16,
   "metadata": {},
   "outputs": [
    {
     "output_type": "execute_result",
     "data": {
      "text/plain": [
       "      Matches   Won  Lost  Tied  N/R    NRR     For  Against  Points  \\\n",
       "Team                                                                   \n",
       "CSK      14.0   9.0   5.0   0.0  0.0  0.253  2488.0   2433.0    18.0   \n",
       "DD       28.0  11.0  17.0   0.0  0.0 -0.734  4516.0   4559.0    22.0   \n",
       "GL       14.0   4.0  10.0   0.0  0.0 -0.412  2406.0   2472.0    12.0   \n",
       "KKR      28.0  16.0  12.0   0.0  0.0  0.571  4692.0   4725.0    30.0   \n",
       "KXIP     28.0  13.0  15.0   0.0  0.0 -0.379  4417.0   4488.0    24.0   \n",
       "MI       28.0  16.0  12.0   0.0  0.0  1.101  4787.0   4524.0    30.0   \n",
       "RCB      28.0   9.0  18.0   0.0  1.0 -1.170  4167.0   4416.0    22.0   \n",
       "RPS      14.0   9.0   5.0   0.0  0.0  0.176  2180.0   2165.0    18.0   \n",
       "RR       14.0   7.0   7.0   0.0  0.0 -0.250  2130.0   2141.0    14.0   \n",
       "SRH      28.0  17.0  10.0   0.0  1.0  0.753  4451.0   4311.0    34.0   \n",
       "\n",
       "          Win %  \n",
       "Team             \n",
       "CSK   50.558830  \n",
       "DD    49.763085  \n",
       "GL    49.323493  \n",
       "KKR   49.824785  \n",
       "KXIP  49.601348  \n",
       "MI    51.412308  \n",
       "RCB   48.549458  \n",
       "RPS   50.172612  \n",
       "RR    49.871225  \n",
       "SRH   50.798904  "
      ],
      "text/html": "<div>\n<style scoped>\n    .dataframe tbody tr th:only-of-type {\n        vertical-align: middle;\n    }\n\n    .dataframe tbody tr th {\n        vertical-align: top;\n    }\n\n    .dataframe thead th {\n        text-align: right;\n    }\n</style>\n<table border=\"1\" class=\"dataframe\">\n  <thead>\n    <tr style=\"text-align: right;\">\n      <th></th>\n      <th>Matches</th>\n      <th>Won</th>\n      <th>Lost</th>\n      <th>Tied</th>\n      <th>N/R</th>\n      <th>NRR</th>\n      <th>For</th>\n      <th>Against</th>\n      <th>Points</th>\n      <th>Win %</th>\n    </tr>\n    <tr>\n      <th>Team</th>\n      <th></th>\n      <th></th>\n      <th></th>\n      <th></th>\n      <th></th>\n      <th></th>\n      <th></th>\n      <th></th>\n      <th></th>\n      <th></th>\n    </tr>\n  </thead>\n  <tbody>\n    <tr>\n      <th>CSK</th>\n      <td>14.0</td>\n      <td>9.0</td>\n      <td>5.0</td>\n      <td>0.0</td>\n      <td>0.0</td>\n      <td>0.253</td>\n      <td>2488.0</td>\n      <td>2433.0</td>\n      <td>18.0</td>\n      <td>50.558830</td>\n    </tr>\n    <tr>\n      <th>DD</th>\n      <td>28.0</td>\n      <td>11.0</td>\n      <td>17.0</td>\n      <td>0.0</td>\n      <td>0.0</td>\n      <td>-0.734</td>\n      <td>4516.0</td>\n      <td>4559.0</td>\n      <td>22.0</td>\n      <td>49.763085</td>\n    </tr>\n    <tr>\n      <th>GL</th>\n      <td>14.0</td>\n      <td>4.0</td>\n      <td>10.0</td>\n      <td>0.0</td>\n      <td>0.0</td>\n      <td>-0.412</td>\n      <td>2406.0</td>\n      <td>2472.0</td>\n      <td>12.0</td>\n      <td>49.323493</td>\n    </tr>\n    <tr>\n      <th>KKR</th>\n      <td>28.0</td>\n      <td>16.0</td>\n      <td>12.0</td>\n      <td>0.0</td>\n      <td>0.0</td>\n      <td>0.571</td>\n      <td>4692.0</td>\n      <td>4725.0</td>\n      <td>30.0</td>\n      <td>49.824785</td>\n    </tr>\n    <tr>\n      <th>KXIP</th>\n      <td>28.0</td>\n      <td>13.0</td>\n      <td>15.0</td>\n      <td>0.0</td>\n      <td>0.0</td>\n      <td>-0.379</td>\n      <td>4417.0</td>\n      <td>4488.0</td>\n      <td>24.0</td>\n      <td>49.601348</td>\n    </tr>\n    <tr>\n      <th>MI</th>\n      <td>28.0</td>\n      <td>16.0</td>\n      <td>12.0</td>\n      <td>0.0</td>\n      <td>0.0</td>\n      <td>1.101</td>\n      <td>4787.0</td>\n      <td>4524.0</td>\n      <td>30.0</td>\n      <td>51.412308</td>\n    </tr>\n    <tr>\n      <th>RCB</th>\n      <td>28.0</td>\n      <td>9.0</td>\n      <td>18.0</td>\n      <td>0.0</td>\n      <td>1.0</td>\n      <td>-1.170</td>\n      <td>4167.0</td>\n      <td>4416.0</td>\n      <td>22.0</td>\n      <td>48.549458</td>\n    </tr>\n    <tr>\n      <th>RPS</th>\n      <td>14.0</td>\n      <td>9.0</td>\n      <td>5.0</td>\n      <td>0.0</td>\n      <td>0.0</td>\n      <td>0.176</td>\n      <td>2180.0</td>\n      <td>2165.0</td>\n      <td>18.0</td>\n      <td>50.172612</td>\n    </tr>\n    <tr>\n      <th>RR</th>\n      <td>14.0</td>\n      <td>7.0</td>\n      <td>7.0</td>\n      <td>0.0</td>\n      <td>0.0</td>\n      <td>-0.250</td>\n      <td>2130.0</td>\n      <td>2141.0</td>\n      <td>14.0</td>\n      <td>49.871225</td>\n    </tr>\n    <tr>\n      <th>SRH</th>\n      <td>28.0</td>\n      <td>17.0</td>\n      <td>10.0</td>\n      <td>0.0</td>\n      <td>1.0</td>\n      <td>0.753</td>\n      <td>4451.0</td>\n      <td>4311.0</td>\n      <td>34.0</td>\n      <td>50.798904</td>\n    </tr>\n  </tbody>\n</table>\n</div>"
     },
     "metadata": {},
     "execution_count": 16
    }
   ],
   "source": [
    "total=ipl18.add(ipl17,fill_value=0)\n",
    "total['Win %']=total.apply(lambda x:(x['For']*100)/(x['For']+x['Against']),axis=1)\n",
    "total"
   ]
  },
  {
   "cell_type": "code",
   "execution_count": null,
   "metadata": {},
   "outputs": [],
   "source": []
  }
 ],
 "metadata": {
  "kernelspec": {
   "name": "python391jvsc74a57bd07675d0e63ec7415c5dbace68f8d7c4b2779c413b4c07fbad1925e2ff0d5375c0",
   "display_name": "Python 3.9.1 64-bit"
  },
  "language_info": {
   "codemirror_mode": {
    "name": "ipython",
    "version": 3
   },
   "file_extension": ".py",
   "mimetype": "text/x-python",
   "name": "python",
   "nbconvert_exporter": "python",
   "pygments_lexer": "ipython3",
   "version": "3.9.1"
  },
  "metadata": {
   "interpreter": {
    "hash": "7675d0e63ec7415c5dbace68f8d7c4b2779c413b4c07fbad1925e2ff0d5375c0"
   }
  }
 },
 "nbformat": 4,
 "nbformat_minor": 2
}