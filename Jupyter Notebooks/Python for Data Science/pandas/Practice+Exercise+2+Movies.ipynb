{
 "cells": [
  {
   "cell_type": "markdown",
   "metadata": {},
   "source": [
    "## Practice Exercise 2"
   ]
  },
  {
   "cell_type": "markdown",
   "metadata": {},
   "source": [
    "In this assignment, you will try to find some interesting insights into a few movies released between 1916 and 2016, using Python. You will have to download a movie dataset, write Python code to explore the data, gain insights into the movies, actors, directors, and collections, and submit the code."
   ]
  },
  {
   "cell_type": "markdown",
   "metadata": {},
   "source": [
    "#### Some tips before starting the assignment\n",
    "\n",
    "1. Identify the task to be performed correctly, and only then proceed to write the required code. Don’t perform any incorrect analysis or look for information that isn’t required for the assignment.\n",
    "2. In some cases, the variable names have already been assigned, and you just need to write code against them. In other cases, the names to be given are mentioned in the instructions. We strongly advise you to use the mentioned names only.\n",
    "3. Always keep inspecting your data frame after you have performed a particular set of operations.\n",
    "4. There are some checkpoints given in the IPython notebook provided. They're just useful pieces of information you can use to check if the result you have obtained after performing a particular task is correct or not.\n",
    "5. Note that you will be asked to refer to documentation for solving some of the questions. That is done on purpose for you to learn new commands and also how to use the documentation."
   ]
  },
  {
   "cell_type": "code",
   "execution_count": 253,
   "metadata": {},
   "outputs": [],
   "source": [
    "# Import the numpy and pandas packages\n",
    "\n",
    "import numpy as np\n",
    "import pandas as pd"
   ]
  },
  {
   "cell_type": "markdown",
   "metadata": {},
   "source": [
    "### Task 1: Reading and Inspection\n",
    "\n",
    "**Subtask 1.1: Import and read**\n",
    "\n",
    "Import and read the movie database. Store it in a variable called `movies`."
   ]
  },
  {
   "cell_type": "code",
   "execution_count": 254,
   "metadata": {},
   "outputs": [
    {
     "output_type": "execute_result",
     "data": {
      "text/plain": [
       "      color      director_name  num_critic_for_reviews  duration  \\\n",
       "0     Color      James Cameron                   723.0     178.0   \n",
       "1     Color     Gore Verbinski                   302.0     169.0   \n",
       "2     Color         Sam Mendes                   602.0     148.0   \n",
       "3     Color  Christopher Nolan                   813.0     164.0   \n",
       "4     Color     Andrew Stanton                   462.0     132.0   \n",
       "...     ...                ...                     ...       ...   \n",
       "3848  Color      Shane Carruth                   143.0      77.0   \n",
       "3849  Color   Neill Dela Llana                    35.0      80.0   \n",
       "3850  Color   Robert Rodriguez                    56.0      81.0   \n",
       "3851  Color       Edward Burns                    14.0      95.0   \n",
       "3852  Color           Jon Gunn                    43.0      90.0   \n",
       "\n",
       "      director_facebook_likes  actor_3_facebook_likes        actor_2_name  \\\n",
       "0                         0.0                   855.0    Joel David Moore   \n",
       "1                       563.0                  1000.0       Orlando Bloom   \n",
       "2                         0.0                   161.0        Rory Kinnear   \n",
       "3                     22000.0                 23000.0      Christian Bale   \n",
       "4                       475.0                   530.0     Samantha Morton   \n",
       "...                       ...                     ...                 ...   \n",
       "3848                    291.0                     8.0      David Sullivan   \n",
       "3849                      0.0                     0.0     Edgar Tancangco   \n",
       "3850                      0.0                     6.0     Peter Marquardt   \n",
       "3851                      0.0                   133.0  Caitlin FitzGerald   \n",
       "3852                     16.0                    16.0    Brian Herzlinger   \n",
       "\n",
       "      actor_1_facebook_likes        gross  \\\n",
       "0                     1000.0  760505847.0   \n",
       "1                    40000.0  309404152.0   \n",
       "2                    11000.0  200074175.0   \n",
       "3                    27000.0  448130642.0   \n",
       "4                      640.0   73058679.0   \n",
       "...                      ...          ...   \n",
       "3848                   291.0     424760.0   \n",
       "3849                     0.0      70071.0   \n",
       "3850                   121.0    2040920.0   \n",
       "3851                   296.0       4584.0   \n",
       "3852                    86.0      85222.0   \n",
       "\n",
       "                                   genres  ... num_user_for_reviews language  \\\n",
       "0         Action|Adventure|Fantasy|Sci-Fi  ...               3054.0  English   \n",
       "1                Action|Adventure|Fantasy  ...               1238.0  English   \n",
       "2               Action|Adventure|Thriller  ...                994.0  English   \n",
       "3                         Action|Thriller  ...               2701.0  English   \n",
       "4                 Action|Adventure|Sci-Fi  ...                738.0  English   \n",
       "...                                   ...  ...                  ...      ...   \n",
       "3848                Drama|Sci-Fi|Thriller  ...                371.0  English   \n",
       "3849                             Thriller  ...                 35.0  English   \n",
       "3850  Action|Crime|Drama|Romance|Thriller  ...                130.0  Spanish   \n",
       "3851                         Comedy|Drama  ...                 14.0  English   \n",
       "3852                          Documentary  ...                 84.0  English   \n",
       "\n",
       "          country  content_rating       budget  title_year  \\\n",
       "0             USA           PG-13  237000000.0      2009.0   \n",
       "1             USA           PG-13  300000000.0      2007.0   \n",
       "2              UK           PG-13  245000000.0      2015.0   \n",
       "3             USA           PG-13  250000000.0      2012.0   \n",
       "4             USA           PG-13  263700000.0      2012.0   \n",
       "...           ...             ...          ...         ...   \n",
       "3848          USA           PG-13       7000.0      2004.0   \n",
       "3849  Philippines       Not Rated       7000.0      2005.0   \n",
       "3850          USA               R       7000.0      1992.0   \n",
       "3851          USA       Not Rated       9000.0      2011.0   \n",
       "3852          USA              PG       1100.0      2004.0   \n",
       "\n",
       "     actor_2_facebook_likes imdb_score  aspect_ratio movie_facebook_likes  \n",
       "0                     936.0        7.9          1.78                33000  \n",
       "1                    5000.0        7.1          2.35                    0  \n",
       "2                     393.0        6.8          2.35                85000  \n",
       "3                   23000.0        8.5          2.35               164000  \n",
       "4                     632.0        6.6          2.35                24000  \n",
       "...                     ...        ...           ...                  ...  \n",
       "3848                   45.0        7.0          1.85                19000  \n",
       "3849                    0.0        6.3           NaN                   74  \n",
       "3850                   20.0        6.9          1.37                    0  \n",
       "3851                  205.0        6.4           NaN                  413  \n",
       "3852                   23.0        6.6          1.85                  456  \n",
       "\n",
       "[3853 rows x 28 columns]"
      ],
      "text/html": "<div>\n<style scoped>\n    .dataframe tbody tr th:only-of-type {\n        vertical-align: middle;\n    }\n\n    .dataframe tbody tr th {\n        vertical-align: top;\n    }\n\n    .dataframe thead th {\n        text-align: right;\n    }\n</style>\n<table border=\"1\" class=\"dataframe\">\n  <thead>\n    <tr style=\"text-align: right;\">\n      <th></th>\n      <th>color</th>\n      <th>director_name</th>\n      <th>num_critic_for_reviews</th>\n      <th>duration</th>\n      <th>director_facebook_likes</th>\n      <th>actor_3_facebook_likes</th>\n      <th>actor_2_name</th>\n      <th>actor_1_facebook_likes</th>\n      <th>gross</th>\n      <th>genres</th>\n      <th>...</th>\n      <th>num_user_for_reviews</th>\n      <th>language</th>\n      <th>country</th>\n      <th>content_rating</th>\n      <th>budget</th>\n      <th>title_year</th>\n      <th>actor_2_facebook_likes</th>\n      <th>imdb_score</th>\n      <th>aspect_ratio</th>\n      <th>movie_facebook_likes</th>\n    </tr>\n  </thead>\n  <tbody>\n    <tr>\n      <th>0</th>\n      <td>Color</td>\n      <td>James Cameron</td>\n      <td>723.0</td>\n      <td>178.0</td>\n      <td>0.0</td>\n      <td>855.0</td>\n      <td>Joel David Moore</td>\n      <td>1000.0</td>\n      <td>760505847.0</td>\n      <td>Action|Adventure|Fantasy|Sci-Fi</td>\n      <td>...</td>\n      <td>3054.0</td>\n      <td>English</td>\n      <td>USA</td>\n      <td>PG-13</td>\n      <td>237000000.0</td>\n      <td>2009.0</td>\n      <td>936.0</td>\n      <td>7.9</td>\n      <td>1.78</td>\n      <td>33000</td>\n    </tr>\n    <tr>\n      <th>1</th>\n      <td>Color</td>\n      <td>Gore Verbinski</td>\n      <td>302.0</td>\n      <td>169.0</td>\n      <td>563.0</td>\n      <td>1000.0</td>\n      <td>Orlando Bloom</td>\n      <td>40000.0</td>\n      <td>309404152.0</td>\n      <td>Action|Adventure|Fantasy</td>\n      <td>...</td>\n      <td>1238.0</td>\n      <td>English</td>\n      <td>USA</td>\n      <td>PG-13</td>\n      <td>300000000.0</td>\n      <td>2007.0</td>\n      <td>5000.0</td>\n      <td>7.1</td>\n      <td>2.35</td>\n      <td>0</td>\n    </tr>\n    <tr>\n      <th>2</th>\n      <td>Color</td>\n      <td>Sam Mendes</td>\n      <td>602.0</td>\n      <td>148.0</td>\n      <td>0.0</td>\n      <td>161.0</td>\n      <td>Rory Kinnear</td>\n      <td>11000.0</td>\n      <td>200074175.0</td>\n      <td>Action|Adventure|Thriller</td>\n      <td>...</td>\n      <td>994.0</td>\n      <td>English</td>\n      <td>UK</td>\n      <td>PG-13</td>\n      <td>245000000.0</td>\n      <td>2015.0</td>\n      <td>393.0</td>\n      <td>6.8</td>\n      <td>2.35</td>\n      <td>85000</td>\n    </tr>\n    <tr>\n      <th>3</th>\n      <td>Color</td>\n      <td>Christopher Nolan</td>\n      <td>813.0</td>\n      <td>164.0</td>\n      <td>22000.0</td>\n      <td>23000.0</td>\n      <td>Christian Bale</td>\n      <td>27000.0</td>\n      <td>448130642.0</td>\n      <td>Action|Thriller</td>\n      <td>...</td>\n      <td>2701.0</td>\n      <td>English</td>\n      <td>USA</td>\n      <td>PG-13</td>\n      <td>250000000.0</td>\n      <td>2012.0</td>\n      <td>23000.0</td>\n      <td>8.5</td>\n      <td>2.35</td>\n      <td>164000</td>\n    </tr>\n    <tr>\n      <th>4</th>\n      <td>Color</td>\n      <td>Andrew Stanton</td>\n      <td>462.0</td>\n      <td>132.0</td>\n      <td>475.0</td>\n      <td>530.0</td>\n      <td>Samantha Morton</td>\n      <td>640.0</td>\n      <td>73058679.0</td>\n      <td>Action|Adventure|Sci-Fi</td>\n      <td>...</td>\n      <td>738.0</td>\n      <td>English</td>\n      <td>USA</td>\n      <td>PG-13</td>\n      <td>263700000.0</td>\n      <td>2012.0</td>\n      <td>632.0</td>\n      <td>6.6</td>\n      <td>2.35</td>\n      <td>24000</td>\n    </tr>\n    <tr>\n      <th>...</th>\n      <td>...</td>\n      <td>...</td>\n      <td>...</td>\n      <td>...</td>\n      <td>...</td>\n      <td>...</td>\n      <td>...</td>\n      <td>...</td>\n      <td>...</td>\n      <td>...</td>\n      <td>...</td>\n      <td>...</td>\n      <td>...</td>\n      <td>...</td>\n      <td>...</td>\n      <td>...</td>\n      <td>...</td>\n      <td>...</td>\n      <td>...</td>\n      <td>...</td>\n      <td>...</td>\n    </tr>\n    <tr>\n      <th>3848</th>\n      <td>Color</td>\n      <td>Shane Carruth</td>\n      <td>143.0</td>\n      <td>77.0</td>\n      <td>291.0</td>\n      <td>8.0</td>\n      <td>David Sullivan</td>\n      <td>291.0</td>\n      <td>424760.0</td>\n      <td>Drama|Sci-Fi|Thriller</td>\n      <td>...</td>\n      <td>371.0</td>\n      <td>English</td>\n      <td>USA</td>\n      <td>PG-13</td>\n      <td>7000.0</td>\n      <td>2004.0</td>\n      <td>45.0</td>\n      <td>7.0</td>\n      <td>1.85</td>\n      <td>19000</td>\n    </tr>\n    <tr>\n      <th>3849</th>\n      <td>Color</td>\n      <td>Neill Dela Llana</td>\n      <td>35.0</td>\n      <td>80.0</td>\n      <td>0.0</td>\n      <td>0.0</td>\n      <td>Edgar Tancangco</td>\n      <td>0.0</td>\n      <td>70071.0</td>\n      <td>Thriller</td>\n      <td>...</td>\n      <td>35.0</td>\n      <td>English</td>\n      <td>Philippines</td>\n      <td>Not Rated</td>\n      <td>7000.0</td>\n      <td>2005.0</td>\n      <td>0.0</td>\n      <td>6.3</td>\n      <td>NaN</td>\n      <td>74</td>\n    </tr>\n    <tr>\n      <th>3850</th>\n      <td>Color</td>\n      <td>Robert Rodriguez</td>\n      <td>56.0</td>\n      <td>81.0</td>\n      <td>0.0</td>\n      <td>6.0</td>\n      <td>Peter Marquardt</td>\n      <td>121.0</td>\n      <td>2040920.0</td>\n      <td>Action|Crime|Drama|Romance|Thriller</td>\n      <td>...</td>\n      <td>130.0</td>\n      <td>Spanish</td>\n      <td>USA</td>\n      <td>R</td>\n      <td>7000.0</td>\n      <td>1992.0</td>\n      <td>20.0</td>\n      <td>6.9</td>\n      <td>1.37</td>\n      <td>0</td>\n    </tr>\n    <tr>\n      <th>3851</th>\n      <td>Color</td>\n      <td>Edward Burns</td>\n      <td>14.0</td>\n      <td>95.0</td>\n      <td>0.0</td>\n      <td>133.0</td>\n      <td>Caitlin FitzGerald</td>\n      <td>296.0</td>\n      <td>4584.0</td>\n      <td>Comedy|Drama</td>\n      <td>...</td>\n      <td>14.0</td>\n      <td>English</td>\n      <td>USA</td>\n      <td>Not Rated</td>\n      <td>9000.0</td>\n      <td>2011.0</td>\n      <td>205.0</td>\n      <td>6.4</td>\n      <td>NaN</td>\n      <td>413</td>\n    </tr>\n    <tr>\n      <th>3852</th>\n      <td>Color</td>\n      <td>Jon Gunn</td>\n      <td>43.0</td>\n      <td>90.0</td>\n      <td>16.0</td>\n      <td>16.0</td>\n      <td>Brian Herzlinger</td>\n      <td>86.0</td>\n      <td>85222.0</td>\n      <td>Documentary</td>\n      <td>...</td>\n      <td>84.0</td>\n      <td>English</td>\n      <td>USA</td>\n      <td>PG</td>\n      <td>1100.0</td>\n      <td>2004.0</td>\n      <td>23.0</td>\n      <td>6.6</td>\n      <td>1.85</td>\n      <td>456</td>\n    </tr>\n  </tbody>\n</table>\n<p>3853 rows × 28 columns</p>\n</div>"
     },
     "metadata": {},
     "execution_count": 254
    }
   ],
   "source": [
    "# Write your code for importing the csv file here\n",
    "movies = pd.read_csv('Movies.csv')\n",
    "movies"
   ]
  },
  {
   "cell_type": "markdown",
   "metadata": {},
   "source": [
    "**Subtask 1.2: Inspect the dataframe**\n",
    "\n",
    "Inspect the dataframe's columns, shapes, variable types etc."
   ]
  },
  {
   "cell_type": "code",
   "execution_count": 255,
   "metadata": {},
   "outputs": [
    {
     "output_type": "stream",
     "name": "stdout",
     "text": [
      "<class 'pandas.core.frame.DataFrame'>\nRangeIndex: 3853 entries, 0 to 3852\nData columns (total 28 columns):\n #   Column                     Non-Null Count  Dtype  \n---  ------                     --------------  -----  \n 0   color                      3851 non-null   object \n 1   director_name              3853 non-null   object \n 2   num_critic_for_reviews     3852 non-null   float64\n 3   duration                   3852 non-null   float64\n 4   director_facebook_likes    3853 non-null   float64\n 5   actor_3_facebook_likes     3847 non-null   float64\n 6   actor_2_name               3852 non-null   object \n 7   actor_1_facebook_likes     3853 non-null   float64\n 8   gross                      3853 non-null   float64\n 9   genres                     3853 non-null   object \n 10  actor_1_name               3853 non-null   object \n 11  movie_title                3853 non-null   object \n 12  num_voted_users            3853 non-null   int64  \n 13  cast_total_facebook_likes  3853 non-null   int64  \n 14  actor_3_name               3847 non-null   object \n 15  facenumber_in_poster       3847 non-null   float64\n 16  plot_keywords              3823 non-null   object \n 17  movie_imdb_link            3853 non-null   object \n 18  num_user_for_reviews       3853 non-null   float64\n 19  language                   3850 non-null   object \n 20  country                    3853 non-null   object \n 21  content_rating             3805 non-null   object \n 22  budget                     3853 non-null   float64\n 23  title_year                 3853 non-null   float64\n 24  actor_2_facebook_likes     3852 non-null   float64\n 25  imdb_score                 3853 non-null   float64\n 26  aspect_ratio               3781 non-null   float64\n 27  movie_facebook_likes       3853 non-null   int64  \ndtypes: float64(13), int64(3), object(12)\nmemory usage: 843.0+ KB\n"
     ]
    }
   ],
   "source": [
    "# Write your code for inspection here\n",
    "movies.info()"
   ]
  },
  {
   "cell_type": "markdown",
   "metadata": {},
   "source": [
    "#### <font color='red'>Question 1: How many rows and columns are present in the dataframe? </font>\n",
    "-  <font color='red'>(3821, 26)</font>\n",
    "-  <font color='red'>(3879, 28)</font>\n",
    "-  <font color='red'>(3853, 28)</font>\n",
    "-  <font color='red'>(3866, 26)</font>"
   ]
  },
  {
   "cell_type": "markdown",
   "metadata": {},
   "source": [
    "#### <font color='red'>Question 2: How many columns have null values present in them? Try writing a code for this instead of counting them manually.</font>\n",
    "\n",
    "-  <font color='red'>3</font>\n",
    "-  <font color='red'>6</font>\n",
    "-  <font color='red'>9</font>\n",
    "-  <font color='red'>12</font>"
   ]
  },
  {
   "cell_type": "code",
   "execution_count": 256,
   "metadata": {},
   "outputs": [
    {
     "output_type": "stream",
     "name": "stdout",
     "text": [
      "12\n"
     ]
    }
   ],
   "source": [
    "print((movies.isnull().sum()>0).sum())"
   ]
  },
  {
   "cell_type": "markdown",
   "metadata": {},
   "source": [
    "### Task 2: Cleaning the Data\n",
    "\n",
    "**Subtask 2.1: Drop unecessary columns**\n",
    "\n",
    "For this assignment, you will mostly be analyzing the movies with respect to the ratings, gross collection, popularity of movies, etc. So many of the columns in this dataframe are not required. So it is advised to drop the following columns.\n",
    "-  color\n",
    "-  director_facebook_likes\n",
    "-  actor_1_facebook_likes\n",
    "-  actor_2_facebook_likes\n",
    "-  actor_3_facebook_likes\n",
    "-  actor_2_name\n",
    "-  cast_total_facebook_likes\n",
    "-  actor_3_name\n",
    "-  duration\n",
    "-  facenumber_in_poster\n",
    "-  content_rating\n",
    "-  country\n",
    "-  movie_imdb_link\n",
    "-  aspect_ratio\n",
    "-  plot_keywords"
   ]
  },
  {
   "cell_type": "code",
   "execution_count": 257,
   "metadata": {},
   "outputs": [
    {
     "output_type": "stream",
     "name": "stdout",
     "text": [
      "Help on function drop in module pandas.core.frame:\n\ndrop(self, labels=None, axis=0, index=None, columns=None, level=None, inplace=False, errors='raise')\n    Drop specified labels from rows or columns.\n    \n    Remove rows or columns by specifying label names and corresponding\n    axis, or by specifying directly index or column names. When using a\n    multi-index, labels on different levels can be removed by specifying\n    the level.\n    \n    Parameters\n    ----------\n    labels : single label or list-like\n        Index or column labels to drop.\n    axis : {0 or 'index', 1 or 'columns'}, default 0\n        Whether to drop labels from the index (0 or 'index') or\n        columns (1 or 'columns').\n    index : single label or list-like\n        Alternative to specifying axis (``labels, axis=0``\n        is equivalent to ``index=labels``).\n    columns : single label or list-like\n        Alternative to specifying axis (``labels, axis=1``\n        is equivalent to ``columns=labels``).\n    level : int or level name, optional\n        For MultiIndex, level from which the labels will be removed.\n    inplace : bool, default False\n        If False, return a copy. Otherwise, do operation\n        inplace and return None.\n    errors : {'ignore', 'raise'}, default 'raise'\n        If 'ignore', suppress error and only existing labels are\n        dropped.\n    \n    Returns\n    -------\n    DataFrame or None\n        DataFrame without the removed index or column labels or\n        None if ``inplace=True``.\n    \n    Raises\n    ------\n    KeyError\n        If any of the labels is not found in the selected axis.\n    \n    See Also\n    --------\n    DataFrame.loc : Label-location based indexer for selection by label.\n    DataFrame.dropna : Return DataFrame with labels on given axis omitted\n        where (all or any) data are missing.\n    DataFrame.drop_duplicates : Return DataFrame with duplicate rows\n        removed, optionally only considering certain columns.\n    Series.drop : Return Series with specified index labels removed.\n    \n    Examples\n    --------\n    >>> df = pd.DataFrame(np.arange(12).reshape(3, 4),\n    ...                   columns=['A', 'B', 'C', 'D'])\n    >>> df\n       A  B   C   D\n    0  0  1   2   3\n    1  4  5   6   7\n    2  8  9  10  11\n    \n    Drop columns\n    \n    >>> df.drop(['B', 'C'], axis=1)\n       A   D\n    0  0   3\n    1  4   7\n    2  8  11\n    \n    >>> df.drop(columns=['B', 'C'])\n       A   D\n    0  0   3\n    1  4   7\n    2  8  11\n    \n    Drop a row by index\n    \n    >>> df.drop([0, 1])\n       A  B   C   D\n    2  8  9  10  11\n    \n    Drop columns and/or rows of MultiIndex DataFrame\n    \n    >>> midx = pd.MultiIndex(levels=[['lama', 'cow', 'falcon'],\n    ...                              ['speed', 'weight', 'length']],\n    ...                      codes=[[0, 0, 0, 1, 1, 1, 2, 2, 2],\n    ...                             [0, 1, 2, 0, 1, 2, 0, 1, 2]])\n    >>> df = pd.DataFrame(index=midx, columns=['big', 'small'],\n    ...                   data=[[45, 30], [200, 100], [1.5, 1], [30, 20],\n    ...                         [250, 150], [1.5, 0.8], [320, 250],\n    ...                         [1, 0.8], [0.3, 0.2]])\n    >>> df\n                    big     small\n    lama    speed   45.0    30.0\n            weight  200.0   100.0\n            length  1.5     1.0\n    cow     speed   30.0    20.0\n            weight  250.0   150.0\n            length  1.5     0.8\n    falcon  speed   320.0   250.0\n            weight  1.0     0.8\n            length  0.3     0.2\n    \n    >>> df.drop(index='cow', columns='small')\n                    big\n    lama    speed   45.0\n            weight  200.0\n            length  1.5\n    falcon  speed   320.0\n            weight  1.0\n            length  0.3\n    \n    >>> df.drop(index='length', level=1)\n                    big     small\n    lama    speed   45.0    30.0\n            weight  200.0   100.0\n    cow     speed   30.0    20.0\n            weight  250.0   150.0\n    falcon  speed   320.0   250.0\n            weight  1.0     0.8\n\n"
     ]
    }
   ],
   "source": [
    "# Check the 'drop' function in the Pandas library - dataframe.drop(list_of_unnecessary_columns, axis = )\n",
    "# Write your code for dropping the columns here. It is advised to keep inspecting the dataframe after each set of operations\n",
    "\n",
    "help(pd.DataFrame.drop)\n",
    "\n"
   ]
  },
  {
   "cell_type": "code",
   "execution_count": 258,
   "metadata": {},
   "outputs": [
    {
     "output_type": "stream",
     "name": "stdout",
     "text": [
      "<class 'pandas.core.frame.DataFrame'>\nRangeIndex: 3853 entries, 0 to 3852\nData columns (total 13 columns):\n #   Column                  Non-Null Count  Dtype  \n---  ------                  --------------  -----  \n 0   director_name           3853 non-null   object \n 1   num_critic_for_reviews  3852 non-null   float64\n 2   gross                   3853 non-null   float64\n 3   genres                  3853 non-null   object \n 4   actor_1_name            3853 non-null   object \n 5   movie_title             3853 non-null   object \n 6   num_voted_users         3853 non-null   int64  \n 7   num_user_for_reviews    3853 non-null   float64\n 8   language                3850 non-null   object \n 9   budget                  3853 non-null   float64\n 10  title_year              3853 non-null   float64\n 11  imdb_score              3853 non-null   float64\n 12  movie_facebook_likes    3853 non-null   int64  \ndtypes: float64(6), int64(2), object(5)\nmemory usage: 391.4+ KB\n"
     ]
    }
   ],
   "source": [
    "movies=movies.drop(['color','director_facebook_likes','actor_1_facebook_likes','actor_2_facebook_likes','actor_3_facebook_likes','cast_total_facebook_likes','actor_2_name','actor_3_name','duration','facenumber_in_poster','content_rating','country','country','movie_imdb_link','aspect_ratio','plot_keywords'],axis=1)\n",
    "movies.info()\n"
   ]
  },
  {
   "cell_type": "markdown",
   "metadata": {},
   "source": [
    "#### <font color='red'>Question 3: What is the count of columns in the new dataframe? </font>\n",
    "-  <font color='red'>10</font>\n",
    "-  <font color='red'>13</font>\n",
    "-  <font color='red'>15</font>\n",
    "-  <font color='red'>17</font>"
   ]
  },
  {
   "cell_type": "markdown",
   "metadata": {},
   "source": [
    "**Subtask 2.2: Inspect Null values**\n",
    "\n",
    "As you have seen above, there are null values in multiple columns of the dataframe 'movies'. Find out the percentage of null values in each column of the dataframe 'movies'. "
   ]
  },
  {
   "cell_type": "code",
   "execution_count": 259,
   "metadata": {},
   "outputs": [
    {
     "output_type": "execute_result",
     "data": {
      "text/plain": [
       "director_name             0.00\n",
       "num_critic_for_reviews    0.03\n",
       "gross                     0.00\n",
       "genres                    0.00\n",
       "actor_1_name              0.00\n",
       "movie_title               0.00\n",
       "num_voted_users           0.00\n",
       "num_user_for_reviews      0.00\n",
       "language                  0.08\n",
       "budget                    0.00\n",
       "title_year                0.00\n",
       "imdb_score                0.00\n",
       "movie_facebook_likes      0.00\n",
       "dtype: float64"
      ]
     },
     "metadata": {},
     "execution_count": 259
    }
   ],
   "source": [
    "# Write you code here\n",
    "round(100*(movies.isnull().sum()/len(movies.index)),2)"
   ]
  },
  {
   "cell_type": "markdown",
   "metadata": {},
   "source": [
    "#### <font color='red'>Question 4: Which column has the highest percentage of null values? </font>\n",
    "-  <font color='red'>language</font>\n",
    "-  <font color='red'>genres</font>\n",
    "-  <font color='red'>num_critic_for_reviews</font>\n",
    "-  <font color='red'>imdb_score</font>"
   ]
  },
  {
   "cell_type": "markdown",
   "metadata": {},
   "source": [
    "**Subtask 2.3: Fill NaN values**\n",
    "\n",
    "You might notice that the `language` column has some NaN values. Here, on inspection, you will see that it is safe to replace all the missing values with `'English'`."
   ]
  },
  {
   "cell_type": "code",
   "execution_count": 260,
   "metadata": {},
   "outputs": [
    {
     "output_type": "execute_result",
     "data": {
      "text/plain": [
       "3674"
      ]
     },
     "metadata": {},
     "execution_count": 260
    }
   ],
   "source": [
    "# Write your code for filling the NaN values in the 'language' column here\n",
    "movies.loc[pd.isnull(movies['language']),['language']]='English'\n",
    "(movies.language=='English').sum()"
   ]
  },
  {
   "cell_type": "markdown",
   "metadata": {},
   "source": [
    "#### <font color='red'>Question 5: What is the count of movies made in English language after replacing the NaN values with English? </font>\n",
    "-  <font color='red'>3670</font>\n",
    "-  <font color='red'>3674</font>\n",
    "-  <font color='red'>3668</font>\n",
    "-  <font color='red'>3672</font>"
   ]
  },
  {
   "cell_type": "markdown",
   "metadata": {},
   "source": [
    "### Task 3: Data Analysis\n",
    "\n",
    "**Subtask 3.1: Change the unit of columns**\n",
    "\n",
    "Convert the unit of the `budget` and `gross` columns from `$` to `million $`."
   ]
  },
  {
   "cell_type": "code",
   "execution_count": 261,
   "metadata": {},
   "outputs": [
    {
     "output_type": "execute_result",
     "data": {
      "text/plain": [
       "       director_name  num_critic_for_reviews       gross  \\\n",
       "0      James Cameron                   723.0  760.505847   \n",
       "1     Gore Verbinski                   302.0  309.404152   \n",
       "2         Sam Mendes                   602.0  200.074175   \n",
       "3  Christopher Nolan                   813.0  448.130642   \n",
       "4     Andrew Stanton                   462.0   73.058679   \n",
       "\n",
       "                            genres     actor_1_name  \\\n",
       "0  Action|Adventure|Fantasy|Sci-Fi      CCH Pounder   \n",
       "1         Action|Adventure|Fantasy      Johnny Depp   \n",
       "2        Action|Adventure|Thriller  Christoph Waltz   \n",
       "3                  Action|Thriller        Tom Hardy   \n",
       "4          Action|Adventure|Sci-Fi     Daryl Sabara   \n",
       "\n",
       "                                 movie_title  num_voted_users  \\\n",
       "0                                    Avatar            886204   \n",
       "1  Pirates of the Caribbean: At World's End            471220   \n",
       "2                                   Spectre            275868   \n",
       "3                     The Dark Knight Rises           1144337   \n",
       "4                               John Carter            212204   \n",
       "\n",
       "   num_user_for_reviews language  budget  title_year  imdb_score  \\\n",
       "0                3054.0  English   237.0      2009.0         7.9   \n",
       "1                1238.0  English   300.0      2007.0         7.1   \n",
       "2                 994.0  English   245.0      2015.0         6.8   \n",
       "3                2701.0  English   250.0      2012.0         8.5   \n",
       "4                 738.0  English   263.7      2012.0         6.6   \n",
       "\n",
       "   movie_facebook_likes  \n",
       "0                 33000  \n",
       "1                     0  \n",
       "2                 85000  \n",
       "3                164000  \n",
       "4                 24000  "
      ],
      "text/html": "<div>\n<style scoped>\n    .dataframe tbody tr th:only-of-type {\n        vertical-align: middle;\n    }\n\n    .dataframe tbody tr th {\n        vertical-align: top;\n    }\n\n    .dataframe thead th {\n        text-align: right;\n    }\n</style>\n<table border=\"1\" class=\"dataframe\">\n  <thead>\n    <tr style=\"text-align: right;\">\n      <th></th>\n      <th>director_name</th>\n      <th>num_critic_for_reviews</th>\n      <th>gross</th>\n      <th>genres</th>\n      <th>actor_1_name</th>\n      <th>movie_title</th>\n      <th>num_voted_users</th>\n      <th>num_user_for_reviews</th>\n      <th>language</th>\n      <th>budget</th>\n      <th>title_year</th>\n      <th>imdb_score</th>\n      <th>movie_facebook_likes</th>\n    </tr>\n  </thead>\n  <tbody>\n    <tr>\n      <th>0</th>\n      <td>James Cameron</td>\n      <td>723.0</td>\n      <td>760.505847</td>\n      <td>Action|Adventure|Fantasy|Sci-Fi</td>\n      <td>CCH Pounder</td>\n      <td>Avatar</td>\n      <td>886204</td>\n      <td>3054.0</td>\n      <td>English</td>\n      <td>237.0</td>\n      <td>2009.0</td>\n      <td>7.9</td>\n      <td>33000</td>\n    </tr>\n    <tr>\n      <th>1</th>\n      <td>Gore Verbinski</td>\n      <td>302.0</td>\n      <td>309.404152</td>\n      <td>Action|Adventure|Fantasy</td>\n      <td>Johnny Depp</td>\n      <td>Pirates of the Caribbean: At World's End</td>\n      <td>471220</td>\n      <td>1238.0</td>\n      <td>English</td>\n      <td>300.0</td>\n      <td>2007.0</td>\n      <td>7.1</td>\n      <td>0</td>\n    </tr>\n    <tr>\n      <th>2</th>\n      <td>Sam Mendes</td>\n      <td>602.0</td>\n      <td>200.074175</td>\n      <td>Action|Adventure|Thriller</td>\n      <td>Christoph Waltz</td>\n      <td>Spectre</td>\n      <td>275868</td>\n      <td>994.0</td>\n      <td>English</td>\n      <td>245.0</td>\n      <td>2015.0</td>\n      <td>6.8</td>\n      <td>85000</td>\n    </tr>\n    <tr>\n      <th>3</th>\n      <td>Christopher Nolan</td>\n      <td>813.0</td>\n      <td>448.130642</td>\n      <td>Action|Thriller</td>\n      <td>Tom Hardy</td>\n      <td>The Dark Knight Rises</td>\n      <td>1144337</td>\n      <td>2701.0</td>\n      <td>English</td>\n      <td>250.0</td>\n      <td>2012.0</td>\n      <td>8.5</td>\n      <td>164000</td>\n    </tr>\n    <tr>\n      <th>4</th>\n      <td>Andrew Stanton</td>\n      <td>462.0</td>\n      <td>73.058679</td>\n      <td>Action|Adventure|Sci-Fi</td>\n      <td>Daryl Sabara</td>\n      <td>John Carter</td>\n      <td>212204</td>\n      <td>738.0</td>\n      <td>English</td>\n      <td>263.7</td>\n      <td>2012.0</td>\n      <td>6.6</td>\n      <td>24000</td>\n    </tr>\n  </tbody>\n</table>\n</div>"
     },
     "metadata": {},
     "execution_count": 261
    }
   ],
   "source": [
    "# Write your code for unit conversion here\n",
    "movies[['budget','gross']]=movies[['budget','gross']].apply(lambda x:x/1000000)\n",
    "movies.head()"
   ]
  },
  {
   "cell_type": "markdown",
   "metadata": {},
   "source": [
    "**Subtask 3.2: Find the movies with highest profit**\n",
    "\n",
    "   1. Create a new column called `profit` which contains the difference of the two columns: `gross` and `budget`.\n",
    "   2. Sort the dataframe using the `profit` column as reference. (Find which command can be used here to sort entries from the documentation)\n",
    "   3. Extract the top ten profiting movies in descending order and store them in a new dataframe - `top10`"
   ]
  },
  {
   "cell_type": "code",
   "execution_count": 262,
   "metadata": {},
   "outputs": [],
   "source": [
    "# Write your code for creating the profit column here\n",
    "movies['Profit']=movies['gross']-movies['budget']"
   ]
  },
  {
   "cell_type": "code",
   "execution_count": 263,
   "metadata": {},
   "outputs": [
    {
     "output_type": "execute_result",
     "data": {
      "text/plain": [
       "         director_name  num_critic_for_reviews       gross  \\\n",
       "0        James Cameron                   723.0  760.505847   \n",
       "28     Colin Trevorrow                   644.0  652.177271   \n",
       "25       James Cameron                   315.0  658.672302   \n",
       "2704      George Lucas                   282.0  460.935665   \n",
       "2748  Steven Spielberg                   215.0  434.949459   \n",
       "\n",
       "                                genres         actor_1_name  \\\n",
       "0      Action|Adventure|Fantasy|Sci-Fi          CCH Pounder   \n",
       "28    Action|Adventure|Sci-Fi|Thriller  Bryce Dallas Howard   \n",
       "25                       Drama|Romance    Leonardo DiCaprio   \n",
       "2704   Action|Adventure|Fantasy|Sci-Fi        Harrison Ford   \n",
       "2748                     Family|Sci-Fi         Henry Thomas   \n",
       "\n",
       "                              movie_title  num_voted_users  \\\n",
       "0                                 Avatar            886204   \n",
       "28                        Jurassic World            418214   \n",
       "25                               Titanic            793059   \n",
       "2704  Star Wars: Episode IV - A New Hope            911097   \n",
       "2748          E.T. the Extra-Terrestrial            281842   \n",
       "\n",
       "      num_user_for_reviews language  budget  title_year  imdb_score  \\\n",
       "0                   3054.0  English   237.0      2009.0         7.9   \n",
       "28                  1290.0  English   150.0      2015.0         7.0   \n",
       "25                  2528.0  English   200.0      1997.0         7.7   \n",
       "2704                1470.0  English    11.0      1977.0         8.7   \n",
       "2748                 515.0  English    10.5      1982.0         7.9   \n",
       "\n",
       "      movie_facebook_likes      Profit  \n",
       "0                    33000  523.505847  \n",
       "28                  150000  502.177271  \n",
       "25                   26000  458.672302  \n",
       "2704                 33000  449.935665  \n",
       "2748                 34000  424.449459  "
      ],
      "text/html": "<div>\n<style scoped>\n    .dataframe tbody tr th:only-of-type {\n        vertical-align: middle;\n    }\n\n    .dataframe tbody tr th {\n        vertical-align: top;\n    }\n\n    .dataframe thead th {\n        text-align: right;\n    }\n</style>\n<table border=\"1\" class=\"dataframe\">\n  <thead>\n    <tr style=\"text-align: right;\">\n      <th></th>\n      <th>director_name</th>\n      <th>num_critic_for_reviews</th>\n      <th>gross</th>\n      <th>genres</th>\n      <th>actor_1_name</th>\n      <th>movie_title</th>\n      <th>num_voted_users</th>\n      <th>num_user_for_reviews</th>\n      <th>language</th>\n      <th>budget</th>\n      <th>title_year</th>\n      <th>imdb_score</th>\n      <th>movie_facebook_likes</th>\n      <th>Profit</th>\n    </tr>\n  </thead>\n  <tbody>\n    <tr>\n      <th>0</th>\n      <td>James Cameron</td>\n      <td>723.0</td>\n      <td>760.505847</td>\n      <td>Action|Adventure|Fantasy|Sci-Fi</td>\n      <td>CCH Pounder</td>\n      <td>Avatar</td>\n      <td>886204</td>\n      <td>3054.0</td>\n      <td>English</td>\n      <td>237.0</td>\n      <td>2009.0</td>\n      <td>7.9</td>\n      <td>33000</td>\n      <td>523.505847</td>\n    </tr>\n    <tr>\n      <th>28</th>\n      <td>Colin Trevorrow</td>\n      <td>644.0</td>\n      <td>652.177271</td>\n      <td>Action|Adventure|Sci-Fi|Thriller</td>\n      <td>Bryce Dallas Howard</td>\n      <td>Jurassic World</td>\n      <td>418214</td>\n      <td>1290.0</td>\n      <td>English</td>\n      <td>150.0</td>\n      <td>2015.0</td>\n      <td>7.0</td>\n      <td>150000</td>\n      <td>502.177271</td>\n    </tr>\n    <tr>\n      <th>25</th>\n      <td>James Cameron</td>\n      <td>315.0</td>\n      <td>658.672302</td>\n      <td>Drama|Romance</td>\n      <td>Leonardo DiCaprio</td>\n      <td>Titanic</td>\n      <td>793059</td>\n      <td>2528.0</td>\n      <td>English</td>\n      <td>200.0</td>\n      <td>1997.0</td>\n      <td>7.7</td>\n      <td>26000</td>\n      <td>458.672302</td>\n    </tr>\n    <tr>\n      <th>2704</th>\n      <td>George Lucas</td>\n      <td>282.0</td>\n      <td>460.935665</td>\n      <td>Action|Adventure|Fantasy|Sci-Fi</td>\n      <td>Harrison Ford</td>\n      <td>Star Wars: Episode IV - A New Hope</td>\n      <td>911097</td>\n      <td>1470.0</td>\n      <td>English</td>\n      <td>11.0</td>\n      <td>1977.0</td>\n      <td>8.7</td>\n      <td>33000</td>\n      <td>449.935665</td>\n    </tr>\n    <tr>\n      <th>2748</th>\n      <td>Steven Spielberg</td>\n      <td>215.0</td>\n      <td>434.949459</td>\n      <td>Family|Sci-Fi</td>\n      <td>Henry Thomas</td>\n      <td>E.T. the Extra-Terrestrial</td>\n      <td>281842</td>\n      <td>515.0</td>\n      <td>English</td>\n      <td>10.5</td>\n      <td>1982.0</td>\n      <td>7.9</td>\n      <td>34000</td>\n      <td>424.449459</td>\n    </tr>\n  </tbody>\n</table>\n</div>"
     },
     "metadata": {},
     "execution_count": 263
    }
   ],
   "source": [
    "# Write your code for sorting the dataframe here\n",
    "movies=movies.sort_values(by=['Profit'],ascending=False)\n",
    "movies.head()"
   ]
  },
  {
   "cell_type": "code",
   "execution_count": 264,
   "metadata": {},
   "outputs": [
    {
     "output_type": "execute_result",
     "data": {
      "text/plain": [
       "          director_name  num_critic_for_reviews       gross  \\\n",
       "0         James Cameron                   723.0  760.505847   \n",
       "28      Colin Trevorrow                   644.0  652.177271   \n",
       "25        James Cameron                   315.0  658.672302   \n",
       "2704       George Lucas                   282.0  460.935665   \n",
       "2748   Steven Spielberg                   215.0  434.949459   \n",
       "16          Joss Whedon                   703.0  623.279547   \n",
       "482        Roger Allers                   186.0  422.783777   \n",
       "230        George Lucas                   320.0  474.544677   \n",
       "64    Christopher Nolan                   645.0  533.316061   \n",
       "419           Gary Ross                   673.0  407.999255   \n",
       "\n",
       "                                        genres         actor_1_name  \\\n",
       "0              Action|Adventure|Fantasy|Sci-Fi          CCH Pounder   \n",
       "28            Action|Adventure|Sci-Fi|Thriller  Bryce Dallas Howard   \n",
       "25                               Drama|Romance    Leonardo DiCaprio   \n",
       "2704           Action|Adventure|Fantasy|Sci-Fi        Harrison Ford   \n",
       "2748                             Family|Sci-Fi         Henry Thomas   \n",
       "16                     Action|Adventure|Sci-Fi      Chris Hemsworth   \n",
       "482   Adventure|Animation|Drama|Family|Musical    Matthew Broderick   \n",
       "230            Action|Adventure|Fantasy|Sci-Fi      Natalie Portman   \n",
       "64                 Action|Crime|Drama|Thriller       Christian Bale   \n",
       "419            Adventure|Drama|Sci-Fi|Thriller    Jennifer Lawrence   \n",
       "\n",
       "                                     movie_title  num_voted_users  \\\n",
       "0                                        Avatar            886204   \n",
       "28                               Jurassic World            418214   \n",
       "25                                      Titanic            793059   \n",
       "2704         Star Wars: Episode IV - A New Hope            911097   \n",
       "2748                 E.T. the Extra-Terrestrial            281842   \n",
       "16                                 The Avengers            995415   \n",
       "482                               The Lion King            644348   \n",
       "230   Star Wars: Episode I - The Phantom Menace            534658   \n",
       "64                              The Dark Knight           1676169   \n",
       "419                            The Hunger Games            701607   \n",
       "\n",
       "      num_user_for_reviews language  budget  title_year  imdb_score  \\\n",
       "0                   3054.0  English   237.0      2009.0         7.9   \n",
       "28                  1290.0  English   150.0      2015.0         7.0   \n",
       "25                  2528.0  English   200.0      1997.0         7.7   \n",
       "2704                1470.0  English    11.0      1977.0         8.7   \n",
       "2748                 515.0  English    10.5      1982.0         7.9   \n",
       "16                  1722.0  English   220.0      2012.0         8.1   \n",
       "482                  656.0  English    45.0      1994.0         8.5   \n",
       "230                 3597.0  English   115.0      1999.0         6.5   \n",
       "64                  4667.0  English   185.0      2008.0         9.0   \n",
       "419                 1959.0  English    78.0      2012.0         7.3   \n",
       "\n",
       "      movie_facebook_likes      Profit  \n",
       "0                    33000  523.505847  \n",
       "28                  150000  502.177271  \n",
       "25                   26000  458.672302  \n",
       "2704                 33000  449.935665  \n",
       "2748                 34000  424.449459  \n",
       "16                  123000  403.279547  \n",
       "482                  17000  377.783777  \n",
       "230                  13000  359.544677  \n",
       "64                   37000  348.316061  \n",
       "419                 140000  329.999255  "
      ],
      "text/html": "<div>\n<style scoped>\n    .dataframe tbody tr th:only-of-type {\n        vertical-align: middle;\n    }\n\n    .dataframe tbody tr th {\n        vertical-align: top;\n    }\n\n    .dataframe thead th {\n        text-align: right;\n    }\n</style>\n<table border=\"1\" class=\"dataframe\">\n  <thead>\n    <tr style=\"text-align: right;\">\n      <th></th>\n      <th>director_name</th>\n      <th>num_critic_for_reviews</th>\n      <th>gross</th>\n      <th>genres</th>\n      <th>actor_1_name</th>\n      <th>movie_title</th>\n      <th>num_voted_users</th>\n      <th>num_user_for_reviews</th>\n      <th>language</th>\n      <th>budget</th>\n      <th>title_year</th>\n      <th>imdb_score</th>\n      <th>movie_facebook_likes</th>\n      <th>Profit</th>\n    </tr>\n  </thead>\n  <tbody>\n    <tr>\n      <th>0</th>\n      <td>James Cameron</td>\n      <td>723.0</td>\n      <td>760.505847</td>\n      <td>Action|Adventure|Fantasy|Sci-Fi</td>\n      <td>CCH Pounder</td>\n      <td>Avatar</td>\n      <td>886204</td>\n      <td>3054.0</td>\n      <td>English</td>\n      <td>237.0</td>\n      <td>2009.0</td>\n      <td>7.9</td>\n      <td>33000</td>\n      <td>523.505847</td>\n    </tr>\n    <tr>\n      <th>28</th>\n      <td>Colin Trevorrow</td>\n      <td>644.0</td>\n      <td>652.177271</td>\n      <td>Action|Adventure|Sci-Fi|Thriller</td>\n      <td>Bryce Dallas Howard</td>\n      <td>Jurassic World</td>\n      <td>418214</td>\n      <td>1290.0</td>\n      <td>English</td>\n      <td>150.0</td>\n      <td>2015.0</td>\n      <td>7.0</td>\n      <td>150000</td>\n      <td>502.177271</td>\n    </tr>\n    <tr>\n      <th>25</th>\n      <td>James Cameron</td>\n      <td>315.0</td>\n      <td>658.672302</td>\n      <td>Drama|Romance</td>\n      <td>Leonardo DiCaprio</td>\n      <td>Titanic</td>\n      <td>793059</td>\n      <td>2528.0</td>\n      <td>English</td>\n      <td>200.0</td>\n      <td>1997.0</td>\n      <td>7.7</td>\n      <td>26000</td>\n      <td>458.672302</td>\n    </tr>\n    <tr>\n      <th>2704</th>\n      <td>George Lucas</td>\n      <td>282.0</td>\n      <td>460.935665</td>\n      <td>Action|Adventure|Fantasy|Sci-Fi</td>\n      <td>Harrison Ford</td>\n      <td>Star Wars: Episode IV - A New Hope</td>\n      <td>911097</td>\n      <td>1470.0</td>\n      <td>English</td>\n      <td>11.0</td>\n      <td>1977.0</td>\n      <td>8.7</td>\n      <td>33000</td>\n      <td>449.935665</td>\n    </tr>\n    <tr>\n      <th>2748</th>\n      <td>Steven Spielberg</td>\n      <td>215.0</td>\n      <td>434.949459</td>\n      <td>Family|Sci-Fi</td>\n      <td>Henry Thomas</td>\n      <td>E.T. the Extra-Terrestrial</td>\n      <td>281842</td>\n      <td>515.0</td>\n      <td>English</td>\n      <td>10.5</td>\n      <td>1982.0</td>\n      <td>7.9</td>\n      <td>34000</td>\n      <td>424.449459</td>\n    </tr>\n    <tr>\n      <th>16</th>\n      <td>Joss Whedon</td>\n      <td>703.0</td>\n      <td>623.279547</td>\n      <td>Action|Adventure|Sci-Fi</td>\n      <td>Chris Hemsworth</td>\n      <td>The Avengers</td>\n      <td>995415</td>\n      <td>1722.0</td>\n      <td>English</td>\n      <td>220.0</td>\n      <td>2012.0</td>\n      <td>8.1</td>\n      <td>123000</td>\n      <td>403.279547</td>\n    </tr>\n    <tr>\n      <th>482</th>\n      <td>Roger Allers</td>\n      <td>186.0</td>\n      <td>422.783777</td>\n      <td>Adventure|Animation|Drama|Family|Musical</td>\n      <td>Matthew Broderick</td>\n      <td>The Lion King</td>\n      <td>644348</td>\n      <td>656.0</td>\n      <td>English</td>\n      <td>45.0</td>\n      <td>1994.0</td>\n      <td>8.5</td>\n      <td>17000</td>\n      <td>377.783777</td>\n    </tr>\n    <tr>\n      <th>230</th>\n      <td>George Lucas</td>\n      <td>320.0</td>\n      <td>474.544677</td>\n      <td>Action|Adventure|Fantasy|Sci-Fi</td>\n      <td>Natalie Portman</td>\n      <td>Star Wars: Episode I - The Phantom Menace</td>\n      <td>534658</td>\n      <td>3597.0</td>\n      <td>English</td>\n      <td>115.0</td>\n      <td>1999.0</td>\n      <td>6.5</td>\n      <td>13000</td>\n      <td>359.544677</td>\n    </tr>\n    <tr>\n      <th>64</th>\n      <td>Christopher Nolan</td>\n      <td>645.0</td>\n      <td>533.316061</td>\n      <td>Action|Crime|Drama|Thriller</td>\n      <td>Christian Bale</td>\n      <td>The Dark Knight</td>\n      <td>1676169</td>\n      <td>4667.0</td>\n      <td>English</td>\n      <td>185.0</td>\n      <td>2008.0</td>\n      <td>9.0</td>\n      <td>37000</td>\n      <td>348.316061</td>\n    </tr>\n    <tr>\n      <th>419</th>\n      <td>Gary Ross</td>\n      <td>673.0</td>\n      <td>407.999255</td>\n      <td>Adventure|Drama|Sci-Fi|Thriller</td>\n      <td>Jennifer Lawrence</td>\n      <td>The Hunger Games</td>\n      <td>701607</td>\n      <td>1959.0</td>\n      <td>English</td>\n      <td>78.0</td>\n      <td>2012.0</td>\n      <td>7.3</td>\n      <td>140000</td>\n      <td>329.999255</td>\n    </tr>\n  </tbody>\n</table>\n</div>"
     },
     "metadata": {},
     "execution_count": 264
    }
   ],
   "source": [
    "top10 = movies[0:10] # Write your code to get the top 10 profiting movies here\n",
    "top10"
   ]
  },
  {
   "cell_type": "markdown",
   "metadata": {},
   "source": [
    "**Checkpoint:** You might spot two movies directed by `James Cameron` in the list."
   ]
  },
  {
   "cell_type": "markdown",
   "metadata": {},
   "source": [
    "#### <font color='red'>Question 6: Which movie is ranked 5th from the top in the list obtained? </font>\n",
    "-  <font color='red'>E.T. the Extra-Terrestrial</font>\n",
    "-  <font color='red'>The Avengers</font>\n",
    "-  <font color='red'>The Dark Knight</font>\n",
    "-  <font color='red'>Titanic</font>"
   ]
  },
  {
   "cell_type": "markdown",
   "metadata": {},
   "source": [
    "**Subtask 3.3: Find IMDb Top 250**\n",
    "\n",
    "Create a new dataframe `IMDb_Top_250` and store the top 250 movies with the highest IMDb Rating (corresponding to the column: `imdb_score`). Also make sure that for all of these movies, the `num_voted_users` is greater than 25,000. \n",
    "\n",
    "Also add a `Rank` column containing the values 1 to 250 indicating the ranks of the corresponding films."
   ]
  },
  {
   "cell_type": "code",
   "execution_count": 265,
   "metadata": {},
   "outputs": [
    {
     "output_type": "execute_result",
     "data": {
      "text/plain": [
       "(250, 15)"
      ]
     },
     "metadata": {},
     "execution_count": 265
    }
   ],
   "source": [
    "# Write your code for extracting the top 250 movies as per the IMDb score here. Make sure that you store it in a new dataframe \n",
    "# and name that dataframe as 'IMDb_Top_250'\n",
    "movies=movies.sort_values(by=['imdb_score'],ascending=False)\n",
    "IMDb_Top_250=movies.loc[movies.num_voted_users>25000]\n",
    "IMDb_Top_250=IMDb_Top_250.iloc[0:250]\n",
    "IMDb_Top_250['Rank']=range(1,len(IMDb_Top_250)+1)\n",
    "IMDb_Top_250.shape"
   ]
  },
  {
   "cell_type": "markdown",
   "metadata": {},
   "source": [
    "#### <font color='red'>Question 7: Suppose movies are divided into 5 buckets based on the IMDb ratings: </font>\n",
    "-  <font color='red'>7.5 to 8</font>\n",
    "-  <font color='red'>8 to 8.5</font>\n",
    "-  <font color='red'>8.5 to 9</font>\n",
    "-  <font color='red'>9 to 9.5</font>\n",
    "-  <font color='red'>9.5 to 10</font>\n",
    "\n",
    "<font color = 'red'> Which bucket holds the maximum number of movies from *IMDb_Top_250*? </font>"
   ]
  },
  {
   "cell_type": "code",
   "execution_count": 266,
   "metadata": {},
   "outputs": [
    {
     "output_type": "display_data",
     "data": {
      "text/plain": "<Figure size 432x288 with 1 Axes>",
      "image/svg+xml": "<?xml version=\"1.0\" encoding=\"utf-8\" standalone=\"no\"?>\r\n<!DOCTYPE svg PUBLIC \"-//W3C//DTD SVG 1.1//EN\"\r\n  \"http://www.w3.org/Graphics/SVG/1.1/DTD/svg11.dtd\">\r\n<!-- Created with matplotlib (https://matplotlib.org/) -->\r\n<svg height=\"248.518125pt\" version=\"1.1\" viewBox=\"0 0 375.2875 248.518125\" width=\"375.2875pt\" xmlns=\"http://www.w3.org/2000/svg\" xmlns:xlink=\"http://www.w3.org/1999/xlink\">\r\n <metadata>\r\n  <rdf:RDF xmlns:cc=\"http://creativecommons.org/ns#\" xmlns:dc=\"http://purl.org/dc/elements/1.1/\" xmlns:rdf=\"http://www.w3.org/1999/02/22-rdf-syntax-ns#\">\r\n   <cc:Work>\r\n    <dc:type rdf:resource=\"http://purl.org/dc/dcmitype/StillImage\"/>\r\n    <dc:date>2021-05-12T19:16:39.785906</dc:date>\r\n    <dc:format>image/svg+xml</dc:format>\r\n    <dc:creator>\r\n     <cc:Agent>\r\n      <dc:title>Matplotlib v3.3.4, https://matplotlib.org/</dc:title>\r\n     </cc:Agent>\r\n    </dc:creator>\r\n   </cc:Work>\r\n  </rdf:RDF>\r\n </metadata>\r\n <defs>\r\n  <style type=\"text/css\">*{stroke-linecap:butt;stroke-linejoin:round;}</style>\r\n </defs>\r\n <g id=\"figure_1\">\r\n  <g id=\"patch_1\">\r\n   <path d=\"M 0 248.518125 \r\nL 375.2875 248.518125 \r\nL 375.2875 0 \r\nL 0 0 \r\nz\r\n\" style=\"fill:none;\"/>\r\n  </g>\r\n  <g id=\"axes_1\">\r\n   <g id=\"patch_2\">\r\n    <path d=\"M 33.2875 224.64 \r\nL 368.0875 224.64 \r\nL 368.0875 7.2 \r\nL 33.2875 7.2 \r\nz\r\n\" style=\"fill:#ffffff;\"/>\r\n   </g>\r\n   <g id=\"patch_3\">\r\n    <path clip-path=\"url(#p6d06785307)\" d=\"M 48.505682 224.64 \r\nL 109.378409 224.64 \r\nL 109.378409 166.030836 \r\nL 48.505682 166.030836 \r\nz\r\n\" style=\"fill:#1f77b4;stroke:#00ffff;stroke-linejoin:miter;\"/>\r\n   </g>\r\n   <g id=\"patch_4\">\r\n    <path clip-path=\"url(#p6d06785307)\" d=\"M 109.378409 224.64 \r\nL 170.251136 224.64 \r\nL 170.251136 17.554286 \r\nL 109.378409 17.554286 \r\nz\r\n\" style=\"fill:#1f77b4;stroke:#00ffff;stroke-linejoin:miter;\"/>\r\n   </g>\r\n   <g id=\"patch_5\">\r\n    <path clip-path=\"url(#p6d06785307)\" d=\"M 170.251136 224.64 \r\nL 231.123864 224.64 \r\nL 231.123864 169.938113 \r\nL 170.251136 169.938113 \r\nz\r\n\" style=\"fill:#1f77b4;stroke:#00ffff;stroke-linejoin:miter;\"/>\r\n   </g>\r\n   <g id=\"patch_6\">\r\n    <path clip-path=\"url(#p6d06785307)\" d=\"M 231.123864 224.64 \r\nL 291.996591 224.64 \r\nL 291.996591 219.430296 \r\nL 231.123864 219.430296 \r\nz\r\n\" style=\"fill:#1f77b4;stroke:#00ffff;stroke-linejoin:miter;\"/>\r\n   </g>\r\n   <g id=\"patch_7\">\r\n    <path clip-path=\"url(#p6d06785307)\" d=\"M 291.996591 224.64 \r\nL 352.869318 224.64 \r\nL 352.869318 224.64 \r\nL 291.996591 224.64 \r\nz\r\n\" style=\"fill:#1f77b4;stroke:#00ffff;stroke-linejoin:miter;\"/>\r\n   </g>\r\n   <g id=\"matplotlib.axis_1\">\r\n    <g id=\"xtick_1\">\r\n     <g id=\"line2d_1\">\r\n      <defs>\r\n       <path d=\"M 0 0 \r\nL 0 3.5 \r\n\" id=\"mb3a59fcfc8\" style=\"stroke:#000000;stroke-width:0.8;\"/>\r\n      </defs>\r\n      <g>\r\n       <use style=\"stroke:#000000;stroke-width:0.8;\" x=\"48.505682\" xlink:href=\"#mb3a59fcfc8\" y=\"224.64\"/>\r\n      </g>\r\n     </g>\r\n     <g id=\"text_1\">\r\n      <!-- 7.5 -->\r\n      <g transform=\"translate(40.554119 239.238437)scale(0.1 -0.1)\">\r\n       <defs>\r\n        <path d=\"M 8.203125 72.90625 \r\nL 55.078125 72.90625 \r\nL 55.078125 68.703125 \r\nL 28.609375 0 \r\nL 18.3125 0 \r\nL 43.21875 64.59375 \r\nL 8.203125 64.59375 \r\nz\r\n\" id=\"DejaVuSans-55\"/>\r\n        <path d=\"M 10.6875 12.40625 \r\nL 21 12.40625 \r\nL 21 0 \r\nL 10.6875 0 \r\nz\r\n\" id=\"DejaVuSans-46\"/>\r\n        <path d=\"M 10.796875 72.90625 \r\nL 49.515625 72.90625 \r\nL 49.515625 64.59375 \r\nL 19.828125 64.59375 \r\nL 19.828125 46.734375 \r\nQ 21.96875 47.46875 24.109375 47.828125 \r\nQ 26.265625 48.1875 28.421875 48.1875 \r\nQ 40.625 48.1875 47.75 41.5 \r\nQ 54.890625 34.8125 54.890625 23.390625 \r\nQ 54.890625 11.625 47.5625 5.09375 \r\nQ 40.234375 -1.421875 26.90625 -1.421875 \r\nQ 22.3125 -1.421875 17.546875 -0.640625 \r\nQ 12.796875 0.140625 7.71875 1.703125 \r\nL 7.71875 11.625 \r\nQ 12.109375 9.234375 16.796875 8.0625 \r\nQ 21.484375 6.890625 26.703125 6.890625 \r\nQ 35.15625 6.890625 40.078125 11.328125 \r\nQ 45.015625 15.765625 45.015625 23.390625 \r\nQ 45.015625 31 40.078125 35.4375 \r\nQ 35.15625 39.890625 26.703125 39.890625 \r\nQ 22.75 39.890625 18.8125 39.015625 \r\nQ 14.890625 38.140625 10.796875 36.28125 \r\nz\r\n\" id=\"DejaVuSans-53\"/>\r\n       </defs>\r\n       <use xlink:href=\"#DejaVuSans-55\"/>\r\n       <use x=\"63.623047\" xlink:href=\"#DejaVuSans-46\"/>\r\n       <use x=\"95.410156\" xlink:href=\"#DejaVuSans-53\"/>\r\n      </g>\r\n     </g>\r\n    </g>\r\n    <g id=\"xtick_2\">\r\n     <g id=\"line2d_2\">\r\n      <g>\r\n       <use style=\"stroke:#000000;stroke-width:0.8;\" x=\"109.378409\" xlink:href=\"#mb3a59fcfc8\" y=\"224.64\"/>\r\n      </g>\r\n     </g>\r\n     <g id=\"text_2\">\r\n      <!-- 8.0 -->\r\n      <g transform=\"translate(101.426847 239.238437)scale(0.1 -0.1)\">\r\n       <defs>\r\n        <path d=\"M 31.78125 34.625 \r\nQ 24.75 34.625 20.71875 30.859375 \r\nQ 16.703125 27.09375 16.703125 20.515625 \r\nQ 16.703125 13.921875 20.71875 10.15625 \r\nQ 24.75 6.390625 31.78125 6.390625 \r\nQ 38.8125 6.390625 42.859375 10.171875 \r\nQ 46.921875 13.96875 46.921875 20.515625 \r\nQ 46.921875 27.09375 42.890625 30.859375 \r\nQ 38.875 34.625 31.78125 34.625 \r\nz\r\nM 21.921875 38.8125 \r\nQ 15.578125 40.375 12.03125 44.71875 \r\nQ 8.5 49.078125 8.5 55.328125 \r\nQ 8.5 64.0625 14.71875 69.140625 \r\nQ 20.953125 74.21875 31.78125 74.21875 \r\nQ 42.671875 74.21875 48.875 69.140625 \r\nQ 55.078125 64.0625 55.078125 55.328125 \r\nQ 55.078125 49.078125 51.53125 44.71875 \r\nQ 48 40.375 41.703125 38.8125 \r\nQ 48.828125 37.15625 52.796875 32.3125 \r\nQ 56.78125 27.484375 56.78125 20.515625 \r\nQ 56.78125 9.90625 50.3125 4.234375 \r\nQ 43.84375 -1.421875 31.78125 -1.421875 \r\nQ 19.734375 -1.421875 13.25 4.234375 \r\nQ 6.78125 9.90625 6.78125 20.515625 \r\nQ 6.78125 27.484375 10.78125 32.3125 \r\nQ 14.796875 37.15625 21.921875 38.8125 \r\nz\r\nM 18.3125 54.390625 \r\nQ 18.3125 48.734375 21.84375 45.5625 \r\nQ 25.390625 42.390625 31.78125 42.390625 \r\nQ 38.140625 42.390625 41.71875 45.5625 \r\nQ 45.3125 48.734375 45.3125 54.390625 \r\nQ 45.3125 60.0625 41.71875 63.234375 \r\nQ 38.140625 66.40625 31.78125 66.40625 \r\nQ 25.390625 66.40625 21.84375 63.234375 \r\nQ 18.3125 60.0625 18.3125 54.390625 \r\nz\r\n\" id=\"DejaVuSans-56\"/>\r\n        <path d=\"M 31.78125 66.40625 \r\nQ 24.171875 66.40625 20.328125 58.90625 \r\nQ 16.5 51.421875 16.5 36.375 \r\nQ 16.5 21.390625 20.328125 13.890625 \r\nQ 24.171875 6.390625 31.78125 6.390625 \r\nQ 39.453125 6.390625 43.28125 13.890625 \r\nQ 47.125 21.390625 47.125 36.375 \r\nQ 47.125 51.421875 43.28125 58.90625 \r\nQ 39.453125 66.40625 31.78125 66.40625 \r\nz\r\nM 31.78125 74.21875 \r\nQ 44.046875 74.21875 50.515625 64.515625 \r\nQ 56.984375 54.828125 56.984375 36.375 \r\nQ 56.984375 17.96875 50.515625 8.265625 \r\nQ 44.046875 -1.421875 31.78125 -1.421875 \r\nQ 19.53125 -1.421875 13.0625 8.265625 \r\nQ 6.59375 17.96875 6.59375 36.375 \r\nQ 6.59375 54.828125 13.0625 64.515625 \r\nQ 19.53125 74.21875 31.78125 74.21875 \r\nz\r\n\" id=\"DejaVuSans-48\"/>\r\n       </defs>\r\n       <use xlink:href=\"#DejaVuSans-56\"/>\r\n       <use x=\"63.623047\" xlink:href=\"#DejaVuSans-46\"/>\r\n       <use x=\"95.410156\" xlink:href=\"#DejaVuSans-48\"/>\r\n      </g>\r\n     </g>\r\n    </g>\r\n    <g id=\"xtick_3\">\r\n     <g id=\"line2d_3\">\r\n      <g>\r\n       <use style=\"stroke:#000000;stroke-width:0.8;\" x=\"170.251136\" xlink:href=\"#mb3a59fcfc8\" y=\"224.64\"/>\r\n      </g>\r\n     </g>\r\n     <g id=\"text_3\">\r\n      <!-- 8.5 -->\r\n      <g transform=\"translate(162.299574 239.238437)scale(0.1 -0.1)\">\r\n       <use xlink:href=\"#DejaVuSans-56\"/>\r\n       <use x=\"63.623047\" xlink:href=\"#DejaVuSans-46\"/>\r\n       <use x=\"95.410156\" xlink:href=\"#DejaVuSans-53\"/>\r\n      </g>\r\n     </g>\r\n    </g>\r\n    <g id=\"xtick_4\">\r\n     <g id=\"line2d_4\">\r\n      <g>\r\n       <use style=\"stroke:#000000;stroke-width:0.8;\" x=\"231.123864\" xlink:href=\"#mb3a59fcfc8\" y=\"224.64\"/>\r\n      </g>\r\n     </g>\r\n     <g id=\"text_4\">\r\n      <!-- 9.0 -->\r\n      <g transform=\"translate(223.172301 239.238437)scale(0.1 -0.1)\">\r\n       <defs>\r\n        <path d=\"M 10.984375 1.515625 \r\nL 10.984375 10.5 \r\nQ 14.703125 8.734375 18.5 7.8125 \r\nQ 22.3125 6.890625 25.984375 6.890625 \r\nQ 35.75 6.890625 40.890625 13.453125 \r\nQ 46.046875 20.015625 46.78125 33.40625 \r\nQ 43.953125 29.203125 39.59375 26.953125 \r\nQ 35.25 24.703125 29.984375 24.703125 \r\nQ 19.046875 24.703125 12.671875 31.3125 \r\nQ 6.296875 37.9375 6.296875 49.421875 \r\nQ 6.296875 60.640625 12.9375 67.421875 \r\nQ 19.578125 74.21875 30.609375 74.21875 \r\nQ 43.265625 74.21875 49.921875 64.515625 \r\nQ 56.59375 54.828125 56.59375 36.375 \r\nQ 56.59375 19.140625 48.40625 8.859375 \r\nQ 40.234375 -1.421875 26.421875 -1.421875 \r\nQ 22.703125 -1.421875 18.890625 -0.6875 \r\nQ 15.09375 0.046875 10.984375 1.515625 \r\nz\r\nM 30.609375 32.421875 \r\nQ 37.25 32.421875 41.125 36.953125 \r\nQ 45.015625 41.5 45.015625 49.421875 \r\nQ 45.015625 57.28125 41.125 61.84375 \r\nQ 37.25 66.40625 30.609375 66.40625 \r\nQ 23.96875 66.40625 20.09375 61.84375 \r\nQ 16.21875 57.28125 16.21875 49.421875 \r\nQ 16.21875 41.5 20.09375 36.953125 \r\nQ 23.96875 32.421875 30.609375 32.421875 \r\nz\r\n\" id=\"DejaVuSans-57\"/>\r\n       </defs>\r\n       <use xlink:href=\"#DejaVuSans-57\"/>\r\n       <use x=\"63.623047\" xlink:href=\"#DejaVuSans-46\"/>\r\n       <use x=\"95.410156\" xlink:href=\"#DejaVuSans-48\"/>\r\n      </g>\r\n     </g>\r\n    </g>\r\n    <g id=\"xtick_5\">\r\n     <g id=\"line2d_5\">\r\n      <g>\r\n       <use style=\"stroke:#000000;stroke-width:0.8;\" x=\"291.996591\" xlink:href=\"#mb3a59fcfc8\" y=\"224.64\"/>\r\n      </g>\r\n     </g>\r\n     <g id=\"text_5\">\r\n      <!-- 9.5 -->\r\n      <g transform=\"translate(284.045028 239.238437)scale(0.1 -0.1)\">\r\n       <use xlink:href=\"#DejaVuSans-57\"/>\r\n       <use x=\"63.623047\" xlink:href=\"#DejaVuSans-46\"/>\r\n       <use x=\"95.410156\" xlink:href=\"#DejaVuSans-53\"/>\r\n      </g>\r\n     </g>\r\n    </g>\r\n    <g id=\"xtick_6\">\r\n     <g id=\"line2d_6\">\r\n      <g>\r\n       <use style=\"stroke:#000000;stroke-width:0.8;\" x=\"352.869318\" xlink:href=\"#mb3a59fcfc8\" y=\"224.64\"/>\r\n      </g>\r\n     </g>\r\n     <g id=\"text_6\">\r\n      <!-- 10.0 -->\r\n      <g transform=\"translate(341.736506 239.238437)scale(0.1 -0.1)\">\r\n       <defs>\r\n        <path d=\"M 12.40625 8.296875 \r\nL 28.515625 8.296875 \r\nL 28.515625 63.921875 \r\nL 10.984375 60.40625 \r\nL 10.984375 69.390625 \r\nL 28.421875 72.90625 \r\nL 38.28125 72.90625 \r\nL 38.28125 8.296875 \r\nL 54.390625 8.296875 \r\nL 54.390625 0 \r\nL 12.40625 0 \r\nz\r\n\" id=\"DejaVuSans-49\"/>\r\n       </defs>\r\n       <use xlink:href=\"#DejaVuSans-49\"/>\r\n       <use x=\"63.623047\" xlink:href=\"#DejaVuSans-48\"/>\r\n       <use x=\"127.246094\" xlink:href=\"#DejaVuSans-46\"/>\r\n       <use x=\"159.033203\" xlink:href=\"#DejaVuSans-48\"/>\r\n      </g>\r\n     </g>\r\n    </g>\r\n   </g>\r\n   <g id=\"matplotlib.axis_2\">\r\n    <g id=\"ytick_1\">\r\n     <g id=\"line2d_7\">\r\n      <defs>\r\n       <path d=\"M 0 0 \r\nL -3.5 0 \r\n\" id=\"m856c1ca1b3\" style=\"stroke:#000000;stroke-width:0.8;\"/>\r\n      </defs>\r\n      <g>\r\n       <use style=\"stroke:#000000;stroke-width:0.8;\" x=\"33.2875\" xlink:href=\"#m856c1ca1b3\" y=\"224.64\"/>\r\n      </g>\r\n     </g>\r\n     <g id=\"text_7\">\r\n      <!-- 0 -->\r\n      <g transform=\"translate(19.925 228.439219)scale(0.1 -0.1)\">\r\n       <use xlink:href=\"#DejaVuSans-48\"/>\r\n      </g>\r\n     </g>\r\n    </g>\r\n    <g id=\"ytick_2\">\r\n     <g id=\"line2d_8\">\r\n      <g>\r\n       <use style=\"stroke:#000000;stroke-width:0.8;\" x=\"33.2875\" xlink:href=\"#m856c1ca1b3\" y=\"198.591482\"/>\r\n      </g>\r\n     </g>\r\n     <g id=\"text_8\">\r\n      <!-- 20 -->\r\n      <g transform=\"translate(13.5625 202.390701)scale(0.1 -0.1)\">\r\n       <defs>\r\n        <path d=\"M 19.1875 8.296875 \r\nL 53.609375 8.296875 \r\nL 53.609375 0 \r\nL 7.328125 0 \r\nL 7.328125 8.296875 \r\nQ 12.9375 14.109375 22.625 23.890625 \r\nQ 32.328125 33.6875 34.8125 36.53125 \r\nQ 39.546875 41.84375 41.421875 45.53125 \r\nQ 43.3125 49.21875 43.3125 52.78125 \r\nQ 43.3125 58.59375 39.234375 62.25 \r\nQ 35.15625 65.921875 28.609375 65.921875 \r\nQ 23.96875 65.921875 18.8125 64.3125 \r\nQ 13.671875 62.703125 7.8125 59.421875 \r\nL 7.8125 69.390625 \r\nQ 13.765625 71.78125 18.9375 73 \r\nQ 24.125 74.21875 28.421875 74.21875 \r\nQ 39.75 74.21875 46.484375 68.546875 \r\nQ 53.21875 62.890625 53.21875 53.421875 \r\nQ 53.21875 48.921875 51.53125 44.890625 \r\nQ 49.859375 40.875 45.40625 35.40625 \r\nQ 44.1875 33.984375 37.640625 27.21875 \r\nQ 31.109375 20.453125 19.1875 8.296875 \r\nz\r\n\" id=\"DejaVuSans-50\"/>\r\n       </defs>\r\n       <use xlink:href=\"#DejaVuSans-50\"/>\r\n       <use x=\"63.623047\" xlink:href=\"#DejaVuSans-48\"/>\r\n      </g>\r\n     </g>\r\n    </g>\r\n    <g id=\"ytick_3\">\r\n     <g id=\"line2d_9\">\r\n      <g>\r\n       <use style=\"stroke:#000000;stroke-width:0.8;\" x=\"33.2875\" xlink:href=\"#m856c1ca1b3\" y=\"172.542965\"/>\r\n      </g>\r\n     </g>\r\n     <g id=\"text_9\">\r\n      <!-- 40 -->\r\n      <g transform=\"translate(13.5625 176.342184)scale(0.1 -0.1)\">\r\n       <defs>\r\n        <path d=\"M 37.796875 64.3125 \r\nL 12.890625 25.390625 \r\nL 37.796875 25.390625 \r\nz\r\nM 35.203125 72.90625 \r\nL 47.609375 72.90625 \r\nL 47.609375 25.390625 \r\nL 58.015625 25.390625 \r\nL 58.015625 17.1875 \r\nL 47.609375 17.1875 \r\nL 47.609375 0 \r\nL 37.796875 0 \r\nL 37.796875 17.1875 \r\nL 4.890625 17.1875 \r\nL 4.890625 26.703125 \r\nz\r\n\" id=\"DejaVuSans-52\"/>\r\n       </defs>\r\n       <use xlink:href=\"#DejaVuSans-52\"/>\r\n       <use x=\"63.623047\" xlink:href=\"#DejaVuSans-48\"/>\r\n      </g>\r\n     </g>\r\n    </g>\r\n    <g id=\"ytick_4\">\r\n     <g id=\"line2d_10\">\r\n      <g>\r\n       <use style=\"stroke:#000000;stroke-width:0.8;\" x=\"33.2875\" xlink:href=\"#m856c1ca1b3\" y=\"146.494447\"/>\r\n      </g>\r\n     </g>\r\n     <g id=\"text_10\">\r\n      <!-- 60 -->\r\n      <g transform=\"translate(13.5625 150.293666)scale(0.1 -0.1)\">\r\n       <defs>\r\n        <path d=\"M 33.015625 40.375 \r\nQ 26.375 40.375 22.484375 35.828125 \r\nQ 18.609375 31.296875 18.609375 23.390625 \r\nQ 18.609375 15.53125 22.484375 10.953125 \r\nQ 26.375 6.390625 33.015625 6.390625 \r\nQ 39.65625 6.390625 43.53125 10.953125 \r\nQ 47.40625 15.53125 47.40625 23.390625 \r\nQ 47.40625 31.296875 43.53125 35.828125 \r\nQ 39.65625 40.375 33.015625 40.375 \r\nz\r\nM 52.59375 71.296875 \r\nL 52.59375 62.3125 \r\nQ 48.875 64.0625 45.09375 64.984375 \r\nQ 41.3125 65.921875 37.59375 65.921875 \r\nQ 27.828125 65.921875 22.671875 59.328125 \r\nQ 17.53125 52.734375 16.796875 39.40625 \r\nQ 19.671875 43.65625 24.015625 45.921875 \r\nQ 28.375 48.1875 33.59375 48.1875 \r\nQ 44.578125 48.1875 50.953125 41.515625 \r\nQ 57.328125 34.859375 57.328125 23.390625 \r\nQ 57.328125 12.15625 50.6875 5.359375 \r\nQ 44.046875 -1.421875 33.015625 -1.421875 \r\nQ 20.359375 -1.421875 13.671875 8.265625 \r\nQ 6.984375 17.96875 6.984375 36.375 \r\nQ 6.984375 53.65625 15.1875 63.9375 \r\nQ 23.390625 74.21875 37.203125 74.21875 \r\nQ 40.921875 74.21875 44.703125 73.484375 \r\nQ 48.484375 72.75 52.59375 71.296875 \r\nz\r\n\" id=\"DejaVuSans-54\"/>\r\n       </defs>\r\n       <use xlink:href=\"#DejaVuSans-54\"/>\r\n       <use x=\"63.623047\" xlink:href=\"#DejaVuSans-48\"/>\r\n      </g>\r\n     </g>\r\n    </g>\r\n    <g id=\"ytick_5\">\r\n     <g id=\"line2d_11\">\r\n      <g>\r\n       <use style=\"stroke:#000000;stroke-width:0.8;\" x=\"33.2875\" xlink:href=\"#m856c1ca1b3\" y=\"120.44593\"/>\r\n      </g>\r\n     </g>\r\n     <g id=\"text_11\">\r\n      <!-- 80 -->\r\n      <g transform=\"translate(13.5625 124.245149)scale(0.1 -0.1)\">\r\n       <use xlink:href=\"#DejaVuSans-56\"/>\r\n       <use x=\"63.623047\" xlink:href=\"#DejaVuSans-48\"/>\r\n      </g>\r\n     </g>\r\n    </g>\r\n    <g id=\"ytick_6\">\r\n     <g id=\"line2d_12\">\r\n      <g>\r\n       <use style=\"stroke:#000000;stroke-width:0.8;\" x=\"33.2875\" xlink:href=\"#m856c1ca1b3\" y=\"94.397412\"/>\r\n      </g>\r\n     </g>\r\n     <g id=\"text_12\">\r\n      <!-- 100 -->\r\n      <g transform=\"translate(7.2 98.196631)scale(0.1 -0.1)\">\r\n       <use xlink:href=\"#DejaVuSans-49\"/>\r\n       <use x=\"63.623047\" xlink:href=\"#DejaVuSans-48\"/>\r\n       <use x=\"127.246094\" xlink:href=\"#DejaVuSans-48\"/>\r\n      </g>\r\n     </g>\r\n    </g>\r\n    <g id=\"ytick_7\">\r\n     <g id=\"line2d_13\">\r\n      <g>\r\n       <use style=\"stroke:#000000;stroke-width:0.8;\" x=\"33.2875\" xlink:href=\"#m856c1ca1b3\" y=\"68.348895\"/>\r\n      </g>\r\n     </g>\r\n     <g id=\"text_13\">\r\n      <!-- 120 -->\r\n      <g transform=\"translate(7.2 72.148114)scale(0.1 -0.1)\">\r\n       <use xlink:href=\"#DejaVuSans-49\"/>\r\n       <use x=\"63.623047\" xlink:href=\"#DejaVuSans-50\"/>\r\n       <use x=\"127.246094\" xlink:href=\"#DejaVuSans-48\"/>\r\n      </g>\r\n     </g>\r\n    </g>\r\n    <g id=\"ytick_8\">\r\n     <g id=\"line2d_14\">\r\n      <g>\r\n       <use style=\"stroke:#000000;stroke-width:0.8;\" x=\"33.2875\" xlink:href=\"#m856c1ca1b3\" y=\"42.300377\"/>\r\n      </g>\r\n     </g>\r\n     <g id=\"text_14\">\r\n      <!-- 140 -->\r\n      <g transform=\"translate(7.2 46.099596)scale(0.1 -0.1)\">\r\n       <use xlink:href=\"#DejaVuSans-49\"/>\r\n       <use x=\"63.623047\" xlink:href=\"#DejaVuSans-52\"/>\r\n       <use x=\"127.246094\" xlink:href=\"#DejaVuSans-48\"/>\r\n      </g>\r\n     </g>\r\n    </g>\r\n    <g id=\"ytick_9\">\r\n     <g id=\"line2d_15\">\r\n      <g>\r\n       <use style=\"stroke:#000000;stroke-width:0.8;\" x=\"33.2875\" xlink:href=\"#m856c1ca1b3\" y=\"16.25186\"/>\r\n      </g>\r\n     </g>\r\n     <g id=\"text_15\">\r\n      <!-- 160 -->\r\n      <g transform=\"translate(7.2 20.051079)scale(0.1 -0.1)\">\r\n       <use xlink:href=\"#DejaVuSans-49\"/>\r\n       <use x=\"63.623047\" xlink:href=\"#DejaVuSans-54\"/>\r\n       <use x=\"127.246094\" xlink:href=\"#DejaVuSans-48\"/>\r\n      </g>\r\n     </g>\r\n    </g>\r\n   </g>\r\n   <g id=\"patch_8\">\r\n    <path d=\"M 33.2875 224.64 \r\nL 33.2875 7.2 \r\n\" style=\"fill:none;stroke:#000000;stroke-linecap:square;stroke-linejoin:miter;stroke-width:0.8;\"/>\r\n   </g>\r\n   <g id=\"patch_9\">\r\n    <path d=\"M 368.0875 224.64 \r\nL 368.0875 7.2 \r\n\" style=\"fill:none;stroke:#000000;stroke-linecap:square;stroke-linejoin:miter;stroke-width:0.8;\"/>\r\n   </g>\r\n   <g id=\"patch_10\">\r\n    <path d=\"M 33.2875 224.64 \r\nL 368.0875 224.64 \r\n\" style=\"fill:none;stroke:#000000;stroke-linecap:square;stroke-linejoin:miter;stroke-width:0.8;\"/>\r\n   </g>\r\n   <g id=\"patch_11\">\r\n    <path d=\"M 33.2875 7.2 \r\nL 368.0875 7.2 \r\n\" style=\"fill:none;stroke:#000000;stroke-linecap:square;stroke-linejoin:miter;stroke-width:0.8;\"/>\r\n   </g>\r\n  </g>\r\n </g>\r\n <defs>\r\n  <clipPath id=\"p6d06785307\">\r\n   <rect height=\"217.44\" width=\"334.8\" x=\"33.2875\" y=\"7.2\"/>\r\n  </clipPath>\r\n </defs>\r\n</svg>\r\n",
      "image/png": "[encoded data removed]"
     },
     "metadata": {
      "needs_background": "light"
     }
    }
   ],
   "source": [
    "import matplotlib.pyplot as plt \n",
    "plt.hist(IMDb_Top_250['imdb_score'],bins=5,range=(7.5,10),edgecolor='cyan')\n",
    "plt.show()\n"
   ]
  },
  {
   "cell_type": "markdown",
   "metadata": {},
   "source": [
    "**Subtask 3.4: Find the critic-favorite and audience-favorite actors**\n",
    "\n",
    "   1. Create three new dataframes namely, `Meryl_Streep`, `Leo_Caprio`, and `Brad_Pitt` which contain the movies in which the actors: 'Meryl Streep', 'Leonardo DiCaprio', and 'Brad Pitt' are the lead actors. Use only the `actor_1_name` column for extraction. Also, make sure that you use the names 'Meryl Streep', 'Leonardo DiCaprio', and 'Brad Pitt' for the said extraction.\n",
    "   2. Append the rows of all these dataframes and store them in a new dataframe named `Combined`.\n",
    "   3. Group the combined dataframe using the `actor_1_name` column.\n",
    "   4. Find the mean of the `num_critic_for_reviews` and `num_user_for_review` and identify the actors which have the highest mean."
   ]
  },
  {
   "cell_type": "code",
   "execution_count": 267,
   "metadata": {},
   "outputs": [],
   "source": [
    "# Write your code for creating three new dataframes here\n",
    "Meryl_Streep = movies.loc[movies.actor_1_name=='Meryl Streep'] # Include all movies in which Meryl_Streep is the lead"
   ]
  },
  {
   "cell_type": "code",
   "execution_count": 268,
   "metadata": {},
   "outputs": [],
   "source": [
    "Leo_Caprio = movies.loc[movies.actor_1_name=='Leonardo DiCaprio'] # Include all movies in which Leo_Caprio is the lead"
   ]
  },
  {
   "cell_type": "code",
   "execution_count": 269,
   "metadata": {},
   "outputs": [],
   "source": [
    "Brad_Pitt = movies.loc[movies.actor_1_name=='Brad Pitt'] # Include all movies in which Brad_Pitt is the lead"
   ]
  },
  {
   "cell_type": "code",
   "execution_count": 270,
   "metadata": {},
   "outputs": [],
   "source": [
    "# Write your code for combining the three dataframes here\n",
    "Combined = pd.concat([Meryl_Streep,Leo_Caprio,Brad_Pitt])"
   ]
  },
  {
   "cell_type": "code",
   "execution_count": 281,
   "metadata": {},
   "outputs": [
    {
     "output_type": "execute_result",
     "data": {
      "text/plain": [
       "              director_name  num_critic_for_reviews       gross  \\\n",
       "1784         Stephen Daldry                   174.0   41.597830   \n",
       "1471         Sydney Pollack                    66.0   87.100000   \n",
       "1563          Carl Franklin                    64.0   23.209440   \n",
       "1132            Nora Ephron                   252.0   94.125426   \n",
       "1322          David Frankel                   208.0  124.732962   \n",
       "94        Christopher Nolan                   642.0  292.568851   \n",
       "283       Quentin Tarantino                   765.0  162.804648   \n",
       "347         Martin Scorsese                   352.0  132.373442   \n",
       "294         Martin Scorsese                   606.0  116.866727   \n",
       "173   Alejandro G. Iñárritu                   556.0  183.635922   \n",
       "646           David Fincher                   315.0   37.023395   \n",
       "2602             Tony Scott                   122.0   12.281500   \n",
       "97            David Fincher                   362.0  127.490802   \n",
       "383       Steven Soderbergh                   186.0  183.405771   \n",
       "887             Neil Jordan                   120.0  105.264608   \n",
       "\n",
       "                                   genres       actor_1_name  \\\n",
       "1784                        Drama|Romance       Meryl Streep   \n",
       "1471              Biography|Drama|Romance       Meryl Streep   \n",
       "1563                                Drama       Meryl Streep   \n",
       "1132              Biography|Drama|Romance       Meryl Streep   \n",
       "1322                 Comedy|Drama|Romance       Meryl Streep   \n",
       "94       Action|Adventure|Sci-Fi|Thriller  Leonardo DiCaprio   \n",
       "283                         Drama|Western  Leonardo DiCaprio   \n",
       "347                  Crime|Drama|Thriller  Leonardo DiCaprio   \n",
       "294          Biography|Comedy|Crime|Drama  Leonardo DiCaprio   \n",
       "173      Adventure|Drama|Thriller|Western  Leonardo DiCaprio   \n",
       "646                                 Drama          Brad Pitt   \n",
       "2602  Action|Crime|Drama|Romance|Thriller          Brad Pitt   \n",
       "97                  Drama|Fantasy|Romance          Brad Pitt   \n",
       "383                        Crime|Thriller          Brad Pitt   \n",
       "887                  Drama|Fantasy|Horror          Brad Pitt   \n",
       "\n",
       "                                            movie_title  num_voted_users  \\\n",
       "1784                                         The Hours            102123   \n",
       "1471                                     Out of Africa             52339   \n",
       "1563                                    One True Thing              9283   \n",
       "1132                                     Julie & Julia             79264   \n",
       "1322                             The Devil Wears Prada            286178   \n",
       "94                                           Inception           1468200   \n",
       "283                                   Django Unchained            955174   \n",
       "347                                       The Departed            873649   \n",
       "294                            The Wolf of Wall Street            780588   \n",
       "173                                       The Revenant            406020   \n",
       "646                                         Fight Club           1347461   \n",
       "2602                                      True Romance            163492   \n",
       "97                 The Curious Case of Benjamin Button            459346   \n",
       "383                                     Ocean's Eleven            402645   \n",
       "887   Interview with the Vampire: The Vampire Chroni...           239752   \n",
       "\n",
       "      num_user_for_reviews language  budget  title_year  imdb_score  \\\n",
       "1784                 660.0  English    25.0      2002.0         7.6   \n",
       "1471                 200.0  English    31.0      1985.0         7.2   \n",
       "1563                 112.0  English    30.0      1998.0         7.0   \n",
       "1132                 277.0  English    40.0      2009.0         7.0   \n",
       "1322                 631.0  English    35.0      2006.0         6.8   \n",
       "94                  2803.0  English   160.0      2010.0         8.8   \n",
       "283                 1193.0  English   100.0      2012.0         8.5   \n",
       "347                 2054.0  English    90.0      2006.0         8.5   \n",
       "294                 1138.0  English   100.0      2013.0         8.2   \n",
       "173                 1188.0  English   135.0      2015.0         8.1   \n",
       "646                 2968.0  English    63.0      1999.0         8.8   \n",
       "2602                 460.0  English    13.0      1993.0         8.0   \n",
       "97                   822.0  English   150.0      2008.0         7.8   \n",
       "383                  845.0  English    85.0      2001.0         7.8   \n",
       "887                  406.0  English    60.0      1994.0         7.6   \n",
       "\n",
       "      movie_facebook_likes      Profit  \n",
       "1784                     0   16.597830  \n",
       "1471                     0   56.100000  \n",
       "1563                   592   -6.790560  \n",
       "1132                 13000   54.125426  \n",
       "1322                     0   89.732962  \n",
       "94                  175000  132.568851  \n",
       "283                 199000   62.804648  \n",
       "347                  29000   42.373442  \n",
       "294                 138000   16.866727  \n",
       "173                 190000   48.635922  \n",
       "646                  48000  -25.976605  \n",
       "2602                 15000   -0.718500  \n",
       "97                   23000  -22.509198  \n",
       "383                      0   98.405771  \n",
       "887                  11000   45.264608  "
      ],
      "text/html": "<div>\n<style scoped>\n    .dataframe tbody tr th:only-of-type {\n        vertical-align: middle;\n    }\n\n    .dataframe tbody tr th {\n        vertical-align: top;\n    }\n\n    .dataframe thead th {\n        text-align: right;\n    }\n</style>\n<table border=\"1\" class=\"dataframe\">\n  <thead>\n    <tr style=\"text-align: right;\">\n      <th></th>\n      <th>director_name</th>\n      <th>num_critic_for_reviews</th>\n      <th>gross</th>\n      <th>genres</th>\n      <th>actor_1_name</th>\n      <th>movie_title</th>\n      <th>num_voted_users</th>\n      <th>num_user_for_reviews</th>\n      <th>language</th>\n      <th>budget</th>\n      <th>title_year</th>\n      <th>imdb_score</th>\n      <th>movie_facebook_likes</th>\n      <th>Profit</th>\n    </tr>\n  </thead>\n  <tbody>\n    <tr>\n      <th>1784</th>\n      <td>Stephen Daldry</td>\n      <td>174.0</td>\n      <td>41.597830</td>\n      <td>Drama|Romance</td>\n      <td>Meryl Streep</td>\n      <td>The Hours</td>\n      <td>102123</td>\n      <td>660.0</td>\n      <td>English</td>\n      <td>25.0</td>\n      <td>2002.0</td>\n      <td>7.6</td>\n      <td>0</td>\n      <td>16.597830</td>\n    </tr>\n    <tr>\n      <th>1471</th>\n      <td>Sydney Pollack</td>\n      <td>66.0</td>\n      <td>87.100000</td>\n      <td>Biography|Drama|Romance</td>\n      <td>Meryl Streep</td>\n      <td>Out of Africa</td>\n      <td>52339</td>\n      <td>200.0</td>\n      <td>English</td>\n      <td>31.0</td>\n      <td>1985.0</td>\n      <td>7.2</td>\n      <td>0</td>\n      <td>56.100000</td>\n    </tr>\n    <tr>\n      <th>1563</th>\n      <td>Carl Franklin</td>\n      <td>64.0</td>\n      <td>23.209440</td>\n      <td>Drama</td>\n      <td>Meryl Streep</td>\n      <td>One True Thing</td>\n      <td>9283</td>\n      <td>112.0</td>\n      <td>English</td>\n      <td>30.0</td>\n      <td>1998.0</td>\n      <td>7.0</td>\n      <td>592</td>\n      <td>-6.790560</td>\n    </tr>\n    <tr>\n      <th>1132</th>\n      <td>Nora Ephron</td>\n      <td>252.0</td>\n      <td>94.125426</td>\n      <td>Biography|Drama|Romance</td>\n      <td>Meryl Streep</td>\n      <td>Julie &amp; Julia</td>\n      <td>79264</td>\n      <td>277.0</td>\n      <td>English</td>\n      <td>40.0</td>\n      <td>2009.0</td>\n      <td>7.0</td>\n      <td>13000</td>\n      <td>54.125426</td>\n    </tr>\n    <tr>\n      <th>1322</th>\n      <td>David Frankel</td>\n      <td>208.0</td>\n      <td>124.732962</td>\n      <td>Comedy|Drama|Romance</td>\n      <td>Meryl Streep</td>\n      <td>The Devil Wears Prada</td>\n      <td>286178</td>\n      <td>631.0</td>\n      <td>English</td>\n      <td>35.0</td>\n      <td>2006.0</td>\n      <td>6.8</td>\n      <td>0</td>\n      <td>89.732962</td>\n    </tr>\n    <tr>\n      <th>94</th>\n      <td>Christopher Nolan</td>\n      <td>642.0</td>\n      <td>292.568851</td>\n      <td>Action|Adventure|Sci-Fi|Thriller</td>\n      <td>Leonardo DiCaprio</td>\n      <td>Inception</td>\n      <td>1468200</td>\n      <td>2803.0</td>\n      <td>English</td>\n      <td>160.0</td>\n      <td>2010.0</td>\n      <td>8.8</td>\n      <td>175000</td>\n      <td>132.568851</td>\n    </tr>\n    <tr>\n      <th>283</th>\n      <td>Quentin Tarantino</td>\n      <td>765.0</td>\n      <td>162.804648</td>\n      <td>Drama|Western</td>\n      <td>Leonardo DiCaprio</td>\n      <td>Django Unchained</td>\n      <td>955174</td>\n      <td>1193.0</td>\n      <td>English</td>\n      <td>100.0</td>\n      <td>2012.0</td>\n      <td>8.5</td>\n      <td>199000</td>\n      <td>62.804648</td>\n    </tr>\n    <tr>\n      <th>347</th>\n      <td>Martin Scorsese</td>\n      <td>352.0</td>\n      <td>132.373442</td>\n      <td>Crime|Drama|Thriller</td>\n      <td>Leonardo DiCaprio</td>\n      <td>The Departed</td>\n      <td>873649</td>\n      <td>2054.0</td>\n      <td>English</td>\n      <td>90.0</td>\n      <td>2006.0</td>\n      <td>8.5</td>\n      <td>29000</td>\n      <td>42.373442</td>\n    </tr>\n    <tr>\n      <th>294</th>\n      <td>Martin Scorsese</td>\n      <td>606.0</td>\n      <td>116.866727</td>\n      <td>Biography|Comedy|Crime|Drama</td>\n      <td>Leonardo DiCaprio</td>\n      <td>The Wolf of Wall Street</td>\n      <td>780588</td>\n      <td>1138.0</td>\n      <td>English</td>\n      <td>100.0</td>\n      <td>2013.0</td>\n      <td>8.2</td>\n      <td>138000</td>\n      <td>16.866727</td>\n    </tr>\n    <tr>\n      <th>173</th>\n      <td>Alejandro G. Iñárritu</td>\n      <td>556.0</td>\n      <td>183.635922</td>\n      <td>Adventure|Drama|Thriller|Western</td>\n      <td>Leonardo DiCaprio</td>\n      <td>The Revenant</td>\n      <td>406020</td>\n      <td>1188.0</td>\n      <td>English</td>\n      <td>135.0</td>\n      <td>2015.0</td>\n      <td>8.1</td>\n      <td>190000</td>\n      <td>48.635922</td>\n    </tr>\n    <tr>\n      <th>646</th>\n      <td>David Fincher</td>\n      <td>315.0</td>\n      <td>37.023395</td>\n      <td>Drama</td>\n      <td>Brad Pitt</td>\n      <td>Fight Club</td>\n      <td>1347461</td>\n      <td>2968.0</td>\n      <td>English</td>\n      <td>63.0</td>\n      <td>1999.0</td>\n      <td>8.8</td>\n      <td>48000</td>\n      <td>-25.976605</td>\n    </tr>\n    <tr>\n      <th>2602</th>\n      <td>Tony Scott</td>\n      <td>122.0</td>\n      <td>12.281500</td>\n      <td>Action|Crime|Drama|Romance|Thriller</td>\n      <td>Brad Pitt</td>\n      <td>True Romance</td>\n      <td>163492</td>\n      <td>460.0</td>\n      <td>English</td>\n      <td>13.0</td>\n      <td>1993.0</td>\n      <td>8.0</td>\n      <td>15000</td>\n      <td>-0.718500</td>\n    </tr>\n    <tr>\n      <th>97</th>\n      <td>David Fincher</td>\n      <td>362.0</td>\n      <td>127.490802</td>\n      <td>Drama|Fantasy|Romance</td>\n      <td>Brad Pitt</td>\n      <td>The Curious Case of Benjamin Button</td>\n      <td>459346</td>\n      <td>822.0</td>\n      <td>English</td>\n      <td>150.0</td>\n      <td>2008.0</td>\n      <td>7.8</td>\n      <td>23000</td>\n      <td>-22.509198</td>\n    </tr>\n    <tr>\n      <th>383</th>\n      <td>Steven Soderbergh</td>\n      <td>186.0</td>\n      <td>183.405771</td>\n      <td>Crime|Thriller</td>\n      <td>Brad Pitt</td>\n      <td>Ocean's Eleven</td>\n      <td>402645</td>\n      <td>845.0</td>\n      <td>English</td>\n      <td>85.0</td>\n      <td>2001.0</td>\n      <td>7.8</td>\n      <td>0</td>\n      <td>98.405771</td>\n    </tr>\n    <tr>\n      <th>887</th>\n      <td>Neil Jordan</td>\n      <td>120.0</td>\n      <td>105.264608</td>\n      <td>Drama|Fantasy|Horror</td>\n      <td>Brad Pitt</td>\n      <td>Interview with the Vampire: The Vampire Chroni...</td>\n      <td>239752</td>\n      <td>406.0</td>\n      <td>English</td>\n      <td>60.0</td>\n      <td>1994.0</td>\n      <td>7.6</td>\n      <td>11000</td>\n      <td>45.264608</td>\n    </tr>\n  </tbody>\n</table>\n</div>"
     },
     "metadata": {},
     "execution_count": 281
    }
   ],
   "source": [
    "# Write your code for grouping the combined dataframe here\n",
    "Combined_by_segment=Combined.groupby('actor_1_name')"
   ]
  },
  {
   "cell_type": "code",
   "execution_count": 282,
   "metadata": {},
   "outputs": [
    {
     "output_type": "execute_result",
     "data": {
      "text/plain": [
       "                   num_critic_for_reviews       gross  num_voted_users  \\\n",
       "actor_1_name                                                             \n",
       "Brad Pitt                      245.000000   66.321449    283583.823529   \n",
       "Leonardo DiCaprio              330.190476  125.741989    441958.857143   \n",
       "Meryl Streep                   181.454545   59.919727     73545.545455   \n",
       "\n",
       "                   num_user_for_reviews     budget   title_year  imdb_score  \\\n",
       "actor_1_name                                                                  \n",
       "Brad Pitt                    742.352941  69.294118  2004.352941    7.152941   \n",
       "Leonardo DiCaprio            914.476190  82.452381  2005.476190    7.495238   \n",
       "Meryl Streep                 297.181818  34.454545  2003.545455    6.745455   \n",
       "\n",
       "                   movie_facebook_likes     Profit  \n",
       "actor_1_name                                        \n",
       "Brad Pitt                  14051.764706  -2.972669  \n",
       "Leonardo DiCaprio          52190.476190  43.289608  \n",
       "Meryl Streep                2934.090909  25.465182  "
      ],
      "text/html": "<div>\n<style scoped>\n    .dataframe tbody tr th:only-of-type {\n        vertical-align: middle;\n    }\n\n    .dataframe tbody tr th {\n        vertical-align: top;\n    }\n\n    .dataframe thead th {\n        text-align: right;\n    }\n</style>\n<table border=\"1\" class=\"dataframe\">\n  <thead>\n    <tr style=\"text-align: right;\">\n      <th></th>\n      <th>num_critic_for_reviews</th>\n      <th>gross</th>\n      <th>num_voted_users</th>\n      <th>num_user_for_reviews</th>\n      <th>budget</th>\n      <th>title_year</th>\n      <th>imdb_score</th>\n      <th>movie_facebook_likes</th>\n      <th>Profit</th>\n    </tr>\n    <tr>\n      <th>actor_1_name</th>\n      <th></th>\n      <th></th>\n      <th></th>\n      <th></th>\n      <th></th>\n      <th></th>\n      <th></th>\n      <th></th>\n      <th></th>\n    </tr>\n  </thead>\n  <tbody>\n    <tr>\n      <th>Brad Pitt</th>\n      <td>245.000000</td>\n      <td>66.321449</td>\n      <td>283583.823529</td>\n      <td>742.352941</td>\n      <td>69.294118</td>\n      <td>2004.352941</td>\n      <td>7.152941</td>\n      <td>14051.764706</td>\n      <td>-2.972669</td>\n    </tr>\n    <tr>\n      <th>Leonardo DiCaprio</th>\n      <td>330.190476</td>\n      <td>125.741989</td>\n      <td>441958.857143</td>\n      <td>914.476190</td>\n      <td>82.452381</td>\n      <td>2005.476190</td>\n      <td>7.495238</td>\n      <td>52190.476190</td>\n      <td>43.289608</td>\n    </tr>\n    <tr>\n      <th>Meryl Streep</th>\n      <td>181.454545</td>\n      <td>59.919727</td>\n      <td>73545.545455</td>\n      <td>297.181818</td>\n      <td>34.454545</td>\n      <td>2003.545455</td>\n      <td>6.745455</td>\n      <td>2934.090909</td>\n      <td>25.465182</td>\n    </tr>\n  </tbody>\n</table>\n</div>"
     },
     "metadata": {},
     "execution_count": 282
    }
   ],
   "source": [
    "# Write the code for finding the mean of critic reviews and audience reviews here\n",
    "Combined.groupby('actor_1_name').mean()"
   ]
  },
  {
   "cell_type": "markdown",
   "metadata": {},
   "source": [
    "#### <font color='red'>Question 8: Which actor is highest rated among the three actors according to the user reviews? </font>\n",
    "-  <font color='red'>Meryl Streep</font>\n",
    "-  <font color='red'>Leonardo DiCaprio</font>\n",
    "-  <font color='red'>Brad Pitt</font>"
   ]
  },
  {
   "cell_type": "markdown",
   "metadata": {},
   "source": [
    "#### <font color='red'>Question 9: Which actor is highest rated among the three actors according to the critics?</font>\n",
    "-  <font color='red'>Meryl Streep</font>\n",
    "-  <font color='red'>Leonardo DiCaprio</font>\n",
    "-  <font color='red'>Brad Pitt</font>"
   ]
  },
  {
   "cell_type": "code",
   "execution_count": null,
   "metadata": {},
   "outputs": [],
   "source": []
  }
 ],
 "metadata": {
  "kernelspec": {
   "name": "python391jvsc74a57bd07675d0e63ec7415c5dbace68f8d7c4b2779c413b4c07fbad1925e2ff0d5375c0",
   "display_name": "Python 3.9.1 64-bit"
  },
  "language_info": {
   "codemirror_mode": {
    "name": "ipython",
    "version": 3
   },
   "file_extension": ".py",
   "mimetype": "text/x-python",
   "name": "python",
   "nbconvert_exporter": "python",
   "pygments_lexer": "ipython3",
   "version": "3.9.1"
  },
  "metadata": {
   "interpreter": {
    "hash": "7675d0e63ec7415c5dbace68f8d7c4b2779c413b4c07fbad1925e2ff0d5375c0"
   }
  }
 },
 "nbformat": 4,
 "nbformat_minor": 2
}