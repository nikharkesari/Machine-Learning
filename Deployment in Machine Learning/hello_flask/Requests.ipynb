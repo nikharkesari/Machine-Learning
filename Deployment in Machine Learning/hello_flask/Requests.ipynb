{
 "metadata": {
  "language_info": {
   "codemirror_mode": {
    "name": "ipython",
    "version": 3
   },
   "file_extension": ".py",
   "mimetype": "text/x-python",
   "name": "python",
   "nbconvert_exporter": "python",
   "pygments_lexer": "ipython3",
   "version": "3.9.1"
  },
  "orig_nbformat": 4,
  "kernelspec": {
   "name": "python3",
   "display_name": "Python 3.9.1 64-bit"
  },
  "interpreter": {
   "hash": "7675d0e63ec7415c5dbace68f8d7c4b2779c413b4c07fbad1925e2ff0d5375c0"
  }
 },
 "nbformat": 4,
 "nbformat_minor": 2,
 "cells": [
  {
   "cell_type": "code",
   "execution_count": 1,
   "metadata": {},
   "outputs": [
    {
     "output_type": "execute_result",
     "data": {
      "text/plain": [
       "{'message': 'Hello, World!'}"
      ]
     },
     "metadata": {},
     "execution_count": 1
    }
   ],
   "source": [
    "import requests\n",
    "response=requests.get('http://127.0.0.1:5000/')\n",
    "response.json()"
   ]
  },
  {
   "cell_type": "code",
   "execution_count": 2,
   "metadata": {},
   "outputs": [
    {
     "output_type": "execute_result",
     "data": {
      "text/plain": [
       "{'marks': [{'maths': '88', 'name': 'Rahul'},\n",
       "  {'maths': '80', 'name': 'Sachin'},\n",
       "  {'maths': '96', 'name': 'Virat'},\n",
       "  {'maths': '89', 'name': 'Rohit'}]}"
      ]
     },
     "metadata": {},
     "execution_count": 2
    }
   ],
   "source": [
    "response=requests.get('http://127.0.0.1:5000/marks')\n",
    "response.json()"
   ]
  },
  {
   "cell_type": "code",
   "execution_count": 3,
   "metadata": {},
   "outputs": [
    {
     "output_type": "execute_result",
     "data": {
      "text/plain": [
       "{'marks': [{'maths': '88', 'name': 'Rahul'},\n",
       "  {'maths': '80', 'name': 'Sachin'},\n",
       "  {'maths': '96', 'name': 'Virat'},\n",
       "  {'maths': '89', 'name': 'Rohit'},\n",
       "  {'maths': 100, 'name': 'Nikhar'}]}"
      ]
     },
     "metadata": {},
     "execution_count": 3
    }
   ],
   "source": [
    "response=requests.post('http://127.0.0.1:5000/marks', json={'name':'Nikhar','maths':100})\n",
    "response.json()"
   ]
  },
  {
   "cell_type": "code",
   "execution_count": null,
   "metadata": {},
   "outputs": [],
   "source": []
  }
 ]
}